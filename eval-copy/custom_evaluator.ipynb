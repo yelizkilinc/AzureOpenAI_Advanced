{
  "cells": [
    {
      "cell_type": "code",
      "source": [
        "pip install promptflow"
      ],
      "outputs": [
        {
          "output_type": "stream",
          "name": "stdout",
          "text": "Requirement already satisfied: promptflow in /anaconda/envs/azureml_py310_sdkv2/lib/python3.10/site-packages (1.18.0)\nRequirement already satisfied: promptflow-tracing==1.18.0 in /anaconda/envs/azureml_py310_sdkv2/lib/python3.10/site-packages (from promptflow) (1.18.0)\nRequirement already satisfied: promptflow-core==1.18.0 in /anaconda/envs/azureml_py310_sdkv2/lib/python3.10/site-packages (from promptflow) (1.18.0)\nRequirement already satisfied: promptflow-devkit==1.18.0 in /anaconda/envs/azureml_py310_sdkv2/lib/python3.10/site-packages (from promptflow) (1.18.0)\nRequirement already satisfied: docstring_parser in /anaconda/envs/azureml_py310_sdkv2/lib/python3.10/site-packages (from promptflow-core==1.18.0->promptflow) (0.16)\nRequirement already satisfied: fastapi<1.0.0,>=0.109.0 in /anaconda/envs/azureml_py310_sdkv2/lib/python3.10/site-packages (from promptflow-core==1.18.0->promptflow) (0.115.12)\nRequirement already satisfied: filetype>=1.2.0 in /anaconda/envs/azureml_py310_sdkv2/lib/python3.10/site-packages (from promptflow-core==1.18.0->promptflow) (1.2.0)\nRequirement already satisfied: flask<4.0.0,>=2.2.3 in /anaconda/envs/azureml_py310_sdkv2/lib/python3.10/site-packages (from promptflow-core==1.18.0->promptflow) (3.1.0)\nRequirement already satisfied: jsonschema<5.0.0,>=4.0.0 in /anaconda/envs/azureml_py310_sdkv2/lib/python3.10/site-packages (from promptflow-core==1.18.0->promptflow) (4.23.0)\nRequirement already satisfied: psutil in /anaconda/envs/azureml_py310_sdkv2/lib/python3.10/site-packages (from promptflow-core==1.18.0->promptflow) (5.9.1)\nRequirement already satisfied: python-dateutil<3.0.0,>=2.1.0 in /anaconda/envs/azureml_py310_sdkv2/lib/python3.10/site-packages (from promptflow-core==1.18.0->promptflow) (2.9.0.post0)\nRequirement already satisfied: ruamel.yaml<1.0.0,>=0.17.10 in /anaconda/envs/azureml_py310_sdkv2/lib/python3.10/site-packages (from promptflow-core==1.18.0->promptflow) (0.18.14)\nRequirement already satisfied: argcomplete>=3.2.3 in /anaconda/envs/azureml_py310_sdkv2/lib/python3.10/site-packages (from promptflow-devkit==1.18.0->promptflow) (3.6.2)\nRequirement already satisfied: azure-monitor-opentelemetry-exporter<2.0.0,>=1.0.0b21 in /anaconda/envs/azureml_py310_sdkv2/lib/python3.10/site-packages (from promptflow-devkit==1.18.0->promptflow) (1.0.0b36)\nRequirement already satisfied: colorama<0.5.0,>=0.4.6 in /anaconda/envs/azureml_py310_sdkv2/lib/python3.10/site-packages (from promptflow-devkit==1.18.0->promptflow) (0.4.6)\nRequirement already satisfied: cryptography>=42.0.4 in /anaconda/envs/azureml_py310_sdkv2/lib/python3.10/site-packages (from promptflow-devkit==1.18.0->promptflow) (44.0.2)\nRequirement already satisfied: filelock<4.0.0,>=3.4.0 in /anaconda/envs/azureml_py310_sdkv2/lib/python3.10/site-packages (from promptflow-devkit==1.18.0->promptflow) (3.18.0)\nRequirement already satisfied: flask-cors<6.0.0,>=5.0.0 in /anaconda/envs/azureml_py310_sdkv2/lib/python3.10/site-packages (from promptflow-devkit==1.18.0->promptflow) (5.0.1)\nRequirement already satisfied: flask-restx<2.0.0,>=1.2.0 in /anaconda/envs/azureml_py310_sdkv2/lib/python3.10/site-packages (from promptflow-devkit==1.18.0->promptflow) (1.3.0)\nRequirement already satisfied: gitpython<4.0.0,>=3.1.24 in /anaconda/envs/azureml_py310_sdkv2/lib/python3.10/site-packages (from promptflow-devkit==1.18.0->promptflow) (3.1.44)\nRequirement already satisfied: httpx>=0.25.1 in /anaconda/envs/azureml_py310_sdkv2/lib/python3.10/site-packages (from promptflow-devkit==1.18.0->promptflow) (0.28.1)\nRequirement already satisfied: keyring<25.0.0,>=24.2.0 in /anaconda/envs/azureml_py310_sdkv2/lib/python3.10/site-packages (from promptflow-devkit==1.18.0->promptflow) (24.3.1)\nRequirement already satisfied: marshmallow<4.0.0,>=3.5 in /anaconda/envs/azureml_py310_sdkv2/lib/python3.10/site-packages (from promptflow-devkit==1.18.0->promptflow) (3.26.1)\nRequirement already satisfied: opentelemetry-exporter-otlp-proto-http<2.0.0,>=1.22.0 in /anaconda/envs/azureml_py310_sdkv2/lib/python3.10/site-packages (from promptflow-devkit==1.18.0->promptflow) (1.34.0)\nRequirement already satisfied: pandas<3.0.0,>=1.5.3 in /anaconda/envs/azureml_py310_sdkv2/lib/python3.10/site-packages (from promptflow-devkit==1.18.0->promptflow) (2.3.0)\nRequirement already satisfied: pillow<11.1.0,>=10.1.0 in /anaconda/envs/azureml_py310_sdkv2/lib/python3.10/site-packages (from promptflow-devkit==1.18.0->promptflow) (11.0.0)\nRequirement already satisfied: pydash<8.0.0,>=6.0.0 in /anaconda/envs/azureml_py310_sdkv2/lib/python3.10/site-packages (from promptflow-devkit==1.18.0->promptflow) (7.0.7)\nRequirement already satisfied: python-dotenv<2.0.0,>=1.0.0 in /anaconda/envs/azureml_py310_sdkv2/lib/python3.10/site-packages (from promptflow-devkit==1.18.0->promptflow) (1.1.0)\nRequirement already satisfied: sqlalchemy<3.0.0,>=1.4.48 in /anaconda/envs/azureml_py310_sdkv2/lib/python3.10/site-packages (from promptflow-devkit==1.18.0->promptflow) (2.0.40)\nRequirement already satisfied: strictyaml<2.0.0,>=1.5.0 in /anaconda/envs/azureml_py310_sdkv2/lib/python3.10/site-packages (from promptflow-devkit==1.18.0->promptflow) (1.7.3)\nRequirement already satisfied: tabulate<1.0.0,>=0.9.0 in /anaconda/envs/azureml_py310_sdkv2/lib/python3.10/site-packages (from promptflow-devkit==1.18.0->promptflow) (0.9.0)\nRequirement already satisfied: waitress<4.0.0,>=3.0.0 in /anaconda/envs/azureml_py310_sdkv2/lib/python3.10/site-packages (from promptflow-devkit==1.18.0->promptflow) (3.0.2)\nRequirement already satisfied: openai in /anaconda/envs/azureml_py310_sdkv2/lib/python3.10/site-packages (from promptflow-tracing==1.18.0->promptflow) (1.84.0)\nRequirement already satisfied: opentelemetry-sdk<2.0.0,>=1.22.0 in /anaconda/envs/azureml_py310_sdkv2/lib/python3.10/site-packages (from promptflow-tracing==1.18.0->promptflow) (1.34.0)\nRequirement already satisfied: tiktoken>=0.4.0 in /anaconda/envs/azureml_py310_sdkv2/lib/python3.10/site-packages (from promptflow-tracing==1.18.0->promptflow) (0.9.0)\nRequirement already satisfied: azure-core<2.0.0,>=1.28.0 in /anaconda/envs/azureml_py310_sdkv2/lib/python3.10/site-packages (from azure-monitor-opentelemetry-exporter<2.0.0,>=1.0.0b21->promptflow-devkit==1.18.0->promptflow) (1.33.0)\nRequirement already satisfied: azure-identity~=1.17 in /anaconda/envs/azureml_py310_sdkv2/lib/python3.10/site-packages (from azure-monitor-opentelemetry-exporter<2.0.0,>=1.0.0b21->promptflow-devkit==1.18.0->promptflow) (1.21.0)\nRequirement already satisfied: fixedint==0.1.6 in /anaconda/envs/azureml_py310_sdkv2/lib/python3.10/site-packages (from azure-monitor-opentelemetry-exporter<2.0.0,>=1.0.0b21->promptflow-devkit==1.18.0->promptflow) (0.1.6)\nRequirement already satisfied: msrest>=0.6.10 in /anaconda/envs/azureml_py310_sdkv2/lib/python3.10/site-packages (from azure-monitor-opentelemetry-exporter<2.0.0,>=1.0.0b21->promptflow-devkit==1.18.0->promptflow) (0.7.1)\nRequirement already satisfied: opentelemetry-api~=1.26 in /anaconda/envs/azureml_py310_sdkv2/lib/python3.10/site-packages (from azure-monitor-opentelemetry-exporter<2.0.0,>=1.0.0b21->promptflow-devkit==1.18.0->promptflow) (1.34.0)\nRequirement already satisfied: cffi>=1.12 in /anaconda/envs/azureml_py310_sdkv2/lib/python3.10/site-packages (from cryptography>=42.0.4->promptflow-devkit==1.18.0->promptflow) (1.17.1)\nRequirement already satisfied: starlette<0.47.0,>=0.40.0 in /anaconda/envs/azureml_py310_sdkv2/lib/python3.10/site-packages (from fastapi<1.0.0,>=0.109.0->promptflow-core==1.18.0->promptflow) (0.46.2)\nRequirement already satisfied: pydantic!=1.8,!=1.8.1,!=2.0.0,!=2.0.1,!=2.1.0,<3.0.0,>=1.7.4 in /anaconda/envs/azureml_py310_sdkv2/lib/python3.10/site-packages (from fastapi<1.0.0,>=0.109.0->promptflow-core==1.18.0->promptflow) (2.11.3)\nRequirement already satisfied: typing-extensions>=4.8.0 in /anaconda/envs/azureml_py310_sdkv2/lib/python3.10/site-packages (from fastapi<1.0.0,>=0.109.0->promptflow-core==1.18.0->promptflow) (4.13.2)\nRequirement already satisfied: Werkzeug>=3.1 in /anaconda/envs/azureml_py310_sdkv2/lib/python3.10/site-packages (from flask<4.0.0,>=2.2.3->promptflow-core==1.18.0->promptflow) (3.1.3)\nRequirement already satisfied: Jinja2>=3.1.2 in /anaconda/envs/azureml_py310_sdkv2/lib/python3.10/site-packages (from flask<4.0.0,>=2.2.3->promptflow-core==1.18.0->promptflow) (3.1.6)\nRequirement already satisfied: itsdangerous>=2.2 in /anaconda/envs/azureml_py310_sdkv2/lib/python3.10/site-packages (from flask<4.0.0,>=2.2.3->promptflow-core==1.18.0->promptflow) (2.2.0)\nRequirement already satisfied: click>=8.1.3 in /anaconda/envs/azureml_py310_sdkv2/lib/python3.10/site-packages (from flask<4.0.0,>=2.2.3->promptflow-core==1.18.0->promptflow) (8.1.8)\nRequirement already satisfied: blinker>=1.9 in /anaconda/envs/azureml_py310_sdkv2/lib/python3.10/site-packages (from flask<4.0.0,>=2.2.3->promptflow-core==1.18.0->promptflow) (1.9.0)\nRequirement already satisfied: aniso8601>=0.82 in /anaconda/envs/azureml_py310_sdkv2/lib/python3.10/site-packages (from flask-restx<2.0.0,>=1.2.0->promptflow-devkit==1.18.0->promptflow) (10.0.1)\nRequirement already satisfied: pytz in /anaconda/envs/azureml_py310_sdkv2/lib/python3.10/site-packages (from flask-restx<2.0.0,>=1.2.0->promptflow-devkit==1.18.0->promptflow) (2025.2)\nRequirement already satisfied: importlib-resources in /anaconda/envs/azureml_py310_sdkv2/lib/python3.10/site-packages (from flask-restx<2.0.0,>=1.2.0->promptflow-devkit==1.18.0->promptflow) (6.5.2)\nRequirement already satisfied: gitdb<5,>=4.0.1 in /anaconda/envs/azureml_py310_sdkv2/lib/python3.10/site-packages (from gitpython<4.0.0,>=3.1.24->promptflow-devkit==1.18.0->promptflow) (4.0.12)\nRequirement already satisfied: anyio in /anaconda/envs/azureml_py310_sdkv2/lib/python3.10/site-packages (from httpx>=0.25.1->promptflow-devkit==1.18.0->promptflow) (4.9.0)\nRequirement already satisfied: certifi in /anaconda/envs/azureml_py310_sdkv2/lib/python3.10/site-packages (from httpx>=0.25.1->promptflow-devkit==1.18.0->promptflow) (2025.1.31)\nRequirement already satisfied: httpcore==1.* in /anaconda/envs/azureml_py310_sdkv2/lib/python3.10/site-packages (from httpx>=0.25.1->promptflow-devkit==1.18.0->promptflow) (1.0.9)\nRequirement already satisfied: idna in /anaconda/envs/azureml_py310_sdkv2/lib/python3.10/site-packages (from httpx>=0.25.1->promptflow-devkit==1.18.0->promptflow) (3.10)\nRequirement already satisfied: h11>=0.16 in /anaconda/envs/azureml_py310_sdkv2/lib/python3.10/site-packages (from httpcore==1.*->httpx>=0.25.1->promptflow-devkit==1.18.0->promptflow) (0.16.0)\nRequirement already satisfied: attrs>=22.2.0 in /anaconda/envs/azureml_py310_sdkv2/lib/python3.10/site-packages (from jsonschema<5.0.0,>=4.0.0->promptflow-core==1.18.0->promptflow) (25.3.0)\nRequirement already satisfied: jsonschema-specifications>=2023.03.6 in /anaconda/envs/azureml_py310_sdkv2/lib/python3.10/site-packages (from jsonschema<5.0.0,>=4.0.0->promptflow-core==1.18.0->promptflow) (2024.10.1)\nRequirement already satisfied: referencing>=0.28.4 in /anaconda/envs/azureml_py310_sdkv2/lib/python3.10/site-packages (from jsonschema<5.0.0,>=4.0.0->promptflow-core==1.18.0->promptflow) (0.36.2)\nRequirement already satisfied: rpds-py>=0.7.1 in /anaconda/envs/azureml_py310_sdkv2/lib/python3.10/site-packages (from jsonschema<5.0.0,>=4.0.0->promptflow-core==1.18.0->promptflow) (0.24.0)\nRequirement already satisfied: jaraco.classes in /anaconda/envs/azureml_py310_sdkv2/lib/python3.10/site-packages (from keyring<25.0.0,>=24.2.0->promptflow-devkit==1.18.0->promptflow) (3.4.0)\nRequirement already satisfied: importlib-metadata>=4.11.4 in /anaconda/envs/azureml_py310_sdkv2/lib/python3.10/site-packages (from keyring<25.0.0,>=24.2.0->promptflow-devkit==1.18.0->promptflow) (8.6.1)\nRequirement already satisfied: SecretStorage>=3.2 in /anaconda/envs/azureml_py310_sdkv2/lib/python3.10/site-packages (from keyring<25.0.0,>=24.2.0->promptflow-devkit==1.18.0->promptflow) (3.3.3)\nRequirement already satisfied: jeepney>=0.4.2 in /anaconda/envs/azureml_py310_sdkv2/lib/python3.10/site-packages (from keyring<25.0.0,>=24.2.0->promptflow-devkit==1.18.0->promptflow) (0.9.0)\nRequirement already satisfied: packaging>=17.0 in /anaconda/envs/azureml_py310_sdkv2/lib/python3.10/site-packages (from marshmallow<4.0.0,>=3.5->promptflow-devkit==1.18.0->promptflow) (25.0)\nRequirement already satisfied: googleapis-common-protos~=1.52 in /anaconda/envs/azureml_py310_sdkv2/lib/python3.10/site-packages (from opentelemetry-exporter-otlp-proto-http<2.0.0,>=1.22.0->promptflow-devkit==1.18.0->promptflow) (1.70.0)\nRequirement already satisfied: opentelemetry-exporter-otlp-proto-common==1.34.0 in /anaconda/envs/azureml_py310_sdkv2/lib/python3.10/site-packages (from opentelemetry-exporter-otlp-proto-http<2.0.0,>=1.22.0->promptflow-devkit==1.18.0->promptflow) (1.34.0)\nRequirement already satisfied: opentelemetry-proto==1.34.0 in /anaconda/envs/azureml_py310_sdkv2/lib/python3.10/site-packages (from opentelemetry-exporter-otlp-proto-http<2.0.0,>=1.22.0->promptflow-devkit==1.18.0->promptflow) (1.34.0)\nRequirement already satisfied: requests~=2.7 in /anaconda/envs/azureml_py310_sdkv2/lib/python3.10/site-packages (from opentelemetry-exporter-otlp-proto-http<2.0.0,>=1.22.0->promptflow-devkit==1.18.0->promptflow) (2.32.3)\nRequirement already satisfied: protobuf<6.0,>=5.0 in /anaconda/envs/azureml_py310_sdkv2/lib/python3.10/site-packages (from opentelemetry-proto==1.34.0->opentelemetry-exporter-otlp-proto-http<2.0.0,>=1.22.0->promptflow-devkit==1.18.0->promptflow) (5.29.4)\nRequirement already satisfied: opentelemetry-semantic-conventions==0.55b0 in /anaconda/envs/azureml_py310_sdkv2/lib/python3.10/site-packages (from opentelemetry-sdk<2.0.0,>=1.22.0->promptflow-tracing==1.18.0->promptflow) (0.55b0)\nRequirement already satisfied: numpy>=1.22.4 in /anaconda/envs/azureml_py310_sdkv2/lib/python3.10/site-packages (from pandas<3.0.0,>=1.5.3->promptflow-devkit==1.18.0->promptflow) (1.23.5)\nRequirement already satisfied: tzdata>=2022.7 in /anaconda/envs/azureml_py310_sdkv2/lib/python3.10/site-packages (from pandas<3.0.0,>=1.5.3->promptflow-devkit==1.18.0->promptflow) (2025.2)\nRequirement already satisfied: six>=1.5 in /anaconda/envs/azureml_py310_sdkv2/lib/python3.10/site-packages (from python-dateutil<3.0.0,>=2.1.0->promptflow-core==1.18.0->promptflow) (1.17.0)\nRequirement already satisfied: ruamel.yaml.clib>=0.2.7 in /anaconda/envs/azureml_py310_sdkv2/lib/python3.10/site-packages (from ruamel.yaml<1.0.0,>=0.17.10->promptflow-core==1.18.0->promptflow) (0.2.12)\nRequirement already satisfied: greenlet>=1 in /anaconda/envs/azureml_py310_sdkv2/lib/python3.10/site-packages (from sqlalchemy<3.0.0,>=1.4.48->promptflow-devkit==1.18.0->promptflow) (3.2.1)\nRequirement already satisfied: regex>=2022.1.18 in /anaconda/envs/azureml_py310_sdkv2/lib/python3.10/site-packages (from tiktoken>=0.4.0->promptflow-tracing==1.18.0->promptflow) (2024.11.6)\nRequirement already satisfied: distro<2,>=1.7.0 in /anaconda/envs/azureml_py310_sdkv2/lib/python3.10/site-packages (from openai->promptflow-tracing==1.18.0->promptflow) (1.9.0)\nRequirement already satisfied: jiter<1,>=0.4.0 in /anaconda/envs/azureml_py310_sdkv2/lib/python3.10/site-packages (from openai->promptflow-tracing==1.18.0->promptflow) (0.10.0)\nRequirement already satisfied: sniffio in /anaconda/envs/azureml_py310_sdkv2/lib/python3.10/site-packages (from openai->promptflow-tracing==1.18.0->promptflow) (1.3.1)\nRequirement already satisfied: tqdm>4 in /anaconda/envs/azureml_py310_sdkv2/lib/python3.10/site-packages (from openai->promptflow-tracing==1.18.0->promptflow) (4.67.1)\nRequirement already satisfied: exceptiongroup>=1.0.2 in /anaconda/envs/azureml_py310_sdkv2/lib/python3.10/site-packages (from anyio->httpx>=0.25.1->promptflow-devkit==1.18.0->promptflow) (1.2.2)\nRequirement already satisfied: msal>=1.30.0 in /anaconda/envs/azureml_py310_sdkv2/lib/python3.10/site-packages (from azure-identity~=1.17->azure-monitor-opentelemetry-exporter<2.0.0,>=1.0.0b21->promptflow-devkit==1.18.0->promptflow) (1.32.0)\nRequirement already satisfied: msal-extensions>=1.2.0 in /anaconda/envs/azureml_py310_sdkv2/lib/python3.10/site-packages (from azure-identity~=1.17->azure-monitor-opentelemetry-exporter<2.0.0,>=1.0.0b21->promptflow-devkit==1.18.0->promptflow) (1.3.1)\nRequirement already satisfied: pycparser in /anaconda/envs/azureml_py310_sdkv2/lib/python3.10/site-packages (from cffi>=1.12->cryptography>=42.0.4->promptflow-devkit==1.18.0->promptflow) (2.22)\nRequirement already satisfied: smmap<6,>=3.0.1 in /anaconda/envs/azureml_py310_sdkv2/lib/python3.10/site-packages (from gitdb<5,>=4.0.1->gitpython<4.0.0,>=3.1.24->promptflow-devkit==1.18.0->promptflow) (5.0.2)\nRequirement already satisfied: zipp>=3.20 in /anaconda/envs/azureml_py310_sdkv2/lib/python3.10/site-packages (from importlib-metadata>=4.11.4->keyring<25.0.0,>=24.2.0->promptflow-devkit==1.18.0->promptflow) (3.21.0)\nRequirement already satisfied: MarkupSafe>=2.0 in /anaconda/envs/azureml_py310_sdkv2/lib/python3.10/site-packages (from Jinja2>=3.1.2->flask<4.0.0,>=2.2.3->promptflow-core==1.18.0->promptflow) (3.0.2)\nRequirement already satisfied: isodate>=0.6.0 in /anaconda/envs/azureml_py310_sdkv2/lib/python3.10/site-packages (from msrest>=0.6.10->azure-monitor-opentelemetry-exporter<2.0.0,>=1.0.0b21->promptflow-devkit==1.18.0->promptflow) (0.7.2)\nRequirement already satisfied: requests-oauthlib>=0.5.0 in /anaconda/envs/azureml_py310_sdkv2/lib/python3.10/site-packages (from msrest>=0.6.10->azure-monitor-opentelemetry-exporter<2.0.0,>=1.0.0b21->promptflow-devkit==1.18.0->promptflow) (2.0.0)\nRequirement already satisfied: annotated-types>=0.6.0 in /anaconda/envs/azureml_py310_sdkv2/lib/python3.10/site-packages (from pydantic!=1.8,!=1.8.1,!=2.0.0,!=2.0.1,!=2.1.0,<3.0.0,>=1.7.4->fastapi<1.0.0,>=0.109.0->promptflow-core==1.18.0->promptflow) (0.7.0)\nRequirement already satisfied: pydantic-core==2.33.1 in /anaconda/envs/azureml_py310_sdkv2/lib/python3.10/site-packages (from pydantic!=1.8,!=1.8.1,!=2.0.0,!=2.0.1,!=2.1.0,<3.0.0,>=1.7.4->fastapi<1.0.0,>=0.109.0->promptflow-core==1.18.0->promptflow) (2.33.1)\nRequirement already satisfied: typing-inspection>=0.4.0 in /anaconda/envs/azureml_py310_sdkv2/lib/python3.10/site-packages (from pydantic!=1.8,!=1.8.1,!=2.0.0,!=2.0.1,!=2.1.0,<3.0.0,>=1.7.4->fastapi<1.0.0,>=0.109.0->promptflow-core==1.18.0->promptflow) (0.4.0)\nRequirement already satisfied: charset-normalizer<4,>=2 in /anaconda/envs/azureml_py310_sdkv2/lib/python3.10/site-packages (from requests~=2.7->opentelemetry-exporter-otlp-proto-http<2.0.0,>=1.22.0->promptflow-devkit==1.18.0->promptflow) (3.4.1)\nRequirement already satisfied: urllib3<3,>=1.21.1 in /anaconda/envs/azureml_py310_sdkv2/lib/python3.10/site-packages (from requests~=2.7->opentelemetry-exporter-otlp-proto-http<2.0.0,>=1.22.0->promptflow-devkit==1.18.0->promptflow) (2.4.0)\nRequirement already satisfied: more-itertools in /anaconda/envs/azureml_py310_sdkv2/lib/python3.10/site-packages (from jaraco.classes->keyring<25.0.0,>=24.2.0->promptflow-devkit==1.18.0->promptflow) (10.7.0)\nRequirement already satisfied: PyJWT<3,>=1.0.0 in /anaconda/envs/azureml_py310_sdkv2/lib/python3.10/site-packages (from PyJWT[crypto]<3,>=1.0.0->msal>=1.30.0->azure-identity~=1.17->azure-monitor-opentelemetry-exporter<2.0.0,>=1.0.0b21->promptflow-devkit==1.18.0->promptflow) (2.10.1)\nRequirement already satisfied: oauthlib>=3.0.0 in /anaconda/envs/azureml_py310_sdkv2/lib/python3.10/site-packages (from requests-oauthlib>=0.5.0->msrest>=0.6.10->azure-monitor-opentelemetry-exporter<2.0.0,>=1.0.0b21->promptflow-devkit==1.18.0->promptflow) (3.2.2)\nNote: you may need to restart the kernel to use updated packages.\n"
        }
      ],
      "execution_count": 1,
      "metadata": {
        "gather": {
          "logged": 1749656547754
        }
      }
    },
    {
      "cell_type": "code",
      "source": [
        "import os\n",
        "from azure.ai.evaluation import AzureOpenAIModelConfiguration\n",
        "from dotenv import load_dotenv\n",
        "load_dotenv()\n",
        "\n",
        "model_config = AzureOpenAIModelConfiguration(\n",
        "    azure_endpoint=\"https://swedencentral-shared-yk.openai.azure.com\",\n",
        "    api_key=\"AoZxzFCuLvMnTS8QXBYkB5Bc3lBQWbjuBfIhcLdcedJu0HuTs16UJQQJ99BDACfhMk5XJ3w3AAABACOGN7nj\",\n",
        "    azure_deployment=\"gpt-4o\",  \n",
        "    api_version= \"2024-02-15-preview\"  \n",
        ")  "
      ],
      "outputs": [],
      "execution_count": 12,
      "metadata": {
        "gather": {
          "logged": 1749726693438
        }
      }
    },
    {
      "cell_type": "code",
      "source": [
        "print(model_config)"
      ],
      "outputs": [
        {
          "output_type": "stream",
          "name": "stdout",
          "text": "{'azure_endpoint': 'https://swedencentral-shared-yk.openai.azure.com', 'api_key': 'AoZxzFCuLvMnTS8QXBYkB5Bc3lBQWbjuBfIhcLdcedJu0HuTs16UJQQJ99BDACfhMk5XJ3w3AAABACOGN7nj', 'azure_deployment': 'gpt-4o', 'api_version': '2024-02-15-preview'}\n"
        }
      ],
      "execution_count": 13,
      "metadata": {
        "gather": {
          "logged": 1749726696785
        }
      }
    },
    {
      "cell_type": "code",
      "source": [
        "from friendliness.friend import FriendlinessEvaluator\n",
        "# Create an instance of the custom evaluator\n",
        "friendliness_eval = FriendlinessEvaluator(model_config)\n",
        "\n",
        "# Test the Neutrality evaluator by evaluating the response\n",
        "friendliness_score = friendliness_eval(response=\"I will not apologize for my behavior!\")\n",
        "\n",
        "print(friendliness_score)"
      ],
      "outputs": [
        {
          "output_type": "stream",
          "name": "stdout",
          "text": "{'score': 2, 'reason': 'The response is mostly unfriendly and defensive, lacking warmth or approachability.'}\n"
        }
      ],
      "execution_count": 14,
      "metadata": {
        "gather": {
          "logged": 1749726701851
        }
      }
    },
    {
      "cell_type": "code",
      "source": [
        "from answer_len.answer_length import AnswerLengthEvaluator\n",
        "\n",
        "answer_length_evaluator = AnswerLengthEvaluator()\n",
        "answer_length = answer_length_evaluator(answer=\"What is the speed of light?\")"
      ],
      "outputs": [],
      "execution_count": 5,
      "metadata": {
        "gather": {
          "logged": 1749722826770
        }
      }
    },
    {
      "cell_type": "code",
      "source": [
        "print(answer_length)"
      ],
      "outputs": [
        {
          "output_type": "stream",
          "name": "stdout",
          "text": "{'answer_length': 27}\n"
        }
      ],
      "execution_count": 6,
      "metadata": {
        "gather": {
          "logged": 1749722838503
        }
      }
    },
    {
      "cell_type": "code",
      "source": [],
      "outputs": [],
      "execution_count": null,
      "metadata": {}
    }
  ],
  "metadata": {
    "kernelspec": {
      "name": "python310-sdkv2",
      "language": "python",
      "display_name": "Python 3.10 - SDK v2"
    },
    "language_info": {
      "name": "python",
      "version": "3.10.16",
      "mimetype": "text/x-python",
      "codemirror_mode": {
        "name": "ipython",
        "version": 3
      },
      "pygments_lexer": "ipython3",
      "nbconvert_exporter": "python",
      "file_extension": ".py"
    },
    "microsoft": {
      "ms_spell_check": {
        "ms_spell_check_language": "en"
      },
      "host": {
        "AzureML": {
          "notebookHasBeenCompleted": true
        }
      }
    },
    "kernel_info": {
      "name": "python310-sdkv2"
    },
    "nteract": {
      "version": "nteract-front-end@1.0.0"
    }
  },
  "nbformat": 4,
  "nbformat_minor": 2
}