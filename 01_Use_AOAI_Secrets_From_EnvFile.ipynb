{
  "cells": [
    {
      "cell_type": "code",
      "source": [
        "import os \n",
        "import openai \n",
        "from openai import AzureOpenAI \n",
        "from dotenv import load_dotenv \n",
        "load_dotenv(\"credentials.env\") \n",
        "openai.api_type = \"azure\" \n",
        "\n",
        "client = AzureOpenAI( \n",
        "    api_key=os.getenv(\"AZURE_OPENAI_API_KEY\"), \n",
        "    api_version=\"2025-01-01-preview\", \n",
        "    azure_endpoint=os.getenv(\"AZURE_OPENAI_ENDPOINT\") ) \n",
        "    \n",
        "deployment_name = 'gpt-4o' # Your gpt-4o deployment name \n",
        "print('Sending a test chat completion job') \n",
        "messages = [ {\"role\": \"user\", \"content\": \"Tagline for an ice cream shop:\"} ] \n",
        "response = client.chat.completions.create( model=deployment_name, messages=messages, max_tokens=15 ) \n",
        "print(response.choices[0].message.content.strip()) "
      ],
      "outputs": [
        {
          "output_type": "stream",
          "name": "stdout",
          "text": "Sending a test chat completion job\n\"Scoop Up Happiness, One Cone at a Time!\"\n"
        }
      ],
      "execution_count": 4,
      "metadata": {
        "jupyter": {
          "source_hidden": false,
          "outputs_hidden": false
        },
        "nteract": {
          "transient": {
            "deleting": false
          }
        },
        "gather": {
          "logged": 1749760798521
        }
      }
    },
    {
      "cell_type": "code",
      "source": [],
      "outputs": [],
      "execution_count": null,
      "metadata": {
        "jupyter": {
          "source_hidden": false,
          "outputs_hidden": false
        },
        "nteract": {
          "transient": {
            "deleting": false
          }
        }
      }
    }
  ],
  "metadata": {
    "kernelspec": {
      "name": "python310-sdkv2",
      "language": "python",
      "display_name": "Python 3.10 - SDK v2"
    },
    "language_info": {
      "name": "python",
      "version": "3.10.16",
      "mimetype": "text/x-python",
      "codemirror_mode": {
        "name": "ipython",
        "version": 3
      },
      "pygments_lexer": "ipython3",
      "nbconvert_exporter": "python",
      "file_extension": ".py"
    },
    "microsoft": {
      "ms_spell_check": {
        "ms_spell_check_language": "en"
      },
      "host": {
        "AzureML": {
          "notebookHasBeenCompleted": true
        }
      }
    },
    "kernel_info": {
      "name": "python310-sdkv2"
    },
    "nteract": {
      "version": "nteract-front-end@1.0.0"
    }
  },
  "nbformat": 4,
  "nbformat_minor": 2
}