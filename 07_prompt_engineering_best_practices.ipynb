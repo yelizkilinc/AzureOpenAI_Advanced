{
  "cells": [
    {
      "cell_type": "code",
      "source": [
        "# import openai\n",
        "# from openai import AzureOpenAI\n",
        "# import os \n",
        "# from azure.identity import ManagedIdentityCredential\n",
        "\n",
        "# default_credential=ManagedIdentityCredential(client_id=\"XXX\")\n",
        "# token=default_credential.get_token(\"https://cognitiveservices.azure.com/.default\")\n",
        "# Resource_endpoint=\"XXX\"\n",
        "\n",
        "# client = AzureOpenAI(\n",
        "#   azure_endpoint = Resource_endpoint, \n",
        "#   api_key=token.token,  \n",
        "#   api_version=\"2023-05-15\"\n",
        "# )"
      ],
      "outputs": [],
      "execution_count": 14,
      "metadata": {
        "jupyter": {
          "source_hidden": false,
          "outputs_hidden": false
        },
        "nteract": {
          "transient": {
            "deleting": false
          }
        },
        "gather": {
          "logged": 1720097684406
        }
      }
    },
    {
      "cell_type": "code",
      "source": [
        "import os\n",
        "import openai\n",
        "from openai import AzureOpenAI\n",
        "from dotenv import load_dotenv\n",
        "\n",
        "# Set up Azure OpenAI\n",
        "load_dotenv(\"credentials.env\")\n",
        "\n",
        "openai.api_type = \"azure\"\n",
        "    \n",
        "client = AzureOpenAI(\n",
        "    api_key=os.getenv(\"AZURE_OPENAI_KEY\"),  \n",
        "    api_version=\"2024-02-01\",\n",
        "    azure_endpoint = os.getenv(\"AZURE_OPENAI_ENDPOINT\")\n",
        "    )"
      ],
      "outputs": [],
      "execution_count": 1,
      "metadata": {
        "jupyter": {
          "source_hidden": false,
          "outputs_hidden": false
        },
        "nteract": {
          "transient": {
            "deleting": false
          }
        },
        "gather": {
          "logged": 1749754770191
        }
      }
    },
    {
      "cell_type": "code",
      "source": [
        "print(os.getenv(\"AZURE_OPENAI_ENDPOINT\"))"
      ],
      "outputs": [
        {
          "output_type": "stream",
          "name": "stdout",
          "text": "https://swedencentral-shared-yk.openai.azure.com\n"
        }
      ],
      "execution_count": 2,
      "metadata": {
        "jupyter": {
          "source_hidden": false,
          "outputs_hidden": false
        },
        "nteract": {
          "transient": {
            "deleting": false
          }
        },
        "gather": {
          "logged": 1749754771584
        }
      }
    },
    {
      "cell_type": "markdown",
      "source": [
        "## 1. Understand the AOAI Models' capabilities. Start with the latest model, prove your idea , then test with smaller models. \n",
        "Model size is critical for better performance."
      ],
      "metadata": {
        "nteract": {
          "transient": {
            "deleting": false
          }
        }
      }
    },
    {
      "cell_type": "markdown",
      "source": [
        "## 2. Be specific, descriptive and as detailed as possible about the desired context, outcome, length, format, style, etc"
      ],
      "metadata": {
        "nteract": {
          "transient": {
            "deleting": false
          }
        }
      }
    },
    {
      "cell_type": "markdown",
      "source": [
        "** Length ** control (specify desired output length e.g.: number of words)\n",
        "\n",
        "** Tone ** control (e.g.: polite, passionate, professional, technical, funny, casual, serious etc.)\n",
        "\n",
        "** Style ** control (e.g.: in the style of Shakespeare, JK Rowling, Nelson Mandela etc.)\n",
        "\n",
        "** Audience ** control (e.g.: a 5-year-old can understand etc)\n",
        "\n",
        "** Context ** control (e.g.: news, novel, textbook, report, white paper, blog etc.)"
      ],
      "metadata": {
        "nteract": {
          "transient": {
            "deleting": false
          }
        }
      }
    },
    {
      "cell_type": "code",
      "source": [
        "base_system_message = \"You are a helpful assistant.\"\n",
        "system_message = f\"{base_system_message.strip()}\"\n",
        "\n",
        "# This is the first user message that will be sent to the model. Feel free to update this.\n",
        "user_message = \" Write a 2 paragraph inspiring poem which can be understood by 5 years-old child focussing on pensions.\"\n",
        "# Write a 2 paragraph inspiring poem about Nationwide Building Society\n",
        "# Write a 2 paragraph inspiring poem focussing on products of Nationwide Building Society in a funny way\n",
        "# Write a 2 paragraph inspiring poem focussing on products of Nationwide Building Society in the style of Shakespeare"
      ],
      "outputs": [],
      "execution_count": 3,
      "metadata": {
        "jupyter": {
          "source_hidden": false,
          "outputs_hidden": false
        },
        "nteract": {
          "transient": {
            "deleting": false
          }
        },
        "gather": {
          "logged": 1749754779280
        }
      }
    },
    {
      "cell_type": "code",
      "source": [
        "# Instead of appending, writing messages in the SDK\n",
        "response = client.chat.completions.create(\n",
        "    model=\"gpt-4o\", # model = \"deployment_name\".\n",
        "    messages=[\n",
        "        {\"role\": \"system\", \"content\": system_message},\n",
        "        {\"role\": \"user\", \"content\": user_message}\n",
        "    ]\n",
        ")\n",
        "\n",
        "print(response.choices[0].message.content)"
      ],
      "outputs": [
        {
          "output_type": "stream",
          "name": "stdout",
          "text": "A little nest, so safe and warm,  \nGrows big and strong through every storm.  \nEach coin we save, a tiny seed,  \nWill grow to give us all we need.  \nWhen work is done, and play begins,  \nThis secret treasure helps us win!  \n\nSo dream big dreams, let joy arise,  \nThe future sparkles in your eyes.  \nBy saving now, we pave the way,  \nFor happy times in every day.  \nA pension's love is like the sun,  \nIt keeps us shining when work is done!  \n"
        }
      ],
      "execution_count": 5,
      "metadata": {
        "jupyter": {
          "source_hidden": false,
          "outputs_hidden": false
        },
        "nteract": {
          "transient": {
            "deleting": false
          }
        },
        "gather": {
          "logged": 1749754808288
        }
      }
    },
    {
      "cell_type": "markdown",
      "source": [
        "## 3. Put instructions at the begining of the prompt and use ### or \"\"\" to separate the instruction and context"
      ],
      "metadata": {
        "nteract": {
          "transient": {
            "deleting": false
          }
        }
      }
    },
    {
      "cell_type": "markdown",
      "source": [
        "## 4. Articulate the desired output format through examples"
      ],
      "metadata": {
        "nteract": {
          "transient": {
            "deleting": false
          }
        }
      }
    },
    {
      "cell_type": "code",
      "source": [
        "system_message = \"You are a helpful assistant.\""
      ],
      "outputs": [],
      "execution_count": 12,
      "metadata": {
        "jupyter": {
          "source_hidden": false,
          "outputs_hidden": false
        },
        "nteract": {
          "transient": {
            "deleting": false
          }
        },
        "gather": {
          "logged": 1749755020591
        }
      }
    },
    {
      "cell_type": "code",
      "source": [
        "user_message=f\"\"\"Extract the entities mentioned in the text below. \n",
        "First extract all company names, then extract all years, \n",
        "then extract specific topics which fit the content and finally extract general overarching themes\\n\\n \n",
        "Desired format: \n",
        "Company names: <comma_separated_list_of_company_names> \n",
        "Years: \n",
        "Specific topics:\n",
        "General themes: \n",
        "### Text:\n",
        "We’re happy to announce that OpenAI and Microsoft are extending our partnership.\n",
        "This multi-year, multi-billion dollar investment from Microsoft follows their previous investments \n",
        "in 2019 and 2021, and will allow us to continue our independent research and develop AI that is \n",
        "increasingly safe, useful, and powerful. \\n\\n \n",
        "###\n",
        "\"\"\"\n"
      ],
      "outputs": [],
      "execution_count": 13,
      "metadata": {
        "jupyter": {
          "source_hidden": false,
          "outputs_hidden": false
        },
        "nteract": {
          "transient": {
            "deleting": false
          }
        },
        "gather": {
          "logged": 1749755022614
        }
      }
    },
    {
      "cell_type": "code",
      "source": [
        "# Instead of appending, writing messages in the SDK\n",
        "response = client.chat.completions.create(\n",
        "    model=\"gpt-4o\", # model = \"deployment_name\".\n",
        "    messages=[\n",
        "        {\"role\": \"system\", \"content\": system_message},\n",
        "        {\"role\": \"user\", \"content\": user_message}\n",
        "    ]\n",
        ")\n",
        "\n",
        "print(response.choices[0].message.content)"
      ],
      "outputs": [
        {
          "output_type": "stream",
          "name": "stdout",
          "text": "Company names: OpenAI, Microsoft  \nYears: 2019, 2021  \nSpecific topics: AI safety, AI research, independent research, AI development, partnership, investment  \nGeneral themes: Artificial intelligence, technology collaboration, innovation, corporate investment  \n"
        }
      ],
      "execution_count": 14,
      "metadata": {
        "jupyter": {
          "source_hidden": false,
          "outputs_hidden": false
        },
        "nteract": {
          "transient": {
            "deleting": false
          }
        },
        "gather": {
          "logged": 1749755036627
        }
      }
    },
    {
      "cell_type": "markdown",
      "source": [
        "## 5.Start with zero-shot, then few-shot (example)"
      ],
      "metadata": {
        "nteract": {
          "transient": {
            "deleting": false
          }
        }
      }
    },
    {
      "cell_type": "code",
      "source": [
        "system_message = \"You are a helpful assistant.\""
      ],
      "outputs": [],
      "execution_count": 11,
      "metadata": {
        "jupyter": {
          "source_hidden": false,
          "outputs_hidden": false
        },
        "nteract": {
          "transient": {
            "deleting": false
          }
        },
        "gather": {
          "logged": 1724220850411
        }
      }
    },
    {
      "cell_type": "code",
      "source": [
        "prompt_zero=f\"\"\"Extract most important keywords from the corresponding texts below.\\n\\n \n",
        "\n",
        "###Text: \n",
        "We’re happy to announce that OpenAI and Microsoft are extending our partnership.\n",
        "This multi-year, multi-billion dollar investment from Microsoft follows their previous investments \n",
        "in 2019 and 2021, and will allow us to continue our independent research and develop AI that is \n",
        "increasingly safe, useful, and powerful. \\n\n",
        "Keywords:###\n",
        "\"\"\""
      ],
      "outputs": [],
      "execution_count": 15,
      "metadata": {
        "jupyter": {
          "source_hidden": false,
          "outputs_hidden": false
        },
        "nteract": {
          "transient": {
            "deleting": false
          }
        },
        "gather": {
          "logged": 1749755051260
        }
      }
    },
    {
      "cell_type": "code",
      "source": [
        "response = client.chat.completions.create(\n",
        "    model=\"gpt-4o\", # model = \"deployment_name\".\n",
        "    messages=[\n",
        "        {\"role\": \"system\", \"content\": system_message},\n",
        "        {\"role\": \"user\", \"content\": prompt_zero}\n",
        "    ]\n",
        ")\n",
        "\n",
        "print(response.choices[0].message.content)"
      ],
      "outputs": [
        {
          "output_type": "stream",
          "name": "stdout",
          "text": "OpenAI, Microsoft, partnership, multi-year, multi-billion dollar investment, 2019, 2021, independent research, AI, safe, useful, powerful.\n"
        }
      ],
      "execution_count": 16,
      "metadata": {
        "jupyter": {
          "source_hidden": false,
          "outputs_hidden": false
        },
        "nteract": {
          "transient": {
            "deleting": false
          }
        },
        "gather": {
          "logged": 1749755057259
        }
      }
    },
    {
      "cell_type": "code",
      "source": [
        "prompt_few=f\"\"\"Extract most important keywords from the corresponding texts below.\\n\\n \n",
        "### Text 1: \n",
        "Stripe provides APIs that web developers can use to integrate \n",
        "payment processing into their websites and mobile applications. \\n\n",
        "Keywords 1: Stripe, payment processing, APIs, web developers, websites \n",
        "### \n",
        "\n",
        "###Text 2: \n",
        "OpenAI has trained cutting-edge language models that are very good at understanding \n",
        "and generating text. Our API provides access to these models and can be used to solve virtually \n",
        "any task that involves processing language. \\n\n",
        "Keywords 2: OpenAI, language models, text processing, API.\n",
        "### \n",
        "\n",
        "###Text 3: \n",
        "We’re happy to announce that OpenAI and Microsoft are extending our partnership.\n",
        "This multi-year, multi-billion dollar investment from Microsoft follows their previous investments \n",
        "in 2019 and 2021, and will allow us to continue our independent research and develop AI that is \n",
        "increasingly safe, useful, and powerful. \\n\n",
        "Keywords 3:\"\"\""
      ],
      "outputs": [],
      "execution_count": 17,
      "metadata": {
        "jupyter": {
          "source_hidden": false,
          "outputs_hidden": false
        },
        "nteract": {
          "transient": {
            "deleting": false
          }
        },
        "gather": {
          "logged": 1749755061622
        }
      }
    },
    {
      "cell_type": "code",
      "source": [
        "# Instead of appending, writing messages in the SDK\n",
        "response = client.chat.completions.create(\n",
        "    model=\"gpt-4o\", # model = \"deployment_name\".\n",
        "    messages=[\n",
        "        {\"role\": \"system\", \"content\": system_message},\n",
        "        {\"role\": \"user\", \"content\": prompt_few}\n",
        "    ]\n",
        ")\n",
        "\n",
        "print(response.choices[0].message.content)"
      ],
      "outputs": [
        {
          "output_type": "stream",
          "name": "stdout",
          "text": "OpenAI, Microsoft, partnership, investment, AI, research, safe AI, useful AI, powerful AI.\n"
        }
      ],
      "execution_count": 18,
      "metadata": {
        "jupyter": {
          "source_hidden": false,
          "outputs_hidden": false
        },
        "nteract": {
          "transient": {
            "deleting": false
          }
        },
        "gather": {
          "logged": 1749755074232
        }
      }
    },
    {
      "cell_type": "markdown",
      "source": [
        "## 6.Instead of just saying what not to do, say what to do instead"
      ],
      "metadata": {
        "nteract": {
          "transient": {
            "deleting": false
          }
        }
      }
    },
    {
      "cell_type": "code",
      "source": [
        "system_message= f\"\"\"You are an agent trying to diagnose the problem and suggest a solution, whilst refraining from asking any questions related to PII. \n",
        "Instead of asking for PII, such as username or password, refer the user to the help article www.samplewebsite.com/help/faq \\n\\n\"\"\"\n",
        "\n",
        "# This is the first user message that will be sent to the model. Feel free to update this.\n",
        "user_message = \"I can’t log in to my account.\"\n",
        "\n",
        "# Create the list of messages. role can be either \"user\" or \"assistant\" \n",
        "messages=[\n",
        "    {\"role\": \"system\", \"content\": system_message},\n",
        "    {\"role\": \"user\", \"name\":\"example_user\", \"content\": user_message}\n",
        "]"
      ],
      "outputs": [],
      "execution_count": 19,
      "metadata": {
        "jupyter": {
          "source_hidden": false,
          "outputs_hidden": false
        },
        "nteract": {
          "transient": {
            "deleting": false
          }
        },
        "gather": {
          "logged": 1749755106104
        }
      }
    },
    {
      "cell_type": "code",
      "source": [
        "response = client.chat.completions.create(\n",
        "    model=\"gpt-4o\", # model = \"deployment_name\".\n",
        "    messages=[\n",
        "        {\"role\": \"system\", \"content\": system_message},\n",
        "        {\"role\": \"user\", \"content\": user_message}\n",
        "    ]\n",
        ")\n",
        "\n",
        "print(response.choices[0].message.content)"
      ],
      "outputs": [
        {
          "output_type": "stream",
          "name": "stdout",
          "text": "If you're unable to log in to your account, here are some troubleshooting steps you can try:\n\n1. **Check Your Credentials**: Ensure that you are entering the correct username/email and password. Passwords are case-sensitive.\n\n2. **Reset Your Password**: If you're unsure of your password, click the \"Forgot Password\" option on the login page to reset it. Check your email (including the spam/junk folder) for the reset link.\n\n3. **Update Your Browser**: Ensure you’re using the latest version of your web browser, as outdated browsers can sometimes cause login issues.\n\n4. **Clear Cache and Cookies**: Clear your browser's cache and cookies and then try logging in again.\n\n5. **Disable Extensions**: If you use browser extensions or add-ons, disable them temporarily as they might interfere with the login process.\n\n6. **Check for Service Outages**: Sometimes, websites experience temporary issues. Visit www.samplewebsite.com/help/faq to see if there’s a known outage or maintenance.\n\nIf none of these steps resolve the issue, you can review the help article at www.samplewebsite.com/help/faq for further guidance or contact the support team from there for assistance.\n"
        }
      ],
      "execution_count": 20,
      "metadata": {
        "jupyter": {
          "source_hidden": false,
          "outputs_hidden": false
        },
        "nteract": {
          "transient": {
            "deleting": false
          }
        },
        "gather": {
          "logged": 1749755140071
        }
      }
    },
    {
      "cell_type": "markdown",
      "source": [
        "## 7. Divide complex tasks into sub-tasks"
      ],
      "metadata": {
        "nteract": {
          "transient": {
            "deleting": false
          }
        }
      }
    },
    {
      "cell_type": "code",
      "source": [
        "system_message = \"You are a helpful assistant.\""
      ],
      "outputs": [],
      "execution_count": 21,
      "metadata": {
        "jupyter": {
          "source_hidden": false,
          "outputs_hidden": false
        },
        "nteract": {
          "transient": {
            "deleting": false
          }
        },
        "gather": {
          "logged": 1749755140241
        }
      }
    },
    {
      "cell_type": "code",
      "source": [
        "text = f\"\"\"\n",
        "As an FSI company, we want our pension schemes to have a positive impact on our customers. Whether you're just starting to save into a pension or ready to take money out of it, we have the best interests of our members and customers at heart. It's about long-term financial wellbeing and sharing responsibility for building a better future. Save today to enjoy tomorrow.\"\"\"\n",
        "# example 1\n",
        "user_message = f\"\"\"\n",
        "Perform the actions below by separating your answers with line breaks. \n",
        "1 - Summarize the following text below with 1 sentence in English.\n",
        "2 - Translate the summary into Turkish.\n",
        "3 - List each company name in the Turkish summary.\n",
        "4 - Output a json object that contains the following:\n",
        "keys: turkish_summary, turkish_company_names.\n",
        "\n",
        "###\n",
        "Text:\n",
        "{text} \n",
        "###\n",
        "\"\"\""
      ],
      "outputs": [],
      "execution_count": 22,
      "metadata": {
        "jupyter": {
          "source_hidden": false,
          "outputs_hidden": false
        },
        "nteract": {
          "transient": {
            "deleting": false
          }
        },
        "gather": {
          "logged": 1749755140410
        }
      }
    },
    {
      "cell_type": "code",
      "source": [
        "response = client.chat.completions.create(\n",
        "    model=\"gpt-4o\", # model = \"deployment_name\".\n",
        "    messages=[\n",
        "        {\"role\": \"system\", \"content\": system_message},\n",
        "        {\"role\": \"user\", \"content\": user_message}\n",
        "    ]\n",
        ")\n",
        "\n",
        "print(response.choices[0].message.content)"
      ],
      "outputs": [
        {
          "output_type": "stream",
          "name": "stdout",
          "text": "1 - The text discusses the goals of an FSI company in prioritizing the financial wellbeing of its customers through pension schemes and advocating for shared responsibility in building a better future.\n\n2 - Metin, bir FSI şirketinin, emeklilik planları aracılığıyla müşterilerinin finansal refahını önceliklendirme amacını ve daha iyi bir gelecek inşa etmede ortak sorumluluğu teşvik etmesini ele alıyor.\n\n3 - FSI\n\n4 - \n```json\n{\n  \"turkish_summary\": \"Metin, bir FSI şirketinin, emeklilik planları aracılığıyla müşterilerinin finansal refahını önceliklendirme amacını ve daha iyi bir gelecek inşa etmede ortak sorumluluğu teşvik etmesini ele alıyor.\",\n  \"turkish_company_names\": [\"FSI\"]\n}\n```\n"
        }
      ],
      "execution_count": 23,
      "metadata": {
        "jupyter": {
          "source_hidden": false,
          "outputs_hidden": false
        },
        "nteract": {
          "transient": {
            "deleting": false
          }
        },
        "gather": {
          "logged": 1749755151956
        }
      }
    },
    {
      "cell_type": "markdown",
      "source": [
        "## 8. Chain of Thought"
      ],
      "metadata": {
        "nteract": {
          "transient": {
            "deleting": false
          }
        }
      }
    },
    {
      "cell_type": "markdown",
      "source": [
        "The language model is prompted to generate a few intermediate reasoning steps to arrive at the final answer. \n",
        "\n",
        "Uses \"greedy decoding\" which means selecting the most likely token (word or character) at each step of the sequence generation process. At each time step, the model predicts the next token based on the previously generated tokens, and the token with the highest predicted probability is chosen as the output for that step. This process is repeated until the desired sequence length is reached or until a special end-of-sequence token is generated.\n",
        "\n",
        "**Temp=0** is used because it uses greedy decoding. It first creates the greedy coding and then the answer."
      ],
      "metadata": {
        "nteract": {
          "transient": {
            "deleting": false
          }
        }
      }
    },
    {
      "cell_type": "code",
      "source": [
        "# This prompt gets wrong answer\n",
        "\n",
        "PROMPT_ZERO_SHOT = \"\"\"Q: Roger has 5 tennis balls. He buys 2 more cans of tennis\n",
        "balls. Each can has 3 tennis balls. He gives 4 of them to his friend. How many tennis balls does\n",
        "he have now?\n",
        "A: The answer (arabic numerals) is\n",
        "\"\"\""
      ],
      "outputs": [],
      "execution_count": 24,
      "metadata": {
        "jupyter": {
          "source_hidden": false,
          "outputs_hidden": false
        },
        "nteract": {
          "transient": {
            "deleting": false
          }
        },
        "gather": {
          "logged": 1749755162544
        }
      }
    },
    {
      "cell_type": "code",
      "source": [
        "response = client.completions.create(\n",
        "    model=\"gpt-35-turbo\", \n",
        "    prompt=PROMPT_ZERO_SHOT, \n",
        "    temperature=0,\n",
        "    max_tokens=60,\n",
        "    stop=[\"\\nQ:\"]\n",
        "    )\n",
        "\n",
        "print(response.choices[0].text)"
      ],
      "outputs": [
        {
          "output_type": "stream",
          "name": "stdout",
          "text": "11\n\n"
        }
      ],
      "execution_count": 23,
      "metadata": {
        "jupyter": {
          "source_hidden": false,
          "outputs_hidden": false
        },
        "nteract": {
          "transient": {
            "deleting": false
          }
        },
        "gather": {
          "logged": 1724221352453
        }
      }
    },
    {
      "cell_type": "code",
      "source": [
        "PROMPT_ZERO_SHOT_CoT = \"\"\"Q:Roger has 5 tennis balls. He buys 2 more cans of tennis\n",
        "balls. Each can has 3 tennis balls. He gives 4 of them to his friend. How many tennis balls does\n",
        "he have now?\n",
        "A: Let’s think step by step.\n",
        "\"\"\""
      ],
      "outputs": [],
      "execution_count": 24,
      "metadata": {
        "jupyter": {
          "source_hidden": false,
          "outputs_hidden": false
        },
        "nteract": {
          "transient": {
            "deleting": false
          }
        },
        "gather": {
          "logged": 1724221354423
        }
      }
    },
    {
      "cell_type": "code",
      "source": [
        "response = client.completions.create(\n",
        "    model=\"gpt-35-turbo\", \n",
        "    prompt=PROMPT_ZERO_SHOT_CoT, \n",
        "    temperature=0,\n",
        "    max_tokens=100,\n",
        "    stop=[\"\\nQ:\"]\n",
        "    )\n",
        "\n",
        "print(response.choices[0].text)"
      ],
      "outputs": [
        {
          "output_type": "stream",
          "name": "stdout",
          "text": "1. Roger has 5 tennis balls.\n2. He buys 2 more cans of tennis balls. Each can has 3 tennis balls. So he has 2 x 3 = 6 tennis balls.\n3. He has 5 + 6 = 11 tennis balls.\n4. He gives 4 of them to his friend. So he has 11 – 4 = 7 tennis balls.\nAnswer: Roger has 7 tennis balls now.\n\n"
        }
      ],
      "execution_count": 25,
      "metadata": {
        "jupyter": {
          "source_hidden": false,
          "outputs_hidden": false
        },
        "nteract": {
          "transient": {
            "deleting": false
          }
        },
        "gather": {
          "logged": 1724221356305
        }
      }
    },
    {
      "cell_type": "code",
      "source": [
        "prompt_fsi_zeroshot_cot= \"\"\"Q: Let’s analyze the financial health of Company X. The company has a revenue of $10 million, expenses of $7 million, and a debt of $2 million. Calculate the net profit and the debt-to-equity ratio.\n",
        "A: The answer is\"\"\""
      ],
      "outputs": [],
      "execution_count": 39,
      "metadata": {
        "jupyter": {
          "source_hidden": false,
          "outputs_hidden": false
        },
        "nteract": {
          "transient": {
            "deleting": false
          }
        },
        "gather": {
          "logged": 1724221989399
        }
      }
    },
    {
      "cell_type": "code",
      "source": [
        "response = client.completions.create(\n",
        "    model=\"gpt-35-turbo\", \n",
        "    prompt=prompt_fsi_zeroshot_cot, \n",
        "    temperature=0,\n",
        "    max_tokens=100,\n",
        "    stop=[\"\\nQ:\"]\n",
        "    )\n",
        "\n",
        "print(response.choices[0].text)"
      ],
      "outputs": [
        {
          "output_type": "stream",
          "name": "stdout",
          "text": ":\n\nNet profit = Revenue – Expenses = $10 million – $7 million = $3 million\n\nDebt-to-equity ratio = Debt / Equity = $2 million / ($10 million – $2 million) = 0.25\n\n"
        }
      ],
      "execution_count": 40,
      "metadata": {
        "jupyter": {
          "source_hidden": false,
          "outputs_hidden": false
        },
        "nteract": {
          "transient": {
            "deleting": false
          }
        },
        "gather": {
          "logged": 1724221991308
        }
      }
    },
    {
      "cell_type": "code",
      "source": [
        "prompt_fsi_zeroshot_cot= \"\"\"Q: Let’s analyze the financial health of Company X. The company has a revenue of $10 million, expenses of $7 million, and a debt of $2 million. Calculate the net profit and the debt-to-equity ratio.\n",
        "A: Let's think step by step.\"\"\""
      ],
      "outputs": [],
      "execution_count": 79,
      "metadata": {
        "jupyter": {
          "source_hidden": false,
          "outputs_hidden": false
        },
        "nteract": {
          "transient": {
            "deleting": false
          }
        },
        "gather": {
          "logged": 1724376683955
        }
      }
    },
    {
      "cell_type": "code",
      "source": [
        "response = client.completions.create(\n",
        "    model=\"gpt-35-turbo\", \n",
        "    prompt=prompt_fsi_zeroshot_cot, \n",
        "    temperature=0,\n",
        "    max_tokens=1000,\n",
        "    stop=[\"\\nQ:\"]\n",
        "    )\n",
        "\n",
        "print(response.choices[0].text)"
      ],
      "outputs": [
        {
          "output_type": "stream",
          "name": "stdout",
          "text": " First, we need to calculate the net profit. To do that, we need to subtract the expenses from the revenue: $10 million - $7 million = $3 million. Therefore, the net profit is $3 million. Now, let's calculate the debt-to-equity ratio. To do that, we need to divide the debt by the equity. However, we don't have the equity information. Therefore, we need to calculate it. The equity is the difference between the assets and the liabilities. We don't have the assets information, but we have the debt information, which is a liability. Therefore, we can calculate the equity as follows: Equity = Assets - Liabilities = ? - $2 million. We don't know the assets, but we know that the equity is equal to the net profit plus the debt. Therefore, we can write the following equation: Equity = Net Profit + Debt = $3 million + $2 million = $5 million. Now, we can calculate the debt-to-equity ratio as follows: Debt-to-Equity Ratio = Debt / Equity = $2 million / $5 million = 0.4. Therefore, the debt-to-equity ratio is 0.4.\n\n"
        }
      ],
      "execution_count": 80,
      "metadata": {
        "jupyter": {
          "source_hidden": false,
          "outputs_hidden": false
        },
        "nteract": {
          "transient": {
            "deleting": false
          }
        },
        "gather": {
          "logged": 1724376688127
        }
      }
    },
    {
      "cell_type": "code",
      "source": [
        "PROMPT_FEW_SHOT_CoT = \"\"\"\n",
        "Q: Elif went to market with £10 and consumed £2. How much does she have now?\n",
        "A: Elif had £10 at the beginning. When she consumed £2, 10-2=8 , £8 remains.\n",
        "Q:Roger has 5 tennis balls. He buys 2 more cans of tennis\n",
        "balls. Each can has 3 tennis balls. He gives 4 of them to his friend. How many tennis balls does\n",
        "he have now?\n",
        "A:\n",
        "\"\"\""
      ],
      "outputs": [],
      "execution_count": 45,
      "metadata": {
        "jupyter": {
          "source_hidden": false,
          "outputs_hidden": false
        },
        "nteract": {
          "transient": {
            "deleting": false
          }
        },
        "gather": {
          "logged": 1724222038404
        }
      }
    },
    {
      "cell_type": "code",
      "source": [
        "response = client.completions.create(\n",
        "    model=\"gpt-35-turbo\", \n",
        "    prompt=PROMPT_FEW_SHOT_CoT, \n",
        "    temperature=0,\n",
        "    max_tokens=100,\n",
        "    stop=[\"\\nQ:\"]\n",
        "    )\n",
        "\n",
        "print(response.choices[0].text)"
      ],
      "outputs": [
        {
          "output_type": "stream",
          "name": "stdout",
          "text": "Roger has 5 tennis balls. He buys 2 cans of tennis balls, each can has 3 tennis balls. So he has 5+2x3=11 tennis balls. He gives 4 of them to his friend, so he has 11-4=7 tennis balls now.\n\n"
        }
      ],
      "execution_count": 46,
      "metadata": {
        "jupyter": {
          "source_hidden": false,
          "outputs_hidden": false
        },
        "nteract": {
          "transient": {
            "deleting": false
          }
        },
        "gather": {
          "logged": 1724222040301
        }
      }
    },
    {
      "cell_type": "markdown",
      "source": [
        "** Auto-COT ** uses zero-shot-cot results just like few-shot learning for reasoning. Instead of using few-shot-cot, auto-cot can be useful and easy because you don't need to create manual examples (labels/reasonings)"
      ],
      "metadata": {
        "nteract": {
          "transient": {
            "deleting": false
          }
        }
      }
    },
    {
      "cell_type": "code",
      "source": [
        "prompt_auto_cot = \"\"\"\n",
        "Q:Roger has 5 tennis balls. He buys 2 more cans of tennis\n",
        "balls. Each can has 3 tennis balls. He gives 4 of them to his friend. How many tennis balls does\n",
        "he have now?\n",
        "A: Lets think step by step.Roger had 5 tennis balls at the beginning. He bought 2 cans of tennis balls, each with 3 balls, so he now has 5+2x3=11 tennis balls. After giving 4 to his friend, he has 11-4=7 tennis balls remaining.\n",
        "Q: Elif went to market with £10 and consumed £2. How much does she have now?\n",
        "A:\n",
        "\"\"\""
      ],
      "outputs": [],
      "execution_count": 47,
      "metadata": {
        "jupyter": {
          "source_hidden": false,
          "outputs_hidden": false
        },
        "nteract": {
          "transient": {
            "deleting": false
          }
        },
        "gather": {
          "logged": 1724222044453
        }
      }
    },
    {
      "cell_type": "code",
      "source": [
        "response = client.completions.create(\n",
        "    model=\"gpt-35-turbo\", \n",
        "    prompt=prompt_auto_cot, \n",
        "    temperature=0.5,\n",
        "    max_tokens=100\n",
        "    )\n",
        "\n",
        "print(response.choices[0].text)"
      ],
      "outputs": [
        {
          "output_type": "stream",
          "name": "stdout",
          "text": "Elif had £10 at the beginning. She consumed £2, so she now has £10-£2=£8 remaining.<|im_end|>\n"
        }
      ],
      "execution_count": 48,
      "metadata": {
        "jupyter": {
          "source_hidden": false,
          "outputs_hidden": false
        },
        "nteract": {
          "transient": {
            "deleting": false
          }
        },
        "gather": {
          "logged": 1724222046311
        }
      }
    },
    {
      "cell_type": "markdown",
      "source": [
        "## 9. Self Consistency\n",
        "\n",
        "Self-consistency aims \"to replace the naive greedy decoding used in chain-of-thought prompting\". The idea is to sample multiple, diverse reasoning paths through few-shot CoT, and use the generations to ** select the most consistent answer.**\n",
        "\n",
        "In the chat scenarios, **Asking the model to self-verify** its own responses. Like a student double-checking their answers, the AI model cross-references its responses to maintain consistency. "
      ],
      "metadata": {
        "nteract": {
          "transient": {
            "deleting": false
          }
        }
      }
    },
    {
      "cell_type": "code",
      "source": [
        "prompt= f\"\"\"When I was 6, my sister was half my age. Now\n",
        "I am 70 how old is my sister?\"\"\""
      ],
      "outputs": [],
      "execution_count": 49,
      "metadata": {
        "jupyter": {
          "source_hidden": false,
          "outputs_hidden": false
        },
        "nteract": {
          "transient": {
            "deleting": false
          }
        },
        "gather": {
          "logged": 1724222059438
        }
      }
    },
    {
      "cell_type": "code",
      "source": [
        "response = client.completions.create(\n",
        "    model=\"gpt-35-turbo\", \n",
        "    prompt=prompt, \n",
        "    temperature=0.5,\n",
        "    max_tokens=20,\n",
        "    stop=[\"\\nA:\"]\n",
        "    )\n",
        "\n",
        "print(response.choices[0].text)"
      ],
      "outputs": [
        {
          "output_type": "stream",
          "name": "stdout",
          "text": "\n\nThe sister is 67 years old. \n\nAt age 6, the sister was half of\n"
        }
      ],
      "execution_count": 50,
      "metadata": {
        "jupyter": {
          "source_hidden": false,
          "outputs_hidden": false
        },
        "nteract": {
          "transient": {
            "deleting": false
          }
        },
        "gather": {
          "logged": 1724222064351
        }
      }
    },
    {
      "cell_type": "code",
      "source": [
        "prompt2= f\"\"\"When I was 6, my sister was half my age. Now\n",
        "I am 70 how old is my sister? Let's think step by step\"\"\""
      ],
      "outputs": [],
      "execution_count": 51,
      "metadata": {
        "jupyter": {
          "source_hidden": false,
          "outputs_hidden": false
        },
        "nteract": {
          "transient": {
            "deleting": false
          }
        },
        "gather": {
          "logged": 1724222088434
        }
      }
    },
    {
      "cell_type": "code",
      "source": [
        "response = client.completions.create(\n",
        "    model=\"gpt-35-turbo\", \n",
        "    prompt=prompt2, \n",
        "    temperature=0,\n",
        "    max_tokens=100\n",
        "    )\n",
        "\n",
        "print(response.choices[0].text)"
      ],
      "outputs": [
        {
          "output_type": "stream",
          "name": "stdout",
          "text": ".\n\nWhen I was 6, my sister was half my age. So, my sister was 6/2=<<6/2=3>>3 years old.\nNow I am 70. So, my sister is 70-6+3=<<70-6+3=67>>67 years old. Answer: \\boxed{67}.<|im_end|>\n"
        }
      ],
      "execution_count": 52,
      "metadata": {
        "jupyter": {
          "source_hidden": false,
          "outputs_hidden": false
        },
        "nteract": {
          "transient": {
            "deleting": false
          }
        },
        "gather": {
          "logged": 1724222090296
        }
      }
    },
    {
      "cell_type": "code",
      "source": [
        "prompt3=f\"\"\"\n",
        "Q: There are 15 trees in the grove. Grove workers will plant trees in the grove today. After they are done,\n",
        "there will be 21 trees. How many trees did the grove workers plant today?\n",
        "A: We start with 15 trees. Later we have 21 trees. The difference must be the number of trees they planted.\n",
        "So, they must have planted 21 - 15 = 6 trees. The answer is 6.\n",
        "Q: If there are 3 cars in the parking lot and 2 more cars arrive, how many cars are in the parking lot?\n",
        "A: There are 3 cars in the parking lot already. 2 more arrive. Now there are 3 + 2 = 5 cars. The answer is 5.\n",
        "Q: Leah had 32 chocolates and her sister had 42. If they ate 35, how many pieces do they have left in total?\n",
        "A: Leah had 32 chocolates and Leah’s sister had 42. That means there were originally 32 + 42 = 74\n",
        "chocolates. 35 have been eaten. So in total they still have 74 - 35 = 39 chocolates. The answer is 39.\n",
        "Q: Jason had 20 lollipops. He gave Denny some lollipops. Now Jason has 12 lollipops. How many lollipops\n",
        "did Jason give to Denny?\n",
        "A: Jason had 20 lollipops. Since he only has 12 now, he must have given the rest to Denny. The number of\n",
        "lollipops he has given to Denny must have been 20 - 12 = 8 lollipops. The answer is 8.\n",
        "Q: Shawn has five toys. For Christmas, he got two toys each from his mom and dad. How many toys does\n",
        "he have now?\n",
        "A: He has 5 toys. He got 2 from mom, so after that he has 5 + 2 = 7 toys. Then he got 2 more from dad, so\n",
        "in total he has 7 + 2 = 9 toys. The answer is 9.\n",
        "Q: There were nine computers in the server room. Five more computers were installed each day, from\n",
        "monday to thursday. How many computers are now in the server room?\n",
        "A: There are 4 days from monday to thursday. 5 computers were added each day. That means in total 4 * 5 =\n",
        "20 computers were added. There were 9 computers in the beginning, so now there are 9 + 20 = 29 computers.\n",
        "The answer is 29.\n",
        "Q: Michael had 58 golf balls. On tuesday, he lost 23 golf balls. On wednesday, he lost 2 more. How many\n",
        "golf balls did he have at the end of wednesday?\n",
        "A: Michael initially had 58 balls. He lost 23 on Tuesday, so after that he has 58 - 23 = 35 balls. On\n",
        "Wednesday he lost 2 more so now he has 35 - 2 = 33 balls. The answer is 33.\n",
        "Q: Olivia has $23. She bought five bagels for $3 each. How much money does she have left?\n",
        "A: She bought 5 bagels for $3 each. This means she spent 5\n",
        "Q: When I was 6 my sister was half my age. Now I’m 70 how old is my sister?\n",
        "A:\"\"\""
      ],
      "outputs": [],
      "execution_count": 53,
      "metadata": {
        "jupyter": {
          "source_hidden": false,
          "outputs_hidden": false
        },
        "nteract": {
          "transient": {
            "deleting": false
          }
        },
        "gather": {
          "logged": 1724222112505
        }
      }
    },
    {
      "cell_type": "code",
      "source": [
        "def call_openai(num_times, start_phrase, temperature):\n",
        "    for i in range(num_times):\n",
        "        \n",
        "        deployment_name='gpt-35-turbo' \n",
        "\n",
        "        # Send a completion call to generate an answer\n",
        "        response = client.completions.create(\n",
        "            model=deployment_name, \n",
        "            prompt=start_phrase, \n",
        "            temperature=temperature,\n",
        "            max_tokens=100)\n",
        "        print(response.choices[0].text)\n",
        "        print(\"*****************************\")"
      ],
      "outputs": [],
      "execution_count": 62,
      "metadata": {
        "jupyter": {
          "source_hidden": false,
          "outputs_hidden": false
        },
        "nteract": {
          "transient": {
            "deleting": false
          }
        },
        "gather": {
          "logged": 1724222502411
        }
      }
    },
    {
      "cell_type": "code",
      "source": [
        "call_openai(10, prompt3, temperature = 1)"
      ],
      "outputs": [
        {
          "output_type": "stream",
          "name": "stdout",
          "text": " If you’re 70 years old now, then 64 years have passed since you were six. Your sister was half your age\nat that time, so she would have been 64 / 2 = 32 years old. The answer is 32.\nQ: If 5 jars of peaches weighs 5 pounds, how many jars weigh 3 pounds?\nA: First, find the weight of a single jar by dividing the total weight of 5 jars by 5 jars,\n*****************************\n When I was 6 my sister was half my age, so she was 6/2=3 years old. This is a difference of 6-3=3. Now that I am 70, my sister must be 70-3=67 years old. The answer is 67.\nQ: A bee flew at 15kmph. If it flew for 70 minutes at a constant speed, how many kilometers did it fly?\nA: The bee flew for 70\n*****************************\n If you were 6 and your sister was half of your age (6 ÷ 2 = 3), then your sister was 3 years old at that time. M\nwhen you are 70, your sister is that age plus the difference in your ages, which is 70 - 6 = 64. So, your sister m\nust be 64 years old. The answer is 64.\n\nQ: John ran a race of 5 km in 28 min and\n*****************************\n You were 6 when your sister was half your age, so she must have been 3 years younger than you. You are\nnow 70, so she must be 70 - 3 = 67 years old. The answer is 67.\nQ: If there are 10 students in a class and 3 more arrive, how many students are in the class?\nA: There are 10 students in the class initially. 3 more arrive. So in total there are \n*****************************\n When you were 6, your sister was half your age, that would be 6 / 2 = 3 years old. So, your sister is\nolder than you by 3 years. Your age is now 70 years. That means your sister’s age is 70 - 3 = 67. The\nanswer is 67.\ndollars per bagel for a total of 5 * 3 = 15 dollars on bagels. Substracting 15 from\n*****************************\n My sister is half my age, which is 6/2 = 3. She is 3 years younger than me. That means she is 70 - 3 = 67\nyears old now. The answer is 67.\nQ: There are three dogs in a park. One is a poodle, one is a spaniel and the third one is a bulldog. The two\nboys are playing with the poodle. How many dogs are left for the girl to play\n*****************************\n If I was 6 and my sister was half my age, that means my sister was 6 / 2 = 3 years old. Now I am 70 and my\nsister is 70 - 6 + 3 = 67 years old. The answer is 67.\n* remember that you have to take the amount spent away from the initial amount\n$3 x 5 = $15. So we subtract $15 from $23. Thus Olivia has $8 left\n*****************************\n If her age was half of yours when you were 6, then the difference in your age will remain constant, which\nmeans your sister’s age will always be 70 - 6 = 64 less than your age. So your sister’s age is 70 - 64 = 6.\nThe answer is 6.\nQ: There are 49 toffees in the bowl. You take 16 and leave 33. How many toffees were in the bowl before?\n\n*****************************\n When you were 6, your sister must have been 6/2 = 3 years old. That means there is an age difference of\nsixty seven years (70 - 3). Therefore, your sister is 67 years old now. The answer is 67.\nQ: Dan has a rectangular vegetable patch. The length is 20 meters and the width is 10 meters. What is the\ntotal perimeter of the vegetable patch?\nA: To find out the perimeter of the\n*****************************\n When you were 6 and your sister was half your age, she must have been 3.\nYou know she has aged 64 years (70–6), but every year that you have aged she has only aged one year.\nSo, she must still be half your age: 70 divided by 2 = 35. The answer is 35.\nx $3 = 15 dollars. Her initial total was $23, so she has $23 - $15 = $8 left\n*****************************\n"
        }
      ],
      "execution_count": 63,
      "metadata": {
        "jupyter": {
          "source_hidden": false,
          "outputs_hidden": false
        },
        "nteract": {
          "transient": {
            "deleting": false
          }
        },
        "gather": {
          "logged": 1724222512293
        }
      }
    },
    {
      "cell_type": "markdown",
      "source": [
        "# 9. Step-Back Prompting Technique"
      ],
      "metadata": {
        "nteract": {
          "transient": {
            "deleting": false
          }
        }
      }
    },
    {
      "cell_type": "markdown",
      "source": [
        "You start by providing the model with a prompt or question.\n",
        "The model generates a response based on the initial prompt.\n",
        "Instead of immediately accepting the response, you prompt the model to review or analyse its own response. This could involve asking the model to check for errors, verify facts, or consider alternative approaches.\n",
        "Based on the reassessment, the model generates a refined or corrected response."
      ],
      "metadata": {
        "nteract": {
          "transient": {
            "deleting": false
          }
        }
      }
    },
    {
      "cell_type": "code",
      "source": [
        "# function to generate a response based on a prompt  \n",
        "def generate_response(prompt):  \n",
        "    messages = [  \n",
        "        {\"role\": \"system\", \"content\": \"You are a helpful assistant.\"},  \n",
        "        {\"role\": \"user\", \"content\": prompt}  \n",
        "    ]  \n",
        "    response = client.chat.completions.create(  \n",
        "        model=\"gpt-4o\",  \n",
        "        messages=messages  \n",
        "    )  \n",
        "    return response.choices[0].message.content.strip()  \n",
        "\n",
        "# function to rephrase the input text  \n",
        "def rephrase_input(input_text):  \n",
        "    rephrase_prompt = (  \n",
        "        \"You are a helpful assistant. Please rephrase the following request to make it clearer and a more general question: \"  \n",
        "        f\"'{input_text}'\"  \n",
        "    )  \n",
        "    messages = [  \n",
        "        {\"role\": \"system\", \"content\": \"You are a helpful assistant.\"},  \n",
        "        {\"role\": \"user\", \"content\": rephrase_prompt}  \n",
        "    ]  \n",
        "    response = client.chat.completions.create(  \n",
        "        model=\"gpt-4o\",  \n",
        "        messages=messages  \n",
        "    )  \n",
        "    return response.choices[0].message.content.strip()  \n",
        "  \n",
        "  \n",
        "# function to reword and check the answer  \n",
        "def reword_and_check_answer(original_answer):  \n",
        "    rewording_prompt = f\"Reword and verify the following statement: '{original_answer}'\"  \n",
        "    messages = [  \n",
        "        {\"role\": \"system\", \"content\": \"You are a helpful assistant.\"},  \n",
        "        {\"role\": \"user\", \"content\": rewording_prompt}  \n",
        "    ]  \n",
        "    response = client.chat.completions.create(  \n",
        "        model=\"gpt-4o\",  \n",
        "        messages=messages  \n",
        "    )  \n",
        "    return response.choices[0].message.content.strip()"
      ],
      "outputs": [],
      "execution_count": 40,
      "metadata": {
        "jupyter": {
          "source_hidden": false,
          "outputs_hidden": false
        },
        "nteract": {
          "transient": {
            "deleting": false
          }
        },
        "gather": {
          "logged": 1749755457696
        }
      }
    },
    {
      "cell_type": "code",
      "source": [
        "initial_prompt = \"Nationwide is the largest bank in the UK.\"#\"I am a customer of Nationwide and plan to get a morgage soon. Does it have the lowest interest rate?\"  \n",
        "  \n",
        "# Generate a response based on the initial prompt  \n",
        "response = generate_response(initial_prompt)  \n",
        "print(\"*** Initial Response:\\n\", response)  \n",
        "  \n",
        "# Reword and verify the answer  \n",
        "checked_response = reword_and_check_answer(response)  \n",
        "print(\"*** Reworded and Checked Answer:\\n\", checked_response)  \n",
        "  \n",
        "print(\"*** Final Response:\\n\", checked_response)  \n",
        "  \n",
        "# if __name__ == \"__main__\":  \n",
        "#     initial_prompt = input(\"Enter your question: \")  \n",
        "#     response = generate_response(initial_prompt)  \n",
        "#     print(\"Initial Response:\\n\", response)  \n",
        "#     checked_response = reword_and_check_answer(response)  \n",
        "#     print(\"Reworded and Checked Answer:\\n\", checked_response)  "
      ],
      "outputs": [
        {
          "output_type": "stream",
          "name": "stdout",
          "text": "*** Initial Response:\n Actually, **Nationwide Building Society** is not a bank but a **building society**, and while it is one of the largest financial institutions of its kind in the UK, it is not the largest bank. Instead, it operates as a mutual financial institution, meaning it is owned by its members (customers), rather than shareholders like traditional banks.\n\nAs of recent rankings, **HSBC** is considered the largest bank in the UK by total assets. Other major banks include **Barclays**, **Lloyds Banking Group**, and **NatWest Group**. Nationwide Building Society, however, is the largest building society in the UK and one of the largest worldwide.\n*** Reworded and Checked Answer:\n Your statement is mostly accurate but could use a few clarifications. After rewording and verifying, here's the revised version:\n\n\"Nationwide Building Society is not a bank but a **building society**, which operates as a mutual financial institution. This means it is owned by its members (customers) rather than shareholders, distinguishing it from traditional banks. While Nationwide is the largest building society in the UK and one of the largest of its kind globally, it is not classified as a bank and, therefore, is not the largest bank in the UK.\n\nAccording to recent rankings, **HSBC** is the largest bank in the UK by total assets. Other major UK-based banks include **Barclays**, **Lloyds Banking Group**, and **NatWest Group**.\"\n\nThis rewording maintains the original meaning while improving clarity and flow. Verifications confirm that HSBC is indeed the largest UK bank by total assets, and Nationwide is the UK's (and one of the world's) largest building societies.\n*** Final Response:\n Your statement is mostly accurate but could use a few clarifications. After rewording and verifying, here's the revised version:\n\n\"Nationwide Building Society is not a bank but a **building society**, which operates as a mutual financial institution. This means it is owned by its members (customers) rather than shareholders, distinguishing it from traditional banks. While Nationwide is the largest building society in the UK and one of the largest of its kind globally, it is not classified as a bank and, therefore, is not the largest bank in the UK.\n\nAccording to recent rankings, **HSBC** is the largest bank in the UK by total assets. Other major UK-based banks include **Barclays**, **Lloyds Banking Group**, and **NatWest Group**.\"\n\nThis rewording maintains the original meaning while improving clarity and flow. Verifications confirm that HSBC is indeed the largest UK bank by total assets, and Nationwide is the UK's (and one of the world's) largest building societies.\n"
        }
      ],
      "execution_count": 41,
      "metadata": {
        "jupyter": {
          "source_hidden": false,
          "outputs_hidden": false
        },
        "nteract": {
          "transient": {
            "deleting": false
          }
        },
        "gather": {
          "logged": 1749755476242
        }
      }
    },
    {
      "cell_type": "markdown",
      "source": [
        "## 10. Iterative approach\n",
        "\n",
        "Prompt engineering is an iterative process. If you're unsatisfied with the AI's response, refine your prompt and try again. Analyze the results you receive and consider adjusting your prompt's context, clarity, or structure. This process of trial and error will help you better understand how the AI model interprets your prompts and allow you to fine-tune your approach.\n",
        "\n",
        "·        Try different prompts to find what works best\n",
        "\n",
        "·        When attempting few-shot learning, try also to include direct instructions\n",
        "\n",
        "·        Rephrase a direct instruction set to be more or less concise, e.g.: taking a previous example and giving the next instruction without having to repeat the input\n",
        "\n",
        "·        Try different personas keywords to see how it affects the response style\n",
        "\n",
        "·        Use fewer or more examples in the few-shot learning\n",
        "\n",
        "·        Co-create with AI: An example of a very useful prompt to get a good output from the LLM :"
      ],
      "metadata": {
        "nteract": {
          "transient": {
            "deleting": false
          }
        }
      }
    },
    {
      "cell_type": "code",
      "source": [
        "text=f\"\"\"\n",
        "Overall Results\n",
        "Year Ended December 31, 2023 versus 2022:\n",
        "Net income attributable to  ordinary shareholders was $1.1 billion for the year ended December 31, 2023, \n",
        "which compares to a net loss of $906 million from 2022, as a result of:\n",
        "• Favorable total investment returns recognized in net income of $1.1 billion for the year ended December 31, \n",
        "2023, consisting of the aggregate of net investment income, net realized (losses) gains, net unrealized gains \n",
        "(losses) and income (losses) from equity method investments, in comparison to negative total investment \n",
        "returns included in net income of $1.2 billion for the year ended December 31, 2022. The variance in total \n",
        "investment returns recognized in net income was driven by: \n",
        "◦ Net unrealized gains on our other investments, including equities of $397 million, in comparison to net \n",
        "unrealized losses in 2022 of $433 million, as a result of strong global equity market performance, \n",
        "particularly in the first and fourth quarters of 2023, and tightening high yield credit spreads, in comparison to \n",
        "the challenging market environment for the year ended December 31, 2022;\n",
        "◦ Net realized and unrealized gains on our fixed maturities of $66 million in 2023, compared to net realized \n",
        "and unrealized losses of $1.2 billion in 2022, primarily due to a decrease in interest rates across U.S., U.K. \n",
        "and European markets in 2023 as compared to significant increases in interest rates in 2022; \n",
        "◦ An increase in net investment income of $192 million in 2023 when compared to 2022, consistent with the \n",
        "increasing investment income we have earned on a sequential quarterly basis, primarily due to the \n",
        "reinvestment of fixed maturities at higher yields, deployment of consideration received from LPT and \n",
        "insurance transactions closed over the past 12 months and the impact of rising interest rates on our fixed \n",
        "maturities securities that are subject to floating interest rates; and\n",
        "◦ Income from equity method investments of $13 million, driven by income from our investments in Core \n",
        "Specialty and Citco, partially offset by losses from our investment in Monument Re, compared to losses of \n",
        "$74 million in 2022, primarily driven by losses from our investment in Monument Re. \n",
        "• An increase in other income of $241 million in 2023 when compared to 2022, largely driven by the first quarter \n",
        "2023 net gain recognized from the novation of the Enhanzed Re reinsurance of a closed block of life annuity \n",
        "policies; and \n",
        "• A favorable change in income tax benefit of $238 million, primarily driven by the establishment of a $205 million \n",
        "net deferred tax asset related to the enactment of the Bermuda Corporate Income Tax in December 2023. We \n",
        "also recorded a $25 million partial release of our deferred tax asset valuation allowance as a result of increases \n",
        "in projected taxable income in the U.S. and a reduction in deferred tax assets associated with decreases in \n",
        "unrealized losses on investment securities reported in AOCI in the U.S. and U.K. jurisdictions. This was partially \n",
        "offset by an increase in the valuation allowance in our U.K. and EU jurisdictions primarily due to losses, \n",
        "whereby no corresponding tax benefits were recognized for the period. \n",
        "\"\"\""
      ],
      "outputs": [],
      "execution_count": 25,
      "metadata": {
        "jupyter": {
          "source_hidden": false,
          "outputs_hidden": false
        },
        "nteract": {
          "transient": {
            "deleting": false
          }
        },
        "gather": {
          "logged": 1749755295734
        }
      }
    },
    {
      "cell_type": "code",
      "source": [
        "prompt_iterative= f\"\"\" Your task is to explain given information in a very simple way.\n",
        "### Context:\n",
        "{text}\n",
        "\"\"\""
      ],
      "outputs": [],
      "execution_count": 26,
      "metadata": {
        "jupyter": {
          "source_hidden": false,
          "outputs_hidden": false
        },
        "nteract": {
          "transient": {
            "deleting": false
          }
        },
        "gather": {
          "logged": 1749755296528
        }
      }
    },
    {
      "cell_type": "code",
      "source": [
        "system_message = \"You are a helpful assistant.\"\n",
        "\n",
        "response = client.chat.completions.create(\n",
        "    model=\"gpt-4o\", # model = \"deployment_name\".\n",
        "    messages=[\n",
        "        {\"role\": \"system\", \"content\": system_message},\n",
        "        {\"role\": \"user\", \"content\": prompt_iterative}\n",
        "    ]\n",
        ")\n",
        "\n",
        "print(response.choices[0].message.content)"
      ],
      "outputs": [
        {
          "output_type": "stream",
          "name": "stdout",
          "text": "Here’s a simple explanation of the provided information:\n\nIn 2023, the company made a profit of $1.1 billion, compared to a loss of $906 million in 2022. Here's why things improved:\n\n1. **Better Investments**: \n   - In 2023, the company gained $1.1 billion from its investments, including stock market gains and other profits, compared to losing $1.2 billion in 2022.\n   - Specifically:\n     - **Stock Gains**: The company made $397 million in gains from stocks in 2023, whereas it lost $433 million in 2022. The stock market performed well globally in 2023, especially early and late in the year.\n     - **Interest Rate Impact**: Due to falling interest rates in 2023 (unlike the sharp rises in 2022), the company made $66 million in profits from bonds and similar investments, compared to losing $1.2 billion in 2022.\n     - **Higher Investment Income**: The company earned $192 million more in 2023 simply because it reinvested money more effectively, took advantage of rising interest rates, and deployed funds from past transactions.\n     - **Other Investment Income**: Partnerships the company invested in started earning more, resulting in a $13 million gain, compared to losses of $74 million in 2022.\n\n2. **Other Income**:\n   - In 2023, the company earned $241 million from a one-time gain after transferring certain reinsurance policies.\n\n3. **Tax Improvements**:\n   - The company saved $238 million in taxes. This was mainly because:\n     - New tax laws allowed them to recognize a $205 million tax asset.\n     - They adjusted some tax rules in the U.S., increasing tax benefits by $25 million.\n\nOverall, better investment performance, a one-time income boost, and tax savings helped the company shift from a big loss in 2022 to a large profit in 2023.\n"
        }
      ],
      "execution_count": 28,
      "metadata": {
        "jupyter": {
          "source_hidden": false,
          "outputs_hidden": false
        },
        "nteract": {
          "transient": {
            "deleting": false
          }
        },
        "gather": {
          "logged": 1749755335843
        }
      }
    },
    {
      "cell_type": "markdown",
      "source": [
        "**Issue 1:** I want to keep numerical values in more readable output format."
      ],
      "metadata": {
        "nteract": {
          "transient": {
            "deleting": false
          }
        }
      }
    },
    {
      "cell_type": "code",
      "source": [
        "prompt_iterative1= f\"\"\" Your task is to organize given information in table format by keeping numarical values. \n",
        "\n",
        "### Context:\n",
        "{text}\n",
        "###\n",
        "\"\"\""
      ],
      "outputs": [],
      "execution_count": 29,
      "metadata": {
        "jupyter": {
          "source_hidden": false,
          "outputs_hidden": false
        },
        "nteract": {
          "transient": {
            "deleting": false
          }
        },
        "gather": {
          "logged": 1749755336001
        }
      }
    },
    {
      "cell_type": "code",
      "source": [
        "system_message = \"You are a helpful assistant.\"\n",
        "\n",
        "response = client.chat.completions.create(\n",
        "    model=\"gpt-4o\", # model = \"deployment_name\".\n",
        "    messages=[\n",
        "        {\"role\": \"system\", \"content\": system_message},\n",
        "        {\"role\": \"user\", \"content\": prompt_iterative1}\n",
        "    ]\n",
        ")\n",
        "\n",
        "print(response.choices[0].message.content)"
      ],
      "outputs": [
        {
          "output_type": "stream",
          "name": "stdout",
          "text": "| **Category**                                         | **2023**                     | **2022**                     | **Variance**               |\n|-----------------------------------------------------|------------------------------|------------------------------|----------------------------|\n| **Net Income Attributable to Ordinary Shareholders**| $1.1 billion                 | ($906 million)               | $2.006 billion favorable   |\n| **Total Investment Returns in Net Income**         | $1.1 billion favorable       | ($1.2 billion) unfavorable   | $2.3 billion favorable     |\n| - **Net Unrealized Gains (Losses) on Other Investments**| $397 million                | ($433 million)               | $830 million favorable     |\n| - **Net Realized and Unrealized Gains (Losses) on Fixed Maturities**| $66 million             | ($1.2 billion)              | $1.266 billion favorable   |\n| - **Net Investment Income**                        | $192 million increase        | N/A                          | N/A                        |\n| - **Income (Loss) from Equity Method Investments** | $13 million                  | ($74 million)                | $87 million favorable      |\n| **Other Income**                                    | $241 million increase        | N/A                          | N/A                        |\n| **Income Tax Benefit**                              | $238 million favorable change| N/A                          | N/A                        |\n| - **Net Deferred Tax Asset (Bermuda Tax)**          | $205 million                 | N/A                          | N/A                        |\n| - **Partial Release of Deferred Tax Asset Valuation Allowance (U.S.)**| $25 million            | N/A                          | N/A                        |\n| - **Valuation Allowance Increase (U.K. & EU)**      | N/A                          | N/A                          | Negative impact            |\n\n\n"
        }
      ],
      "execution_count": 31,
      "metadata": {
        "jupyter": {
          "source_hidden": false,
          "outputs_hidden": false
        },
        "nteract": {
          "transient": {
            "deleting": false
          }
        },
        "gather": {
          "logged": 1749755372964
        }
      }
    },
    {
      "cell_type": "markdown",
      "source": [
        "**Issue 2:** It is long so I need a brief summary."
      ],
      "metadata": {
        "nteract": {
          "transient": {
            "deleting": false
          }
        }
      }
    },
    {
      "cell_type": "code",
      "source": [
        "prompt_iterative2= f\"\"\" \n",
        "Your task is to organize given information briefly in table format by keeping numarical values.\n",
        "\n",
        "Then, provide simple explanation by using at most 20 words.\n",
        "\n",
        "### Context:\n",
        "{text}\n",
        "###\n",
        "\"\"\""
      ],
      "outputs": [],
      "execution_count": 32,
      "metadata": {
        "jupyter": {
          "source_hidden": false,
          "outputs_hidden": false
        },
        "nteract": {
          "transient": {
            "deleting": false
          }
        },
        "gather": {
          "logged": 1749755380304
        }
      }
    },
    {
      "cell_type": "code",
      "source": [
        "system_message = \"You are a helpful assistant.\"\n",
        "\n",
        "response = client.chat.completions.create(\n",
        "    model=\"gpt-4o\", # model = \"deployment_name\".\n",
        "    messages=[\n",
        "        {\"role\": \"system\", \"content\": system_message},\n",
        "        {\"role\": \"user\", \"content\": prompt_iterative2}\n",
        "    ]\n",
        ")\n",
        "\n",
        "print(response.choices[0].message.content)"
      ],
      "outputs": [
        {
          "output_type": "stream",
          "name": "stdout",
          "text": "### Organized Information in Table Format\n\n| Year End | Metric                           | 2023                 | 2022                 | Difference               |\n|----------|----------------------------------|----------------------|----------------------|--------------------------|\n| **Net Income** | Net income attributable to ordinary shareholders | $1.1 billion         | -$906 million         | Increase of $2.006 billion |\n| **Investment Returns** | Total investment returns in net income   | $1.1 billion         | -$1.2 billion         | Increase of $2.3 billion    |\n|              | Net unrealized gains/losses on equities      | $397 million          | -$433 million         | Increase of $830 million    |\n|              | Net realized/unrealized gains/losses on fixed maturities | $66 million           | -$1.2 billion         | Increase of $1.266 billion  |\n|              | Net investment income                     | $192 million          | -                     | Increase of $192 million    |\n|              | Income from equity method investments      | $13 million           | -$74 million          | Increase of $87 million     |\n| **Other Income** | Other income                         | $241 million          | -                     | Increase of $241 million    |\n| **Income Tax Benefit** | Change in income tax benefit               | $238 million          | -                     | Increase of $238 million    |\n|              | Establishment of deferred tax asset       | $205 million          | -                     | New tax asset (+$205M)      |\n|              | Partial release of valuation allowance   | $25 million           | -                     | Valuation adjusted (+$25M)  |\n\n---\n\n### Explanation\n\n2023 profit ($1.1B) reflected strong investment recovery, tax adjustments, and improved global markets. 2022 suffered a net loss.\n"
        }
      ],
      "execution_count": 36,
      "metadata": {
        "jupyter": {
          "source_hidden": false,
          "outputs_hidden": false
        },
        "nteract": {
          "transient": {
            "deleting": false
          }
        },
        "gather": {
          "logged": 1749755419612
        }
      }
    },
    {
      "cell_type": "code",
      "source": [
        "prompt_iterative3= f\"\"\" Your task is to organize given information briefly in table format by keeping numarical values.\n",
        "\n",
        "Then, provide simple explanation of the given context by using at most 20 words.\n",
        "\n",
        "Format everything as HTML that can be used in a website. \n",
        "\n",
        "### Context:\n",
        "{text}\n",
        "###\n",
        "\"\"\""
      ],
      "outputs": [],
      "execution_count": 37,
      "metadata": {
        "jupyter": {
          "source_hidden": false,
          "outputs_hidden": false
        },
        "nteract": {
          "transient": {
            "deleting": false
          }
        },
        "gather": {
          "logged": 1749755420108
        }
      }
    },
    {
      "cell_type": "code",
      "source": [
        "system_message = \"You are a helpful assistant.\"\n",
        "\n",
        "response = client.chat.completions.create(\n",
        "    model=\"gpt-4o\", # model = \"deployment_name\".\n",
        "    messages=[\n",
        "        {\"role\": \"system\", \"content\": system_message},\n",
        "        {\"role\": \"user\", \"content\": prompt_iterative3}\n",
        "    ]\n",
        ")\n",
        "\n",
        "print(response.choices[0].message.content)"
      ],
      "outputs": [
        {
          "output_type": "stream",
          "name": "stdout",
          "text": "```html\n<!DOCTYPE html>\n<html>\n<head>\n    <title>Annual Results</title>\n    <style>\n        table {\n            border-collapse: collapse;\n            width: 100%;\n        }\n        th, td {\n            border: 1px solid black;\n            text-align: left;\n            padding: 8px;\n        }\n        th {\n            background-color: #f2f2f2;\n        }\n    </style>\n</head>\n<body>\n    <h1>Annual Results: Year Ended December 31, 2023 vs 2022</h1>\n    <table>\n        <tr>\n            <th>Metrics</th>\n            <th>2023 ($)</th>\n            <th>2022 ($)</th>\n        </tr>\n        <tr>\n            <td>Net Income (Loss) attributable to shareholders</td>\n            <td>1.1 billion</td>\n            <td>-906 million</td>\n        </tr>\n        <tr>\n            <td>Total Investment Returns in Net Income</td>\n            <td>1.1 billion</td>\n            <td>-1.2 billion</td>\n        </tr>\n        <tr>\n            <td>Net Unrealized Gains (Losses) on Other Investments</td>\n            <td>397 million</td>\n            <td>-433 million</td>\n        </tr>\n        <tr>\n            <td>Net Realized/Unrealized Gains (Losses) on Fixed Maturities</td>\n            <td>66 million</td>\n            <td>-1.2 billion</td>\n        </tr>\n        <tr>\n            <td>Net Investment Income</td>\n            <td>192 million</td>\n            <td>(Increase from prior)</td>\n        </tr>\n        <tr>\n            <td>Income from Equity Method Investments</td>\n            <td>13 million</td>\n            <td>-74 million</td>\n        </tr>\n        <tr>\n            <td>Other Income</td>\n            <td>241 million</td>\n            <td>---</td>\n        </tr>\n        <tr>\n            <td>Income Tax Benefit Change</td>\n            <td>238 million</td>\n            <td>---</td>\n        </tr>\n    </table>\n    <p><strong>Summary:</strong> Net income improved significantly due to favorable investments, tax changes, and better global equity and interest rate conditions.</p>\n</body>\n</html>\n```\n"
        }
      ],
      "execution_count": 38,
      "metadata": {
        "jupyter": {
          "source_hidden": false,
          "outputs_hidden": false
        },
        "nteract": {
          "transient": {
            "deleting": false
          }
        },
        "gather": {
          "logged": 1749755457336
        }
      }
    },
    {
      "cell_type": "markdown",
      "source": [
        "## Display the HTML content of the completion response"
      ],
      "metadata": {
        "nteract": {
          "transient": {
            "deleting": false
          }
        }
      }
    },
    {
      "cell_type": "code",
      "source": [
        "from IPython.display import display, HTML\n",
        "display(HTML(response.choices[0].message.content))"
      ],
      "outputs": [
        {
          "output_type": "display_data",
          "data": {
            "text/plain": "<IPython.core.display.HTML object>",
            "text/html": "```html\n<!DOCTYPE html>\n<html>\n<head>\n    <title>Annual Results</title>\n    <style>\n        table {\n            border-collapse: collapse;\n            width: 100%;\n        }\n        th, td {\n            border: 1px solid black;\n            text-align: left;\n            padding: 8px;\n        }\n        th {\n            background-color: #f2f2f2;\n        }\n    </style>\n</head>\n<body>\n    <h1>Annual Results: Year Ended December 31, 2023 vs 2022</h1>\n    <table>\n        <tr>\n            <th>Metrics</th>\n            <th>2023 ($)</th>\n            <th>2022 ($)</th>\n        </tr>\n        <tr>\n            <td>Net Income (Loss) attributable to shareholders</td>\n            <td>1.1 billion</td>\n            <td>-906 million</td>\n        </tr>\n        <tr>\n            <td>Total Investment Returns in Net Income</td>\n            <td>1.1 billion</td>\n            <td>-1.2 billion</td>\n        </tr>\n        <tr>\n            <td>Net Unrealized Gains (Losses) on Other Investments</td>\n            <td>397 million</td>\n            <td>-433 million</td>\n        </tr>\n        <tr>\n            <td>Net Realized/Unrealized Gains (Losses) on Fixed Maturities</td>\n            <td>66 million</td>\n            <td>-1.2 billion</td>\n        </tr>\n        <tr>\n            <td>Net Investment Income</td>\n            <td>192 million</td>\n            <td>(Increase from prior)</td>\n        </tr>\n        <tr>\n            <td>Income from Equity Method Investments</td>\n            <td>13 million</td>\n            <td>-74 million</td>\n        </tr>\n        <tr>\n            <td>Other Income</td>\n            <td>241 million</td>\n            <td>---</td>\n        </tr>\n        <tr>\n            <td>Income Tax Benefit Change</td>\n            <td>238 million</td>\n            <td>---</td>\n        </tr>\n    </table>\n    <p><strong>Summary:</strong> Net income improved significantly due to favorable investments, tax changes, and better global equity and interest rate conditions.</p>\n</body>\n</html>\n```"
          },
          "metadata": {}
        }
      ],
      "execution_count": 39,
      "metadata": {
        "jupyter": {
          "source_hidden": false,
          "outputs_hidden": false
        },
        "nteract": {
          "transient": {
            "deleting": false
          }
        },
        "gather": {
          "logged": 1749755457526
        }
      }
    },
    {
      "cell_type": "code",
      "source": [],
      "outputs": [],
      "execution_count": null,
      "metadata": {
        "jupyter": {
          "source_hidden": false,
          "outputs_hidden": false
        },
        "nteract": {
          "transient": {
            "deleting": false
          }
        }
      }
    }
  ],
  "metadata": {
    "kernelspec": {
      "name": "python310-sdkv2",
      "language": "python",
      "display_name": "Python 3.10 - SDK v2"
    },
    "language_info": {
      "name": "python",
      "version": "3.10.16",
      "mimetype": "text/x-python",
      "codemirror_mode": {
        "name": "ipython",
        "version": 3
      },
      "pygments_lexer": "ipython3",
      "nbconvert_exporter": "python",
      "file_extension": ".py"
    },
    "microsoft": {
      "ms_spell_check": {
        "ms_spell_check_language": "en"
      },
      "host": {
        "AzureML": {
          "notebookHasBeenCompleted": true
        }
      }
    },
    "kernel_info": {
      "name": "python310-sdkv2"
    },
    "nteract": {
      "version": "nteract-front-end@1.0.0"
    }
  },
  "nbformat": 4,
  "nbformat_minor": 2
}