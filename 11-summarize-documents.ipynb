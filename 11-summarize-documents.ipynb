{
  "cells": [
    {
      "attachments": {},
      "cell_type": "markdown",
      "source": [
        "# Summarise Documents"
      ],
      "metadata": {}
    },
    {
      "attachments": {},
      "cell_type": "markdown",
      "source": [
        "## Set up Azure OpenAI"
      ],
      "metadata": {}
    },
    {
      "cell_type": "code",
      "source": [
        "# import openai\n",
        "# from openai import AzureOpenAI\n",
        "# import os \n",
        "# from azure.identity import ManagedIdentityCredential\n",
        "\n",
        "# default_credential=ManagedIdentityCredential(client_id=\"XXX\")\n",
        "# token=default_credential.get_token(\"https://cognitiveservices.azure.com/.default\")\n",
        "# Resource_endpoint=\"XXX\"\n",
        "\n",
        "# client = AzureOpenAI(\n",
        "#   azure_endpoint = Resource_endpoint, \n",
        "#   api_key=token.token,  \n",
        "#   api_version=\"2023-05-15\"\n",
        "# )"
      ],
      "outputs": [],
      "execution_count": 1,
      "metadata": {
        "jupyter": {
          "source_hidden": false,
          "outputs_hidden": false
        },
        "nteract": {
          "transient": {
            "deleting": false
          }
        },
        "gather": {
          "logged": 1700442361546
        }
      }
    },
    {
      "cell_type": "code",
      "source": [
        "import os\n",
        "import openai\n",
        "from openai import AzureOpenAI\n",
        "from dotenv import load_dotenv\n",
        "\n",
        "# Set up Azure OpenAI\n",
        "load_dotenv(\"credentials.env\")\n",
        "\n",
        "openai.api_type = \"azure\"\n",
        "    \n",
        "client = AzureOpenAI(\n",
        "    api_key=os.getenv(\"AZURE_OPENAI_API_KEY\"),  \n",
        "    api_version=\"2024-02-01\",\n",
        "    azure_endpoint = os.getenv(\"AZURE_OPENAI_ENDPOINT\")\n",
        "    )"
      ],
      "outputs": [],
      "execution_count": 1,
      "metadata": {
        "jupyter": {
          "source_hidden": false,
          "outputs_hidden": false
        },
        "nteract": {
          "transient": {
            "deleting": false
          }
        },
        "gather": {
          "logged": 1749762260766
        }
      }
    },
    {
      "attachments": {},
      "cell_type": "markdown",
      "source": [
        "## Load Data"
      ],
      "metadata": {}
    },
    {
      "cell_type": "code",
      "source": [
        "import pandas as pd\n",
        "\n",
        "df_orig = pd.read_csv(\"data/bbc-news-data.csv\", delimiter='\\t', index_col=False)"
      ],
      "outputs": [],
      "execution_count": 2,
      "metadata": {
        "gather": {
          "logged": 1749762265053
        }
      }
    },
    {
      "cell_type": "code",
      "source": [
        "df = df_orig.copy()\n",
        "df"
      ],
      "outputs": [
        {
          "output_type": "execute_result",
          "execution_count": 3,
          "data": {
            "text/plain": "      category filename                              title  \\\n0     business  001.txt  Ad sales boost Time Warner profit   \n1     business  002.txt   Dollar gains on Greenspan speech   \n2     business  003.txt  Yukos unit buyer faces loan claim   \n3     business  004.txt  High fuel prices hit BA's profits   \n4     business  005.txt  Pernod takeover talk lifts Domecq   \n...        ...      ...                                ...   \n2220      tech  397.txt   BT program to beat dialler scams   \n2221      tech  398.txt    Spam e-mails tempt net shoppers   \n2222      tech  399.txt            Be careful how you code   \n2223      tech  400.txt    US cyber security chief resigns   \n2224      tech  401.txt   Losing yourself in online gaming   \n\n                                                content  \n0      Quarterly profits at US media giant TimeWarne...  \n1      The dollar has hit its highest level against ...  \n2      The owners of embattled Russian oil giant Yuk...  \n3      British Airways has blamed high fuel prices f...  \n4      Shares in UK drinks and food firm Allied Dome...  \n...                                                 ...  \n2220   BT is introducing two initiatives to help bea...  \n2221   Computer users across the world continue to i...  \n2222   A new European directive could put software w...  \n2223   The man making sure US computer networks are ...  \n2224   Online role playing games are time-consuming,...  \n\n[2225 rows x 4 columns]",
            "text/html": "<div>\n<style scoped>\n    .dataframe tbody tr th:only-of-type {\n        vertical-align: middle;\n    }\n\n    .dataframe tbody tr th {\n        vertical-align: top;\n    }\n\n    .dataframe thead th {\n        text-align: right;\n    }\n</style>\n<table border=\"1\" class=\"dataframe\">\n  <thead>\n    <tr style=\"text-align: right;\">\n      <th></th>\n      <th>category</th>\n      <th>filename</th>\n      <th>title</th>\n      <th>content</th>\n    </tr>\n  </thead>\n  <tbody>\n    <tr>\n      <th>0</th>\n      <td>business</td>\n      <td>001.txt</td>\n      <td>Ad sales boost Time Warner profit</td>\n      <td>Quarterly profits at US media giant TimeWarne...</td>\n    </tr>\n    <tr>\n      <th>1</th>\n      <td>business</td>\n      <td>002.txt</td>\n      <td>Dollar gains on Greenspan speech</td>\n      <td>The dollar has hit its highest level against ...</td>\n    </tr>\n    <tr>\n      <th>2</th>\n      <td>business</td>\n      <td>003.txt</td>\n      <td>Yukos unit buyer faces loan claim</td>\n      <td>The owners of embattled Russian oil giant Yuk...</td>\n    </tr>\n    <tr>\n      <th>3</th>\n      <td>business</td>\n      <td>004.txt</td>\n      <td>High fuel prices hit BA's profits</td>\n      <td>British Airways has blamed high fuel prices f...</td>\n    </tr>\n    <tr>\n      <th>4</th>\n      <td>business</td>\n      <td>005.txt</td>\n      <td>Pernod takeover talk lifts Domecq</td>\n      <td>Shares in UK drinks and food firm Allied Dome...</td>\n    </tr>\n    <tr>\n      <th>...</th>\n      <td>...</td>\n      <td>...</td>\n      <td>...</td>\n      <td>...</td>\n    </tr>\n    <tr>\n      <th>2220</th>\n      <td>tech</td>\n      <td>397.txt</td>\n      <td>BT program to beat dialler scams</td>\n      <td>BT is introducing two initiatives to help bea...</td>\n    </tr>\n    <tr>\n      <th>2221</th>\n      <td>tech</td>\n      <td>398.txt</td>\n      <td>Spam e-mails tempt net shoppers</td>\n      <td>Computer users across the world continue to i...</td>\n    </tr>\n    <tr>\n      <th>2222</th>\n      <td>tech</td>\n      <td>399.txt</td>\n      <td>Be careful how you code</td>\n      <td>A new European directive could put software w...</td>\n    </tr>\n    <tr>\n      <th>2223</th>\n      <td>tech</td>\n      <td>400.txt</td>\n      <td>US cyber security chief resigns</td>\n      <td>The man making sure US computer networks are ...</td>\n    </tr>\n    <tr>\n      <th>2224</th>\n      <td>tech</td>\n      <td>401.txt</td>\n      <td>Losing yourself in online gaming</td>\n      <td>Online role playing games are time-consuming,...</td>\n    </tr>\n  </tbody>\n</table>\n<p>2225 rows × 4 columns</p>\n</div>"
          },
          "metadata": {}
        }
      ],
      "execution_count": 3,
      "metadata": {
        "gather": {
          "logged": 1749762265161
        }
      }
    },
    {
      "attachments": {},
      "cell_type": "markdown",
      "source": [
        "## Create prompt"
      ],
      "metadata": {}
    },
    {
      "cell_type": "code",
      "source": [
        "prompt_postfix = \"\"\" \n",
        "  \\n\\nTl;dr\n",
        "\"\"\"\n",
        "\n",
        "prompt = df['title'].loc[0] + \"\\n\" + df['content'].loc[0] + prompt_postfix\n",
        "prompt"
      ],
      "outputs": [
        {
          "output_type": "execute_result",
          "execution_count": 4,
          "data": {
            "text/plain": "'Ad sales boost Time Warner profit\\n Quarterly profits at US media giant TimeWarner jumped 76% to $1.13bn (£600m) for the three months to December, from $639m year-earlier.  The firm, which is now one of the biggest investors in Google, benefited from sales of high-speed internet connections and higher advert sales. TimeWarner said fourth quarter sales rose 2% to $11.1bn from $10.9bn. Its profits were buoyed by one-off gains which offset a profit dip at Warner Bros, and less users for AOL.  Time Warner said on Friday that it now owns 8% of search-engine Google. But its own internet business, AOL, had has mixed fortunes. It lost 464,000 subscribers in the fourth quarter profits were lower than in the preceding three quarters. However, the company said AOL\\'s underlying profit before exceptional items rose 8% on the back of stronger internet advertising revenues. It hopes to increase subscribers by offering the online service free to TimeWarner internet customers and will try to sign up AOL\\'s existing customers for high-speed broadband. TimeWarner also has to restate 2000 and 2003 results following a probe by the US Securities Exchange Commission (SEC), which is close to concluding.  Time Warner\\'s fourth quarter profits were slightly better than analysts\\' expectations. But its film division saw profits slump 27% to $284m, helped by box-office flops Alexander and Catwoman, a sharp contrast to year-earlier, when the third and final film in the Lord of the Rings trilogy boosted results. For the full-year, TimeWarner posted a profit of $3.36bn, up 27% from its 2003 performance, while revenues grew 6.4% to $42.09bn. \"Our financial performance was strong, meeting or exceeding all of our full-year objectives and greatly enhancing our flexibility,\" chairman and chief executive Richard Parsons said. For 2005, TimeWarner is projecting operating earnings growth of around 5%, and also expects higher revenue and wider profit margins.  TimeWarner is to restate its accounts as part of efforts to resolve an inquiry into AOL by US market regulators. It has already offered to pay $300m to settle charges, in a deal that is under review by the SEC. The company said it was unable to estimate the amount it needed to set aside for legal reserves, which it previously set at $500m. It intends to adjust the way it accounts for a deal with German music publisher Bertelsmann\\'s purchase of a stake in AOL Europe, which it had reported as advertising revenue. It will now book the sale of its stake in AOL Europe as a loss on the value of that stake.  \\n  \\n\\nTl;dr\\n'"
          },
          "metadata": {}
        }
      ],
      "execution_count": 4,
      "metadata": {
        "gather": {
          "logged": 1749762271926
        }
      }
    },
    {
      "attachments": {},
      "cell_type": "markdown",
      "source": [
        "## Requst to API"
      ],
      "metadata": {}
    },
    {
      "cell_type": "code",
      "source": [
        "response = client.chat.completions.create(\n",
        "    model=\"gpt-4o\",\n",
        "    messages=[{\"role\": \"user\", \"content\": prompt}],\n",
        "    temperature=0,\n",
        "    max_tokens=50\n",
        ")\n",
        "\n",
        "print(response.choices[0].message.content.strip())\n"
      ],
      "outputs": [
        {
          "output_type": "stream",
          "name": "stdout",
          "text": "TimeWarner's quarterly profits surged 76% to $1.13bn, driven by strong ad sales and high-speed internet growth, despite a decline in AOL subscribers and Warner Bros' profit slump due to box-office flops like *Alexander*\n"
        }
      ],
      "execution_count": 5,
      "metadata": {
        "gather": {
          "logged": 1749762325814
        }
      }
    },
    {
      "attachments": {},
      "cell_type": "markdown",
      "source": [
        "### Putting the codes together"
      ],
      "metadata": {}
    },
    {
      "cell_type": "code",
      "source": [
        "results = pd.DataFrame(columns=['summary'], index=df.index)\n",
        "#prompt postfix\n",
        "prompt_postfix = \"\\n\\nTl;dr\"\n",
        "\n",
        "for idx, title, content in zip(range(10), df['title'].loc[df.index.values], df['content'].loc[df.index.values]):\n",
        "    # build prompt\n",
        "    prompt = title + \"\\n\" + content + prompt_postfix\n",
        "\n",
        "    try:\n",
        "        #Request API\n",
        "        response = client.chat.completions.create(\n",
        "            model=\"gpt-4o\",\n",
        "            messages=[{\"role\": \"user\", \"content\": prompt}],\n",
        "            temperature=0,\n",
        "            max_tokens=50\n",
        "        )\n",
        "        results.at[idx, 'summary'] = response.choices[0].message.content.strip()\n",
        "    except Exception as err:\n",
        "        print(f\"Unexpected error at index {idx}: {err} ({type(err)})\")\n"
      ],
      "outputs": [],
      "execution_count": 7,
      "metadata": {
        "gather": {
          "logged": 1749762359091
        }
      }
    },
    {
      "attachments": {},
      "cell_type": "markdown",
      "source": [
        "### Results"
      ],
      "metadata": {}
    },
    {
      "cell_type": "code",
      "source": [
        "results.head(10)"
      ],
      "outputs": [
        {
          "output_type": "execute_result",
          "execution_count": 8,
          "data": {
            "text/plain": "                                             summary\n0  TimeWarner's quarterly profits surged 76% to $...\n1  The US dollar hit a nearly three-month high ag...\n2  Yukos' former production unit, Yugansk, was so...\n3  British Airways (BA) reported a 40% drop in pr...\n4  Shares in UK drinks and food firm Allied Domec...\n5  Japan narrowly avoided a technical recession w...\n6  The US added 146,000 jobs in January, below ex...\n7  India's Finance Minister, Palaniappan Chidamba...\n8  Ethiopia's crop production increased by 24% in...\n9  A US appeals court rejected a $280 billion law...",
            "text/html": "<div>\n<style scoped>\n    .dataframe tbody tr th:only-of-type {\n        vertical-align: middle;\n    }\n\n    .dataframe tbody tr th {\n        vertical-align: top;\n    }\n\n    .dataframe thead th {\n        text-align: right;\n    }\n</style>\n<table border=\"1\" class=\"dataframe\">\n  <thead>\n    <tr style=\"text-align: right;\">\n      <th></th>\n      <th>summary</th>\n    </tr>\n  </thead>\n  <tbody>\n    <tr>\n      <th>0</th>\n      <td>TimeWarner's quarterly profits surged 76% to $...</td>\n    </tr>\n    <tr>\n      <th>1</th>\n      <td>The US dollar hit a nearly three-month high ag...</td>\n    </tr>\n    <tr>\n      <th>2</th>\n      <td>Yukos' former production unit, Yugansk, was so...</td>\n    </tr>\n    <tr>\n      <th>3</th>\n      <td>British Airways (BA) reported a 40% drop in pr...</td>\n    </tr>\n    <tr>\n      <th>4</th>\n      <td>Shares in UK drinks and food firm Allied Domec...</td>\n    </tr>\n    <tr>\n      <th>5</th>\n      <td>Japan narrowly avoided a technical recession w...</td>\n    </tr>\n    <tr>\n      <th>6</th>\n      <td>The US added 146,000 jobs in January, below ex...</td>\n    </tr>\n    <tr>\n      <th>7</th>\n      <td>India's Finance Minister, Palaniappan Chidamba...</td>\n    </tr>\n    <tr>\n      <th>8</th>\n      <td>Ethiopia's crop production increased by 24% in...</td>\n    </tr>\n    <tr>\n      <th>9</th>\n      <td>A US appeals court rejected a $280 billion law...</td>\n    </tr>\n  </tbody>\n</table>\n</div>"
          },
          "metadata": {}
        }
      ],
      "execution_count": 8,
      "metadata": {
        "gather": {
          "logged": 1749762359211
        }
      }
    },
    {
      "attachments": {},
      "cell_type": "markdown",
      "source": [
        "### Adding results to dataframe"
      ],
      "metadata": {}
    },
    {
      "cell_type": "code",
      "source": [
        "df_results = pd.concat([df.head(10), results.head(10)], axis=1)\n",
        "df_results.shape\n",
        "df_results"
      ],
      "outputs": [
        {
          "output_type": "execute_result",
          "execution_count": 9,
          "data": {
            "text/plain": "   category filename                              title  \\\n0  business  001.txt  Ad sales boost Time Warner profit   \n1  business  002.txt   Dollar gains on Greenspan speech   \n2  business  003.txt  Yukos unit buyer faces loan claim   \n3  business  004.txt  High fuel prices hit BA's profits   \n4  business  005.txt  Pernod takeover talk lifts Domecq   \n5  business  006.txt   Japan narrowly escapes recession   \n6  business  007.txt   Jobs growth still slow in the US   \n7  business  008.txt   India calls for fair trade rules   \n8  business  009.txt  Ethiopia's crop production up 24%   \n9  business  010.txt  Court rejects $280bn tobacco case   \n\n                                             content  \\\n0   Quarterly profits at US media giant TimeWarne...   \n1   The dollar has hit its highest level against ...   \n2   The owners of embattled Russian oil giant Yuk...   \n3   British Airways has blamed high fuel prices f...   \n4   Shares in UK drinks and food firm Allied Dome...   \n5   Japan's economy teetered on the brink of a te...   \n6   The US created fewer jobs than expected in Ja...   \n7   India, which attends the G7 meeting of seven ...   \n8   Ethiopia produced 14.27 million tonnes of cro...   \n9   A US government claim accusing the country's ...   \n\n                                             summary  \n0  TimeWarner's quarterly profits surged 76% to $...  \n1  The US dollar hit a nearly three-month high ag...  \n2  Yukos' former production unit, Yugansk, was so...  \n3  British Airways (BA) reported a 40% drop in pr...  \n4  Shares in UK drinks and food firm Allied Domec...  \n5  Japan narrowly avoided a technical recession w...  \n6  The US added 146,000 jobs in January, below ex...  \n7  India's Finance Minister, Palaniappan Chidamba...  \n8  Ethiopia's crop production increased by 24% in...  \n9  A US appeals court rejected a $280 billion law...  ",
            "text/html": "<div>\n<style scoped>\n    .dataframe tbody tr th:only-of-type {\n        vertical-align: middle;\n    }\n\n    .dataframe tbody tr th {\n        vertical-align: top;\n    }\n\n    .dataframe thead th {\n        text-align: right;\n    }\n</style>\n<table border=\"1\" class=\"dataframe\">\n  <thead>\n    <tr style=\"text-align: right;\">\n      <th></th>\n      <th>category</th>\n      <th>filename</th>\n      <th>title</th>\n      <th>content</th>\n      <th>summary</th>\n    </tr>\n  </thead>\n  <tbody>\n    <tr>\n      <th>0</th>\n      <td>business</td>\n      <td>001.txt</td>\n      <td>Ad sales boost Time Warner profit</td>\n      <td>Quarterly profits at US media giant TimeWarne...</td>\n      <td>TimeWarner's quarterly profits surged 76% to $...</td>\n    </tr>\n    <tr>\n      <th>1</th>\n      <td>business</td>\n      <td>002.txt</td>\n      <td>Dollar gains on Greenspan speech</td>\n      <td>The dollar has hit its highest level against ...</td>\n      <td>The US dollar hit a nearly three-month high ag...</td>\n    </tr>\n    <tr>\n      <th>2</th>\n      <td>business</td>\n      <td>003.txt</td>\n      <td>Yukos unit buyer faces loan claim</td>\n      <td>The owners of embattled Russian oil giant Yuk...</td>\n      <td>Yukos' former production unit, Yugansk, was so...</td>\n    </tr>\n    <tr>\n      <th>3</th>\n      <td>business</td>\n      <td>004.txt</td>\n      <td>High fuel prices hit BA's profits</td>\n      <td>British Airways has blamed high fuel prices f...</td>\n      <td>British Airways (BA) reported a 40% drop in pr...</td>\n    </tr>\n    <tr>\n      <th>4</th>\n      <td>business</td>\n      <td>005.txt</td>\n      <td>Pernod takeover talk lifts Domecq</td>\n      <td>Shares in UK drinks and food firm Allied Dome...</td>\n      <td>Shares in UK drinks and food firm Allied Domec...</td>\n    </tr>\n    <tr>\n      <th>5</th>\n      <td>business</td>\n      <td>006.txt</td>\n      <td>Japan narrowly escapes recession</td>\n      <td>Japan's economy teetered on the brink of a te...</td>\n      <td>Japan narrowly avoided a technical recession w...</td>\n    </tr>\n    <tr>\n      <th>6</th>\n      <td>business</td>\n      <td>007.txt</td>\n      <td>Jobs growth still slow in the US</td>\n      <td>The US created fewer jobs than expected in Ja...</td>\n      <td>The US added 146,000 jobs in January, below ex...</td>\n    </tr>\n    <tr>\n      <th>7</th>\n      <td>business</td>\n      <td>008.txt</td>\n      <td>India calls for fair trade rules</td>\n      <td>India, which attends the G7 meeting of seven ...</td>\n      <td>India's Finance Minister, Palaniappan Chidamba...</td>\n    </tr>\n    <tr>\n      <th>8</th>\n      <td>business</td>\n      <td>009.txt</td>\n      <td>Ethiopia's crop production up 24%</td>\n      <td>Ethiopia produced 14.27 million tonnes of cro...</td>\n      <td>Ethiopia's crop production increased by 24% in...</td>\n    </tr>\n    <tr>\n      <th>9</th>\n      <td>business</td>\n      <td>010.txt</td>\n      <td>Court rejects $280bn tobacco case</td>\n      <td>A US government claim accusing the country's ...</td>\n      <td>A US appeals court rejected a $280 billion law...</td>\n    </tr>\n  </tbody>\n</table>\n</div>"
          },
          "metadata": {}
        }
      ],
      "execution_count": 9,
      "metadata": {
        "gather": {
          "logged": 1749762361916
        }
      }
    },
    {
      "attachments": {},
      "cell_type": "markdown",
      "source": [
        "## Save results"
      ],
      "metadata": {}
    },
    {
      "cell_type": "code",
      "source": [
        "fname = 'output/summaries.csv'\n",
        "df_results.to_csv(fname, sep='\\t')"
      ],
      "outputs": [],
      "execution_count": 10,
      "metadata": {
        "gather": {
          "logged": 1749762364114
        }
      }
    }
  ],
  "metadata": {
    "kernelspec": {
      "name": "python310-sdkv2",
      "language": "python",
      "display_name": "Python 3.10 - SDK v2"
    },
    "language_info": {
      "name": "python",
      "version": "3.10.16",
      "mimetype": "text/x-python",
      "codemirror_mode": {
        "name": "ipython",
        "version": 3
      },
      "pygments_lexer": "ipython3",
      "nbconvert_exporter": "python",
      "file_extension": ".py"
    },
    "orig_nbformat": 4,
    "vscode": {
      "interpreter": {
        "hash": "6d65a8c07f5b6469e0fc613f182488c0dccce05038bbda39e5ac9075c0454d11"
      }
    },
    "microsoft": {
      "ms_spell_check": {
        "ms_spell_check_language": "en"
      },
      "host": {
        "AzureML": {
          "notebookHasBeenCompleted": true
        }
      }
    },
    "kernel_info": {
      "name": "python310-sdkv2"
    },
    "nteract": {
      "version": "nteract-front-end@1.0.0"
    }
  },
  "nbformat": 4,
  "nbformat_minor": 2
}