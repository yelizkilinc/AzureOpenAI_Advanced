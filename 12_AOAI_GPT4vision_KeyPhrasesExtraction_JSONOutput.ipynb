{
  "cells": [
    {
      "cell_type": "code",
      "source": [
        "import os\n",
        "import requests\n",
        "import base64\n",
        "from dotenv import load_dotenv\n",
        "\n",
        "# Set up Azure OpenAI\n",
        "load_dotenv(\"credentials.env\")\n",
        "\n",
        "api_key=\"FmIgf7VyuYfjWQv2232Ipcqlu9f6fwy7HQZO0G0eyXGOnqvruEWkJQQJ99BDACfhMk5XJ3w3AAABACOGmclz\"\n",
        "\n",
        "IMAGE_PATH = \"data/complex_report_screenshot.png\"\n",
        "\n",
        "encoded_image = base64.b64encode(open(IMAGE_PATH, 'rb').read()).decode('ascii')\n",
        "headers = {\n",
        "    \"Content-Type\": \"application/json\",\n",
        "    \"api-key\": api_key,\n",
        "}\n",
        "\n",
        "# Payload for the request\n",
        "payload = {\n",
        "  \"messages\": [\n",
        "    {\n",
        "      \"role\": \"system\",\n",
        "      \"content\": [\n",
        "        {\n",
        "          \"type\": \"text\",\n",
        "          \"text\": \"You are an AI assistant that extract information from images.\"\n",
        "        }\n",
        "      ]\n",
        "    },\n",
        "    {\n",
        "      \"role\": \"user\",\n",
        "      \"content\": [\n",
        "        {\n",
        "          \"type\": \"image_url\",\n",
        "          \"image_url\": {\n",
        "            \"url\": f\"data:image/jpeg;base64,{encoded_image}\"\n",
        "          }\n",
        "        },\n",
        "        {\n",
        "          \"type\": \"text\",\n",
        "          \"text\":\"explain this image and give me launch date, fund size and risk class as key value pairs.\"\n",
        "        }\n",
        "      ]\n",
        "    }\n",
        "  ],\n",
        "  \"temperature\": 0.7,\n",
        "  \"top_p\": 0.95,\n",
        "  \"max_tokens\": 800\n",
        "}\n",
        "\n",
        "uri = \"https://swedencentral-shared-yk.openai.azure.com/openai/deployments/gpt-4o/chat/completions?api-version=2025-01-01-preview\"\n",
        "\n",
        "# Send request\n",
        "try:\n",
        "    response = requests.post(uri, headers=headers, json=payload)\n",
        "    response.raise_for_status()  # Will raise an HTTPError if the HTTP request returned an unsuccessful status code\n",
        "except requests.RequestException as e:\n",
        "    raise SystemExit(f\"Failed to make the request. Error: {e}\")\n",
        "\n",
        "# Handle the response as needed (e.g., print or process)\n",
        "print(response.json())"
      ],
      "outputs": [
        {
          "output_type": "stream",
          "name": "stdout",
          "text": "{'choices': [{'content_filter_results': {'hate': {'filtered': False, 'severity': 'safe'}, 'protected_material_code': {'filtered': False, 'detected': False}, 'protected_material_text': {'filtered': False, 'detected': False}, 'self_harm': {'filtered': False, 'severity': 'safe'}, 'sexual': {'filtered': False, 'severity': 'safe'}, 'violence': {'filtered': False, 'severity': 'safe'}}, 'finish_reason': 'stop', 'index': 0, 'logprobs': None, 'message': {'annotations': [], 'content': \"This image is a fact sheet for the **Principal - MPF Conservative Fund (CAP)**, which provides details about the fund's performance, investment objectives, allocation, and holdings as of 31/12/2023. Key sections include Fund Details, Investment Objective, Fund Performance, Allocation, and Commentary.\\n\\nHere are the requested key-value pairs:\\n\\n- **Launch Date**: 1/12/2000  \\n- **Fund Size (in Million)**: HKD 3,804.49  \\n- **Risk Class**: 1  \", 'refusal': None, 'role': 'assistant'}}], 'created': 1749762918, 'id': 'chatcmpl-BhjYUg5AjuyRGfbX3vWtcgzDc312T', 'model': 'gpt-4o-2024-11-20', 'object': 'chat.completion', 'prompt_filter_results': [{'prompt_index': 0, 'content_filter_result': {'sexual': {'filtered': False, 'severity': 'safe'}, 'violence': {'filtered': False, 'severity': 'safe'}, 'hate': {'filtered': False, 'severity': 'safe'}, 'self_harm': {'filtered': False, 'severity': 'safe'}, 'jailbreak': {'filtered': False, 'detected': False}, 'custom_blocklists': {'filtered': False, 'details': []}}}, {'prompt_index': 1, 'content_filter_result': {'sexual': {'filtered': False, 'severity': 'safe'}, 'violence': {'filtered': False, 'severity': 'safe'}, 'hate': {'filtered': False, 'severity': 'safe'}, 'self_harm': {'filtered': False, 'severity': 'safe'}, 'custom_blocklists': {'filtered': False, 'details': []}}}], 'system_fingerprint': 'fp_ee1d74bde0', 'usage': {'completion_tokens': 111, 'completion_tokens_details': {'accepted_prediction_tokens': 0, 'audio_tokens': 0, 'reasoning_tokens': 0, 'rejected_prediction_tokens': 0}, 'prompt_tokens': 1147, 'prompt_tokens_details': {'audio_tokens': 0, 'cached_tokens': 0}, 'total_tokens': 1258}}\n"
        }
      ],
      "execution_count": 11,
      "metadata": {
        "gather": {
          "logged": 1749762921872
        }
      }
    },
    {
      "cell_type": "code",
      "source": [
        "import json\n",
        "result = json.loads(response.text)[\"choices\"][0][\"message\"][\"content\"]"
      ],
      "outputs": [],
      "execution_count": 9,
      "metadata": {
        "jupyter": {
          "source_hidden": false,
          "outputs_hidden": false
        },
        "nteract": {
          "transient": {
            "deleting": false
          }
        },
        "gather": {
          "logged": 1724229110108
        }
      }
    },
    {
      "cell_type": "code",
      "source": [
        "result"
      ],
      "outputs": [
        {
          "output_type": "execute_result",
          "execution_count": 10,
          "data": {
            "text/plain": "'This image is a detailed fund fact sheet for the \"Principal - MPF Conservative Fund (CAP),\" provided by Principal MPF. It contains various sections that inform an investor about the fund\\'s characteristics, performance, investment allocations, and holdings. The document includes:\\n\\n- **Fund Details**: Basic information such as fund descriptor, management company, launch date, and size.\\n- **Investment Objective**: Describes the purpose and investment goals of the fund.\\n- **Balance of Investments**: Explains how the fund achieves its investment objectives.\\n- **Fund Performance**: Displays the performance metrics over different time periods.\\n- **Fund Commentary**: Offers a market commentary and the fund manager\\'s insights.\\n- **Fund Allocation by Asset Class**: Shows a pie chart distribution of investments across different asset classes.\\n- **Top 10 Holdings**: Lists the top assets held within the fund.\\n\\nHere are the key details requested:\\n\\n- **Launch Date**: 1/12/2000\\n- **Fund Size (in Million)**: HKD 3,804.49\\n- **Risk Class**: 1.47 (Low risk)'"
          },
          "metadata": {}
        }
      ],
      "execution_count": 10,
      "metadata": {
        "jupyter": {
          "source_hidden": false,
          "outputs_hidden": false
        },
        "nteract": {
          "transient": {
            "deleting": false
          }
        },
        "gather": {
          "logged": 1724229111647
        }
      }
    },
    {
      "cell_type": "markdown",
      "source": [
        "# JSON FORMAT OUTPUT"
      ],
      "metadata": {
        "nteract": {
          "transient": {
            "deleting": false
          }
        }
      }
    },
    {
      "cell_type": "code",
      "source": [
        "import datetime\n",
        "import json\n",
        "import openai\n",
        "import os\n",
        "import sys\n",
        "\n",
        "from openai import AzureOpenAI\n",
        "from dotenv import load_dotenv\n",
        "from pprint import pprint"
      ],
      "outputs": [],
      "execution_count": 1,
      "metadata": {
        "jupyter": {
          "source_hidden": false,
          "outputs_hidden": false
        },
        "nteract": {
          "transient": {
            "deleting": false
          }
        },
        "gather": {
          "logged": 1749762454844
        }
      }
    },
    {
      "cell_type": "code",
      "source": [
        "# Set up Azure OpenAI\n",
        "load_dotenv(\"credentials.env\")\n",
        "\n",
        "openai.api_type = \"azure\"\n",
        "    \n",
        "client = AzureOpenAI(\n",
        "    api_key=os.getenv(\"AZURE_OPENAI_API_KEY\"),  \n",
        "    api_version=\"2024-02-01\",\n",
        "    azure_endpoint = os.getenv(\"AZURE_OPENAI_ENDPOINT\")\n",
        "    )"
      ],
      "outputs": [],
      "execution_count": 2,
      "metadata": {
        "jupyter": {
          "source_hidden": false,
          "outputs_hidden": false
        },
        "nteract": {
          "transient": {
            "deleting": false
          }
        },
        "gather": {
          "logged": 1749762454931
        }
      }
    },
    {
      "cell_type": "code",
      "source": [
        "completion = client.chat.completions.create(\n",
        "    model=\"gpt-4o\", #\"gpt-4turbo-0409\",\n",
        "    messages=[\n",
        "        {\n",
        "            \"role\": \"system\",\n",
        "            \"content\": \"You are a helpful assistant. Your response should be in JSON format.\",\n",
        "        },\n",
        "        {\n",
        "            \"role\": \"user\",\n",
        "            \"content\": \"List me 10 top movies from the 70's with the title, the director, the year \\\n",
        "        and the main actors\",\n",
        "        },\n",
        "    ],\n",
        "    response_format={\"type\": \"json_object\"},\n",
        ")"
      ],
      "outputs": [],
      "execution_count": 3,
      "metadata": {
        "jupyter": {
          "source_hidden": false,
          "outputs_hidden": false
        },
        "nteract": {
          "transient": {
            "deleting": false
          }
        },
        "gather": {
          "logged": 1749762468886
        }
      }
    },
    {
      "cell_type": "code",
      "source": [
        "print(completion)"
      ],
      "outputs": [
        {
          "output_type": "stream",
          "name": "stdout",
          "text": "ChatCompletion(id='chatcmpl-BhjR2I5Kdc0V0e0yP2BQ4UcD863d9', choices=[Choice(finish_reason='stop', index=0, logprobs=None, message=ChatCompletionMessage(content='{\\n  \"top_70s_movies\": [\\n    {\\n      \"title\": \"The Godfather\",\\n      \"director\": \"Francis Ford Coppola\",\\n      \"year\": 1972,\\n      \"main_actors\": [\"Marlon Brando\", \"Al Pacino\", \"James Caan\"]\\n    },\\n    {\\n      \"title\": \"Star Wars: Episode IV - A New Hope\",\\n      \"director\": \"George Lucas\",\\n      \"year\": 1977,\\n      \"main_actors\": [\"Mark Hamill\", \"Harrison Ford\", \"Carrie Fisher\"]\\n    },\\n    {\\n      \"title\": \"One Flew Over the Cuckoo\\'s Nest\",\\n      \"director\": \"Milos Forman\",\\n      \"year\": 1975,\\n      \"main_actors\": [\"Jack Nicholson\", \"Louise Fletcher\", \"William Redfield\"]\\n    },\\n    {\\n      \"title\": \"Jaws\",\\n      \"director\": \"Steven Spielberg\",\\n      \"year\": 1975,\\n      \"main_actors\": [\"Roy Scheider\", \"Robert Shaw\", \"Richard Dreyfuss\"]\\n    },\\n    {\\n      \"title\": \"Apocalypse Now\",\\n      \"director\": \"Francis Ford Coppola\",\\n      \"year\": 1979,\\n      \"main_actors\": [\"Martin Sheen\", \"Marlon Brando\", \"Robert Duvall\"]\\n    },\\n    {\\n      \"title\": \"Taxi Driver\",\\n      \"director\": \"Martin Scorsese\",\\n      \"year\": 1976,\\n      \"main_actors\": [\"Robert De Niro\", \"Jodie Foster\", \"Cybill Shepherd\"]\\n    },\\n    {\\n      \"title\": \"A Clockwork Orange\",\\n      \"director\": \"Stanley Kubrick\",\\n      \"year\": 1971,\\n      \"main_actors\": [\"Malcolm McDowell\", \"Patrick Magee\", \"Adrienne Corri\"]\\n    },\\n    {\\n      \"title\": \"Rocky\",\\n      \"director\": \"John G. Avildsen\",\\n      \"year\": 1976,\\n      \"main_actors\": [\"Sylvester Stallone\", \"Talia Shire\", \"Burt Young\"]\\n    },\\n    {\\n      \"title\": \"The Exorcist\",\\n      \"director\": \"William Friedkin\",\\n      \"year\": 1973,\\n      \"main_actors\": [\"Ellen Burstyn\", \"Max von Sydow\", \"Linda Blair\"]\\n    },\\n    {\\n      \"title\": \"Chinatown\",\\n      \"director\": \"Roman Polanski\",\\n      \"year\": 1974,\\n      \"main_actors\": [\"Jack Nicholson\", \"Faye Dunaway\", \"John Huston\"]\\n    }\\n  ]\\n}', refusal=None, role='assistant', annotations=[], audio=None, function_call=None, tool_calls=None), content_filter_results={'hate': {'filtered': False, 'severity': 'safe'}, 'protected_material_code': {'filtered': False, 'detected': False}, 'protected_material_text': {'filtered': False, 'detected': False}, 'self_harm': {'filtered': False, 'severity': 'safe'}, 'sexual': {'filtered': False, 'severity': 'safe'}, 'violence': {'filtered': False, 'severity': 'safe'}})], created=1749762456, model='gpt-4o-2024-11-20', object='chat.completion', service_tier=None, system_fingerprint='fp_ee1d74bde0', usage=CompletionUsage(completion_tokens=556, prompt_tokens=50, total_tokens=606, completion_tokens_details=CompletionTokensDetails(accepted_prediction_tokens=0, audio_tokens=0, reasoning_tokens=0, rejected_prediction_tokens=0), prompt_tokens_details=PromptTokensDetails(audio_tokens=0, cached_tokens=0)), prompt_filter_results=[{'prompt_index': 0, 'content_filter_results': {'hate': {'filtered': False, 'severity': 'safe'}, 'jailbreak': {'filtered': False, 'detected': False}, 'self_harm': {'filtered': False, 'severity': 'safe'}, 'sexual': {'filtered': False, 'severity': 'safe'}, 'violence': {'filtered': False, 'severity': 'safe'}}}])\n"
        }
      ],
      "execution_count": 4,
      "metadata": {
        "jupyter": {
          "source_hidden": false,
          "outputs_hidden": false
        },
        "nteract": {
          "transient": {
            "deleting": false
          }
        },
        "gather": {
          "logged": 1749762475006
        }
      }
    },
    {
      "cell_type": "code",
      "source": [
        "completion.usage"
      ],
      "outputs": [
        {
          "output_type": "execute_result",
          "execution_count": 5,
          "data": {
            "text/plain": "CompletionUsage(completion_tokens=556, prompt_tokens=50, total_tokens=606, completion_tokens_details=CompletionTokensDetails(accepted_prediction_tokens=0, audio_tokens=0, reasoning_tokens=0, rejected_prediction_tokens=0), prompt_tokens_details=PromptTokensDetails(audio_tokens=0, cached_tokens=0))"
          },
          "metadata": {}
        }
      ],
      "execution_count": 5,
      "metadata": {
        "jupyter": {
          "source_hidden": false,
          "outputs_hidden": false
        },
        "nteract": {
          "transient": {
            "deleting": false
          }
        },
        "gather": {
          "logged": 1749762482969
        }
      }
    },
    {
      "cell_type": "code",
      "source": [
        "json_answer = json.loads(completion.choices[0].message.content)\n",
        "pprint(json_answer)"
      ],
      "outputs": [
        {
          "output_type": "stream",
          "name": "stdout",
          "text": "{'top_70s_movies': [{'director': 'Francis Ford Coppola',\n                     'main_actors': ['Marlon Brando',\n                                     'Al Pacino',\n                                     'James Caan'],\n                     'title': 'The Godfather',\n                     'year': 1972},\n                    {'director': 'George Lucas',\n                     'main_actors': ['Mark Hamill',\n                                     'Harrison Ford',\n                                     'Carrie Fisher'],\n                     'title': 'Star Wars: Episode IV - A New Hope',\n                     'year': 1977},\n                    {'director': 'Milos Forman',\n                     'main_actors': ['Jack Nicholson',\n                                     'Louise Fletcher',\n                                     'William Redfield'],\n                     'title': \"One Flew Over the Cuckoo's Nest\",\n                     'year': 1975},\n                    {'director': 'Steven Spielberg',\n                     'main_actors': ['Roy Scheider',\n                                     'Robert Shaw',\n                                     'Richard Dreyfuss'],\n                     'title': 'Jaws',\n                     'year': 1975},\n                    {'director': 'Francis Ford Coppola',\n                     'main_actors': ['Martin Sheen',\n                                     'Marlon Brando',\n                                     'Robert Duvall'],\n                     'title': 'Apocalypse Now',\n                     'year': 1979},\n                    {'director': 'Martin Scorsese',\n                     'main_actors': ['Robert De Niro',\n                                     'Jodie Foster',\n                                     'Cybill Shepherd'],\n                     'title': 'Taxi Driver',\n                     'year': 1976},\n                    {'director': 'Stanley Kubrick',\n                     'main_actors': ['Malcolm McDowell',\n                                     'Patrick Magee',\n                                     'Adrienne Corri'],\n                     'title': 'A Clockwork Orange',\n                     'year': 1971},\n                    {'director': 'John G. Avildsen',\n                     'main_actors': ['Sylvester Stallone',\n                                     'Talia Shire',\n                                     'Burt Young'],\n                     'title': 'Rocky',\n                     'year': 1976},\n                    {'director': 'William Friedkin',\n                     'main_actors': ['Ellen Burstyn',\n                                     'Max von Sydow',\n                                     'Linda Blair'],\n                     'title': 'The Exorcist',\n                     'year': 1973},\n                    {'director': 'Roman Polanski',\n                     'main_actors': ['Jack Nicholson',\n                                     'Faye Dunaway',\n                                     'John Huston'],\n                     'title': 'Chinatown',\n                     'year': 1974}]}\n"
        }
      ],
      "execution_count": 6,
      "metadata": {
        "jupyter": {
          "source_hidden": false,
          "outputs_hidden": false
        },
        "nteract": {
          "transient": {
            "deleting": false
          }
        },
        "gather": {
          "logged": 1749762486899
        }
      }
    },
    {
      "cell_type": "code",
      "source": [
        "json_answer[\"top_70s_movies\"][0]"
      ],
      "outputs": [
        {
          "output_type": "execute_result",
          "execution_count": 8,
          "data": {
            "text/plain": "{'title': 'The Godfather',\n 'director': 'Francis Ford Coppola',\n 'year': 1972,\n 'main_actors': ['Marlon Brando', 'Al Pacino', 'James Caan']}"
          },
          "metadata": {}
        }
      ],
      "execution_count": 8,
      "metadata": {
        "jupyter": {
          "source_hidden": false,
          "outputs_hidden": false
        },
        "nteract": {
          "transient": {
            "deleting": false
          }
        },
        "gather": {
          "logged": 1749762523000
        }
      }
    },
    {
      "cell_type": "code",
      "source": [
        "for i in range(len(json_answer[\"top_70s_movies\"])):\n",
        "    print(i+1, json_answer[\"top_70s_movies\"][i][\"title\"], json_answer[\"top_70s_movies\"][i][\"year\"])"
      ],
      "outputs": [
        {
          "output_type": "stream",
          "name": "stdout",
          "text": "1 The Godfather 1972\n2 Star Wars: Episode IV - A New Hope 1977\n3 One Flew Over the Cuckoo's Nest 1975\n4 Jaws 1975\n5 Apocalypse Now 1979\n6 Taxi Driver 1976\n7 A Clockwork Orange 1971\n8 Rocky 1976\n9 The Exorcist 1973\n10 Chinatown 1974\n"
        }
      ],
      "execution_count": 9,
      "metadata": {
        "jupyter": {
          "source_hidden": false,
          "outputs_hidden": false
        },
        "nteract": {
          "transient": {
            "deleting": false
          }
        },
        "gather": {
          "logged": 1749762538970
        }
      }
    },
    {
      "cell_type": "code",
      "source": [],
      "outputs": [],
      "execution_count": null,
      "metadata": {
        "jupyter": {
          "source_hidden": false,
          "outputs_hidden": false
        },
        "nteract": {
          "transient": {
            "deleting": false
          }
        }
      }
    }
  ],
  "metadata": {
    "kernelspec": {
      "name": "python310-sdkv2",
      "language": "python",
      "display_name": "Python 3.10 - SDK v2"
    },
    "language_info": {
      "name": "python",
      "version": "3.10.16",
      "mimetype": "text/x-python",
      "codemirror_mode": {
        "name": "ipython",
        "version": 3
      },
      "pygments_lexer": "ipython3",
      "nbconvert_exporter": "python",
      "file_extension": ".py"
    },
    "microsoft": {
      "ms_spell_check": {
        "ms_spell_check_language": "en"
      },
      "host": {
        "AzureML": {
          "notebookHasBeenCompleted": true
        }
      }
    },
    "kernel_info": {
      "name": "python310-sdkv2"
    },
    "nteract": {
      "version": "nteract-front-end@1.0.0"
    }
  },
  "nbformat": 4,
  "nbformat_minor": 2
}