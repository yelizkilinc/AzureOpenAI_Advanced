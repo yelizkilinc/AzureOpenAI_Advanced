{
  "cells": [
    {
      "cell_type": "code",
      "source": [
        "# import openai\n",
        "# from openai import AzureOpenAI\n",
        "# import os \n",
        "# from azure.identity import ManagedIdentityCredential\n",
        "\n",
        "# default_credential=ManagedIdentityCredential(client_id=\"XXX\")\n",
        "# token=default_credential.get_token(\"https://cognitiveservices.azure.com/.default\")\n",
        "# Resource_endpoint=\"XXXX\"\n",
        "\n",
        "# client = AzureOpenAI(\n",
        "#   azure_endpoint = Resource_endpoint, \n",
        "#   api_key=token.token,  \n",
        "#   api_version=\"2023-05-15\"\n",
        "# )"
      ],
      "outputs": [],
      "execution_count": 14,
      "metadata": {
        "jupyter": {
          "source_hidden": false,
          "outputs_hidden": false
        },
        "nteract": {
          "transient": {
            "deleting": false
          }
        },
        "gather": {
          "logged": 1720090341386
        }
      }
    },
    {
      "cell_type": "code",
      "source": [
        "import os\n",
        "import openai\n",
        "from openai import AzureOpenAI\n",
        "from dotenv import load_dotenv\n",
        "\n",
        "# Set up Azure OpenAI\n",
        "load_dotenv(\"credentials.env\")\n",
        "\n",
        "openai.api_type = \"azure\"\n",
        "    \n",
        "client = AzureOpenAI(\n",
        "    api_key=os.getenv(\"AZURE_OPENAI_API_KEY\"),  \n",
        "    api_version=\"2024-02-01\", #latest GA API version: https://learn.microsoft.com/en-us/azure/ai-services/openai/api-version-deprecation\n",
        "    azure_endpoint = os.getenv(\"AZURE_OPENAI_ENDPOINT\")\n",
        "    )"
      ],
      "outputs": [],
      "execution_count": 1,
      "metadata": {
        "jupyter": {
          "source_hidden": false,
          "outputs_hidden": false
        },
        "nteract": {
          "transient": {
            "deleting": false
          }
        },
        "gather": {
          "logged": 1749760819091
        }
      }
    },
    {
      "cell_type": "code",
      "source": [
        "print(os.getenv(\"AZURE_OPENAI_ENDPOINT\"))"
      ],
      "outputs": [
        {
          "output_type": "stream",
          "name": "stdout",
          "text": "https://swedencentral-shared-yk.openai.azure.com\n"
        }
      ],
      "execution_count": 2,
      "metadata": {
        "jupyter": {
          "source_hidden": false,
          "outputs_hidden": false
        },
        "nteract": {
          "transient": {
            "deleting": false
          }
        },
        "gather": {
          "logged": 1749760819717
        }
      }
    },
    {
      "attachments": {},
      "cell_type": "markdown",
      "source": [
        "# Temperature\n",
        "\n",
        "Defaults to 1, Optional\n",
        "\n",
        "What sampling temperature to use, between 0 and 2. Higher values means the model will take more risks. Try 0.9 for more creative applications, and 0 for ones with a well-defined answer.\n",
        "\n",
        "We generally recommend altering this or top_p but not both."
      ],
      "metadata": {}
    },
    {
      "cell_type": "code",
      "source": [
        "def call_openai(num_times, start_phrase, temperature):\n",
        "    for i in range(num_times):\n",
        "        deployment_name = \"gpt-4o\"  # Use the correct model identifier\n",
        "\n",
        "        # Construct the conversation messages\n",
        "        messages = [\n",
        "            {\"role\": \"system\", \"content\": \"You are a helpful assistant.\"},\n",
        "            {\"role\": \"user\", \"content\": start_phrase}\n",
        "        ]\n",
        "\n",
        "        # Send a chat completion request\n",
        "        response = client.chat.completions.create(\n",
        "            model=deployment_name,\n",
        "            messages=messages,\n",
        "            temperature=temperature,\n",
        "            max_tokens=10\n",
        "        )\n",
        "\n",
        "        # Print the generated response content\n",
        "        print(response.choices[0].message.content.strip())\n",
        "        print(\"*****************************\")"
      ],
      "outputs": [],
      "execution_count": 3,
      "metadata": {
        "gather": {
          "logged": 1749760876810
        }
      }
    },
    {
      "cell_type": "code",
      "source": [
        "call_openai(10, 'Azure machine learning is ', temperature = 0)"
      ],
      "outputs": [
        {
          "output_type": "stream",
          "name": "stdout",
          "text": "Azure Machine Learning is a cloud-based platform and service\n*****************************\nAzure Machine Learning is a cloud-based platform and service\n*****************************\nAzure Machine Learning is a cloud-based platform and service\n*****************************\nAzure Machine Learning is a cloud-based platform and service\n*****************************\nAzure Machine Learning is a cloud-based platform and service\n*****************************\nAzure Machine Learning is a cloud-based platform and service\n*****************************\nAzure Machine Learning is a cloud-based platform and service\n*****************************\nAzure Machine Learning is a cloud-based platform and service\n*****************************\nAzure Machine Learning is a cloud-based platform and service\n*****************************\nAzure Machine Learning is a cloud-based platform and service\n*****************************\n"
        }
      ],
      "execution_count": 4,
      "metadata": {
        "jupyter": {
          "source_hidden": false,
          "outputs_hidden": false
        },
        "nteract": {
          "transient": {
            "deleting": false
          }
        },
        "gather": {
          "logged": 1749760890081
        }
      }
    },
    {
      "cell_type": "code",
      "source": [
        "call_openai(10, 'Azure machine learning is ', temperature =0.5)"
      ],
      "outputs": [
        {
          "output_type": "stream",
          "name": "stdout",
          "text": "Azure Machine Learning (Azure ML) is a cloud\n*****************************\nAzure Machine Learning is a cloud-based platform and service\n*****************************\nAzure Machine Learning is a cloud-based platform and service\n*****************************\nAzure Machine Learning is a cloud-based platform and service\n*****************************\nAzure Machine Learning is a cloud-based platform and service\n*****************************\nAzure Machine Learning (Azure ML) is a cloud\n*****************************\nAzure Machine Learning (Azure ML) is a cloud\n*****************************\nAzure Machine Learning is a cloud-based platform and service\n*****************************\nAzure Machine Learning is a cloud-based platform and service\n*****************************\nAzure Machine Learning is a cloud-based platform and service\n*****************************\n"
        }
      ],
      "execution_count": 5,
      "metadata": {
        "jupyter": {
          "source_hidden": false,
          "outputs_hidden": false
        },
        "nteract": {
          "transient": {
            "deleting": false
          }
        },
        "gather": {
          "logged": 1749760899696
        }
      }
    },
    {
      "attachments": {},
      "cell_type": "markdown",
      "source": [
        "# Top_p\n",
        "\n",
        "Defaults to 1, Optional\n",
        "\n",
        "top_p parameter which stands for “top probability” and an alternative to sampling with temperature, called nucleus sampling, where the model considers the results of the tokens with top_p probability mass. So 0.1 means only the tokens comprising the top 10% probability mass are considered. \n",
        "\n",
        "The top_p refers to the probability mass that should be used when considering the next word in the generated text. Essentially it ** sets a threshold for the probability of the next word being chosen and only considers the most likely words that exceed that threshold.**\n",
        "\n",
        "We generally recommend altering this or temperature but not both."
      ],
      "metadata": {}
    },
    {
      "cell_type": "code",
      "source": [
        "def call_openai(num_times, start_phrase, top_p):\n",
        "    for i in range(num_times):\n",
        "        deployment_name = \"gpt-4o\"  # Use the correct model identifier\n",
        "\n",
        "        # Construct the conversation messages\n",
        "        messages = [\n",
        "            {\"role\": \"system\", \"content\": \"You are a helpful assistant.\"},\n",
        "            {\"role\": \"user\", \"content\": start_phrase}\n",
        "        ]\n",
        "\n",
        "        # Send a chat completion request\n",
        "        response = client.chat.completions.create(\n",
        "            model=deployment_name,\n",
        "            messages=messages,\n",
        "            top_p=top_p,\n",
        "            max_tokens=30\n",
        "        )\n",
        "\n",
        "        # Print the generated response content\n",
        "        print(response.choices[0].message.content.strip())\n",
        "        print(\"*****************************\")"
      ],
      "outputs": [],
      "execution_count": 6,
      "metadata": {
        "gather": {
          "logged": 1749760920200
        }
      }
    },
    {
      "cell_type": "code",
      "source": [
        "call_openai(10, 'Azure machine learning is ', top_p = 0.1)"
      ],
      "outputs": [
        {
          "output_type": "stream",
          "name": "stdout",
          "text": "Azure Machine Learning is a cloud-based platform and service provided by Microsoft Azure that enables developers, data scientists, and machine learning engineers to build, train,\n*****************************\nAzure Machine Learning is a cloud-based platform and service provided by Microsoft Azure that enables developers, data scientists, and organizations to build, train, deploy,\n*****************************\nAzure Machine Learning is a cloud-based platform and service provided by Microsoft Azure that enables developers, data scientists, and machine learning engineers to build, train,\n*****************************\nAzure Machine Learning is a cloud-based platform and service provided by Microsoft Azure that enables developers, data scientists, and machine learning engineers to build, train,\n*****************************\nAzure Machine Learning is a cloud-based platform and service provided by Microsoft that enables developers, data scientists, and machine learning engineers to build, train, deploy\n*****************************\nAzure Machine Learning is a cloud-based platform and service provided by Microsoft Azure that enables developers, data scientists, and machine learning engineers to build, train,\n*****************************\nAzure Machine Learning is a cloud-based platform and service provided by Microsoft that enables developers, data scientists, and machine learning engineers to build, train, deploy\n*****************************\nAzure Machine Learning is a cloud-based platform and service provided by Microsoft Azure that enables developers, data scientists, and machine learning engineers to build, train,\n*****************************\nAzure Machine Learning is a cloud-based platform and service provided by Microsoft that enables developers, data scientists, and machine learning engineers to build, train, deploy\n*****************************\nAzure Machine Learning is a cloud-based platform and service provided by Microsoft that enables developers, data scientists, and machine learning engineers to build, train, deploy\n*****************************\n"
        }
      ],
      "execution_count": 7,
      "metadata": {
        "gather": {
          "logged": 1749760947116
        }
      }
    },
    {
      "cell_type": "code",
      "source": [
        "call_openai(10, 'Azure machine learning is ', top_p = 1)"
      ],
      "outputs": [
        {
          "output_type": "stream",
          "name": "stdout",
          "text": "Azure Machine Learning is a cloud-based platform and environment provided by Microsoft that enables developers and data scientists to build, train, test, deploy, and manage\n*****************************\nAzure Machine Learning is a cloud-based platform provided by Microsoft that enables data scientists, developers, and machine learning (ML) engineers to build, train,\n*****************************\nAzure Machine Learning is a cloud-based artificial intelligence platform and service provided by **Microsoft Azure**. It enables developers and data scientists to build, train,\n*****************************\nAzure Machine Learning is a cloud-based platform and service provided by Microsoft as part of its Azure ecosystem. It is designed to help data scientists, developers,\n*****************************\nAzure Machine Learning (Azure ML) is a cloud-based platform and service provided by Microsoft Azure that enables data scientists, machine learning engineers, and developers to\n*****************************\nAzure Machine Learning is a powerful cloud-based service provided by Microsoft within the **Microsoft Azure cloud platform**. It is designed to enable data scientists, machine\n*****************************\nAzure Machine Learning is a cloud-based platform and service offered by Microsoft Azure that allows developers, data scientists, and machine learning engineers to build, train,\n*****************************\nAzure Machine Learning (Azure ML) is a cloud-based platform and service provided by Microsoft that enables data scientists, developers, and organizations to efficiently build,\n*****************************\nAzure Machine Learning is a cloud-based platform and service provided by Microsoft for building, training, deploying, and managing machine learning models and workflows. It is\n*****************************\nAzure Machine Learning (Azure ML) is **a cloud-based machine learning platform** provided by Microsoft as a part of its Azure cloud services. It enables\n*****************************\n"
        }
      ],
      "execution_count": 8,
      "metadata": {
        "gather": {
          "logged": 1749760967695
        }
      }
    },
    {
      "cell_type": "markdown",
      "source": [
        "# Max_Tokens \n",
        "\n",
        "Default value=16, Optional\n",
        "\n",
        "The maximum number of tokens to generate in the completion. **The token count of your prompt plus max_tokens can't exceed the model's context length. **"
      ],
      "metadata": {
        "nteract": {
          "transient": {
            "deleting": false
          }
        }
      }
    },
    {
      "cell_type": "code",
      "source": [
        "deployment_name = \"gpt-4o\"  # This corresponds to the custom name of your deployed model.\n",
        "start_phrase = \"Azure machine learning is \"\n",
        "\n",
        "response = client.chat.completions.create(\n",
        "    model=deployment_name,\n",
        "    messages=[\n",
        "        {\"role\": \"system\", \"content\": \"You are a helpful assistant.\"},\n",
        "        {\"role\": \"user\", \"content\": start_phrase}\n",
        "    ],\n",
        "    temperature=1,\n",
        "    max_tokens=105\n",
        ")\n",
        "\n",
        "print(response.model_dump_json(indent=2))\n",
        "\n"
      ],
      "outputs": [
        {
          "output_type": "stream",
          "name": "stdout",
          "text": "{\n  \"id\": \"chatcmpl-Bhj31xcvMNn0n3xAwJiVc8GqTjRiz\",\n  \"choices\": [\n    {\n      \"finish_reason\": \"length\",\n      \"index\": 0,\n      \"logprobs\": null,\n      \"message\": {\n        \"content\": \"Azure Machine Learning is a cloud-based platform provided by Microsoft Azure, designed to assist developers, data scientists, and businesses in building, training, deploying, and managing machine learning (ML) models. It provides an end-to-end suite of tools and resources to facilitate the entire machine learning lifecycle, from data preparation to operationalization. By leveraging the power of cloud computing, Azure Machine Learning allows users to scale their machine learning workflows and deploy models into production efficiently.\\n\\n### Key Features of Azure Machine Learning:\\n\\n1. **Development and Experiment\",\n        \"refusal\": null,\n        \"role\": \"assistant\",\n        \"annotations\": [],\n        \"audio\": null,\n        \"function_call\": null,\n        \"tool_calls\": null\n      },\n      \"content_filter_results\": {\n        \"hate\": {\n          \"filtered\": false,\n          \"severity\": \"safe\"\n        },\n        \"protected_material_code\": {\n          \"filtered\": false,\n          \"detected\": false\n        },\n        \"protected_material_text\": {\n          \"filtered\": false,\n          \"detected\": false\n        },\n        \"self_harm\": {\n          \"filtered\": false,\n          \"severity\": \"safe\"\n        },\n        \"sexual\": {\n          \"filtered\": false,\n          \"severity\": \"safe\"\n        },\n        \"violence\": {\n          \"filtered\": false,\n          \"severity\": \"safe\"\n        }\n      }\n    }\n  ],\n  \"created\": 1749760967,\n  \"model\": \"gpt-4o-2024-11-20\",\n  \"object\": \"chat.completion\",\n  \"service_tier\": null,\n  \"system_fingerprint\": \"fp_ee1d74bde0\",\n  \"usage\": {\n    \"completion_tokens\": 105,\n    \"prompt_tokens\": 22,\n    \"total_tokens\": 127,\n    \"completion_tokens_details\": {\n      \"accepted_prediction_tokens\": 0,\n      \"audio_tokens\": 0,\n      \"reasoning_tokens\": 0,\n      \"rejected_prediction_tokens\": 0\n    },\n    \"prompt_tokens_details\": {\n      \"audio_tokens\": 0,\n      \"cached_tokens\": 0\n    }\n  },\n  \"prompt_filter_results\": [\n    {\n      \"prompt_index\": 0,\n      \"content_filter_results\": {\n        \"hate\": {\n          \"filtered\": false,\n          \"severity\": \"safe\"\n        },\n        \"jailbreak\": {\n          \"filtered\": false,\n          \"detected\": false\n        },\n        \"self_harm\": {\n          \"filtered\": false,\n          \"severity\": \"safe\"\n        },\n        \"sexual\": {\n          \"filtered\": false,\n          \"severity\": \"safe\"\n        },\n        \"violence\": {\n          \"filtered\": false,\n          \"severity\": \"safe\"\n        }\n      }\n    }\n  ]\n}\n"
        }
      ],
      "execution_count": 9,
      "metadata": {
        "jupyter": {
          "source_hidden": false,
          "outputs_hidden": false
        },
        "nteract": {
          "transient": {
            "deleting": false
          }
        },
        "gather": {
          "logged": 1749760972867
        }
      }
    },
    {
      "cell_type": "code",
      "source": [
        "# Send a completion call to generate an answer\n",
        "start_phrase = 'Nationwide Building Society is a '\n",
        "\n",
        "response = client.chat.completions.create(\n",
        "    model=deployment_name,  # This corresponds to your custom deployment name\n",
        "    messages=[\n",
        "        {\"role\": \"system\", \"content\": \"You are a helpful assistant.\"},\n",
        "        {\"role\": \"user\", \"content\": start_phrase}\n",
        "    ],\n",
        "    temperature=1,\n",
        "    max_tokens=90\n",
        ")\n",
        "\n",
        "print(response.model_dump_json(indent=2))\n"
      ],
      "outputs": [
        {
          "output_type": "stream",
          "name": "stdout",
          "text": "{\n  \"id\": \"chatcmpl-Bhj3suChzsBEPZ5bAP6Iy1AYD1iZq\",\n  \"choices\": [\n    {\n      \"finish_reason\": \"length\",\n      \"index\": 0,\n      \"logprobs\": null,\n      \"message\": {\n        \"content\": \"Nationwide Building Society is a **mutual financial institution** based in the United Kingdom. It is one of the largest building societies in the world and the largest in the UK. Being a **mutual organization**, Nationwide is owned by its members (its customers) rather than shareholders, which means its profits are typically reinvested to improve services, reduce costs, or offer better rates for its members.\\n\\nNationwide provides a wide range of financial services\",\n        \"refusal\": null,\n        \"role\": \"assistant\",\n        \"annotations\": [],\n        \"audio\": null,\n        \"function_call\": null,\n        \"tool_calls\": null\n      },\n      \"content_filter_results\": {\n        \"hate\": {\n          \"filtered\": false,\n          \"severity\": \"safe\"\n        },\n        \"protected_material_code\": {\n          \"filtered\": false,\n          \"detected\": false\n        },\n        \"protected_material_text\": {\n          \"filtered\": false,\n          \"detected\": false\n        },\n        \"self_harm\": {\n          \"filtered\": false,\n          \"severity\": \"safe\"\n        },\n        \"sexual\": {\n          \"filtered\": false,\n          \"severity\": \"safe\"\n        },\n        \"violence\": {\n          \"filtered\": false,\n          \"severity\": \"safe\"\n        }\n      }\n    }\n  ],\n  \"created\": 1749761020,\n  \"model\": \"gpt-4o-2024-11-20\",\n  \"object\": \"chat.completion\",\n  \"service_tier\": null,\n  \"system_fingerprint\": \"fp_ee1d74bde0\",\n  \"usage\": {\n    \"completion_tokens\": 90,\n    \"prompt_tokens\": 24,\n    \"total_tokens\": 114,\n    \"completion_tokens_details\": {\n      \"accepted_prediction_tokens\": 0,\n      \"audio_tokens\": 0,\n      \"reasoning_tokens\": 0,\n      \"rejected_prediction_tokens\": 0\n    },\n    \"prompt_tokens_details\": {\n      \"audio_tokens\": 0,\n      \"cached_tokens\": 0\n    }\n  },\n  \"prompt_filter_results\": [\n    {\n      \"prompt_index\": 0,\n      \"content_filter_results\": {\n        \"hate\": {\n          \"filtered\": false,\n          \"severity\": \"safe\"\n        },\n        \"jailbreak\": {\n          \"filtered\": false,\n          \"detected\": false\n        },\n        \"self_harm\": {\n          \"filtered\": false,\n          \"severity\": \"safe\"\n        },\n        \"sexual\": {\n          \"filtered\": false,\n          \"severity\": \"safe\"\n        },\n        \"violence\": {\n          \"filtered\": false,\n          \"severity\": \"safe\"\n        }\n      }\n    }\n  ]\n}\n"
        }
      ],
      "execution_count": 11,
      "metadata": {
        "jupyter": {
          "source_hidden": false,
          "outputs_hidden": false
        },
        "nteract": {
          "transient": {
            "deleting": false
          }
        },
        "gather": {
          "logged": 1749761024689
        }
      }
    },
    {
      "attachments": {},
      "cell_type": "markdown",
      "source": [
        "# n\n",
        "\n",
        "Defaults to 1, optional\n",
        "\n",
        "How many completions to generate for each prompt. To generate multiple completions, we specify the n request parameter, which simply stands for ** “number of completions” **\n",
        "\n",
        "Note: Because this parameter generates many completions, it can quickly consume your token quota. Use carefully and ensure that you have reasonable settings for max_tokens and stop."
      ],
      "metadata": {}
    },
    {
      "cell_type": "code",
      "source": [
        "deployment_name = \"gpt-4o\"  # This is your custom deployment name\n",
        "\n",
        "# Define the start phrase\n",
        "start_phrase = \"Azure machine learning is \"\n",
        "\n",
        "# Send a chat completion call to generate answers (3 completions)\n",
        "response = client.chat.completions.create(\n",
        "    model=deployment_name,\n",
        "    messages=[\n",
        "        {\"role\": \"system\", \"content\": \"You are a helpful assistant.\"},\n",
        "        {\"role\": \"user\", \"content\": start_phrase}\n",
        "    ],\n",
        "    temperature=0.7,\n",
        "    n=3  # Number of completions to generate\n",
        ")\n",
        "\n",
        "# Print each completion\n",
        "for choice in response.choices:\n",
        "    print(choice.message.content.strip())\n",
        "    print(\"**************************\")\n"
      ],
      "outputs": [
        {
          "output_type": "stream",
          "name": "stdout",
          "text": "Azure Machine Learning (Azure ML) is a cloud-based service provided by Microsoft that enables developers, data scientists, and engineers to build, train, deploy, and manage machine learning models efficiently. It provides a comprehensive and scalable platform for end-to-end machine learning workflows, supporting tasks such as data preparation, experimentation, model training, and operationalization.\n\n### Key Features of Azure Machine Learning:\n\n1. **Machine Learning Model Development:**\n   - Supports a wide range of machine learning frameworks, including TensorFlow, PyTorch, Scikit-learn, and more.\n   - Allows users to create models using popular programming languages like Python and R.\n\n2. **Automated Machine Learning (AutoML):**\n   - Automates the process of feature selection, algorithm selection, and hyperparameter tuning.\n   - Enables users to quickly build models without needing deep expertise in machine learning.\n\n3. **Data Preparation:**\n   - Provides tools for data preprocessing, cleaning, and transformation.\n   - Supports integration with Azure Data Lake, Azure Blob Storage, SQL databases, and other data sources.\n\n4. **Experimentation:**\n   - Allows users to run multiple experiments simultaneously to test different models or configurations.\n   - Tracks and logs experiment metrics for easy comparison.\n\n5. **Model Training:**\n   - Supports distributed training for large datasets and models.\n   - Offers integration with Azure compute resources such as Azure Virtual Machines, Azure Kubernetes Service (AKS), and Azure Machine Learning Compute Clusters.\n\n6. **Model Registry:**\n   - Stores and manages machine learning models in a centralized registry.\n   - Tracks model versions for reproducibility and governance.\n\n7. **Deployment and Operationalization:**\n   - Enables deployment of models as scalable, secure REST APIs.\n   - Provides tools for monitoring and managing model performance in production.\n\n8. **Integration with DevOps:**\n   - Supports MLOps (Machine Learning Operations) for continuous integration and continuous delivery (CI/CD) of ML models.\n   - Includes tools for automating workflows and monitoring deployed models.\n\n9. **Visualization and Interpretability:**\n   - Offers tools like dashboards and visualizations to understand model performance and interpret results.\n   - Includes explainability features to ensure responsible AI practices.\n\n10. **Security and Compliance:**\n    - Provides enterprise-grade security, including role-based access control (RBAC), encryption, and integration with Azure Active Directory.\n    - Complies with industry and regulatory standards for data privacy and security.\n\n11. **Integration with Other Azure Services:**\n    - Seamlessly integrates with other Microsoft Azure services, such as Azure Synapse Analytics, Power BI, and Azure IoT Hub, enabling comprehensive data and AI solutions.\n\n### Use Cases for Azure Machine Learning:\n- Predictive analytics\n- Natural language processing (NLP)\n- Computer vision tasks\n- Fraud detection\n- Recommendation systems\n- Supply chain optimization\n- Anomaly detection\n- Time-series forecasting\n\nAzure Machine Learning is widely used by organizations aiming to accelerate their AI initiatives, improve productivity, and operationalize machine learning models at scale. It supports both beginner-friendly tools and advanced features for experienced data scientists and engineers.\n**************************\nAzure Machine Learning (Azure ML) is a cloud-based platform and set of services provided by Microsoft that enables developers, data scientists, and machine learning engineers to build, train, deploy, and manage machine learning models at scale. It is part of the Microsoft Azure ecosystem and is designed to facilitate end-to-end machine learning workflows, from data preparation and model development to deployment and monitoring.\n\n### Key Features of Azure Machine Learning:\n1. **Collaborative Workspace**:\n   - Offers a centralized workspace for teams to collaborate on machine learning projects.\n   - Supports integration with popular tools, such as Jupyter Notebooks, Visual Studio Code, and Azure DevOps.\n\n2. **Data Preparation**:\n   - Provides tools for data wrangling, exploration, and preprocessing.\n   - Supports integration with Azure Data Lake, Azure SQL Database, and other Azure data storage solutions.\n\n3. **Automated Machine Learning (AutoML)**:\n   - Simplifies the process of model selection and hyperparameter tuning.\n   - Automatically trains and evaluates multiple models to find the best-performing one for your dataset.\n\n4. **Custom Model Development**:\n   - Allows users to develop custom machine learning models using Python, R, or other programming languages.\n   - Supports popular ML frameworks like TensorFlow, PyTorch, Scikit-learn, and XGBoost.\n\n5. **Compute Resources**:\n   - Offers scalable compute options, such as Azure Machine Learning Compute, virtual machines, or Azure Kubernetes Service (AKS).\n   - Enables distributed training for large datasets and complex models.\n\n6. **Model Deployment**:\n   - Simplifies deployment of models as RESTful APIs to production environments.\n   - Supports deployments to Azure Kubernetes Service (AKS), Azure Functions, or IoT Edge devices.\n\n7. **Model Management and Monitoring**:\n   - Tracks experiments, datasets, and models with version control for reproducibility.\n   - Monitors deployed models for performance and drift in real-world conditions.\n\n8. **Integration with MLOps**:\n   - Supports MLOps (Machine Learning Operations) for automating and streamlining the lifecycle of machine learning workflows.\n   - Integrates with Azure Pipelines and GitHub Actions for CI/CD (continuous integration/continuous deployment).\n\n### Benefits of Azure Machine Learning:\n- **Scalability**: Leverages the power of Azure's cloud infrastructure to scale compute resources on demand.\n- **Flexibility**: Supports a wide range of machine learning frameworks, languages, and tools.\n- **Ease of Use**: Offers both code-first and no-code/low-code options for users with varying levels of expertise.\n- **Security and Compliance**: Provides enterprise-grade security, access control, and compliance with industry standards.\n- **Cost Efficiency**: Pay-as-you-go pricing for resources ensures cost-effectiveness for different project needs.\n\nAzure Machine Learning is ideal for businesses and organizations that want to build advanced AI solutions, automate machine learning workflows, and operationalize models in production environments. Whether you're a beginner looking to leverage AutoML or an experienced data scientist working on custom models, Azure ML provides the tools and scalability to meet your needs.\n**************************\nAzure Machine Learning is a cloud-based platform and set of services provided by Microsoft through its Azure ecosystem. It enables data scientists, machine learning engineers, and developers to build, train, deploy, and manage machine learning models at scale. Azure Machine Learning supports the entire machine learning lifecycle, from data preparation and experimentation to model deployment and monitoring.\n\nHere are the key components and features of Azure Machine Learning:\n\n### 1. **Machine Learning Studio**\n   - A user-friendly, web-based interface for creating and managing machine learning workflows.\n   - It allows users to build pipelines, connect datasets, train models, and deploy them without requiring deep coding expertise.\n\n### 2. **Tools for Model Development**\n   - **SDKs and APIs**: Azure ML provides Python and R SDKs for building and training models programmatically.\n   - **Jupyter Notebooks**: Seamless integration with Jupyter Notebooks for code-based experimentation.\n   - **Integrated ML Frameworks**: Support for popular machine learning and deep learning frameworks such as TensorFlow, PyTorch, Scikit-learn, XGBoost, and others.\n\n### 3. **Automated Machine Learning (AutoML)**\n   - AutoML simplifies the process of building models by automating tasks like feature selection, hyperparameter tuning, and algorithm selection.\n   - This is especially useful for users with limited knowledge of machine learning or for speeding up experimentation.\n\n### 4. **Data Preparation and Management**\n   - Tools for data ingestion, cleaning, transformation, and feature engineering.\n   - Integration with Azure Data Lake, Azure Blob Storage, SQL databases, and other data sources.\n\n### 5. **Experimentation and Training**\n   - Scalable compute resources using Azure Machine Learning Compute, which allows for distributed training on virtual machines or GPU clusters.\n   - Experiment tracking to manage and compare different runs and results.\n\n### 6. **Model Deployment**\n   - Options for deploying models as REST APIs, enabling integration with applications and services.\n   - Deployment to cloud, on-premises, or edge devices using Azure Kubernetes Service (AKS), Azure Functions, or IoT Edge.\n\n### 7. **MLOps (Machine Learning Operations)**\n   - Tools for managing the entire lifecycle of machine learning projects, including version control, CI/CD pipelines, and monitoring.\n   - Integration with Azure DevOps and GitHub for collaborative workflows.\n\n### 8. **Responsible AI**\n   - Built-in tools to ensure fairness, interpretability, and transparency in machine learning models.\n   - Features such as model explainability, bias detection, and audit trails.\n\n### 9. **Integration with Azure Ecosystem**\n   - Seamless integration with other Azure services like Azure Synapse Analytics, Azure Data Factory, and Azure Cognitive Services.\n   - Support for hybrid and multi-cloud environments.\n\n### 10. **Scalability and Security**\n   - Enterprise-grade security, compliance, and governance for machine learning projects.\n   - Scalability to handle large datasets and complex models with Azure's global infrastructure.\n\nAzure Machine Learning is used in a variety of applications such as predictive analytics, natural language processing, computer vision, fraud detection, and more. It is designed to cater to both beginners and advanced machine learning practitioners, making it a versatile platform for organizations of all sizes.\n**************************\n"
        }
      ],
      "execution_count": 12,
      "metadata": {
        "jupyter": {
          "source_hidden": false,
          "outputs_hidden": false
        },
        "nteract": {
          "transient": {
            "deleting": false
          }
        },
        "gather": {
          "logged": 1749761098159
        }
      }
    },
    {
      "attachments": {},
      "cell_type": "markdown",
      "source": [
        "# logprobs\n",
        "\n",
        "Defaults to null, optional\n",
        "\n",
        "Log probabilities of output tokens indicate **the likelihood of each token occurring in the sequence given the context.** To simplify, a logprob is log(p), where p = probability of a token occurring at a specific position based on the previous tokens in the context.\n",
        "\n",
        "For example, if logprobs is 5, the API will return a list of the 5 most likely tokens. The API will always return the logprob of the sampled token, so there may be up to logprobs+1 elements in the response.\n",
        "\n",
        "** tokens ** — is an array of tokens generated by the language model. Each token is a word or part of a word.\n",
        "\n",
        "** token_logprobs ** — represents an array of log probabilities for each token in the tokens array. Log probability indicates the likelihood of the language model generating that token for the given prompt. The logprob values are negative, where smaller (more negative) numbers indicate a less likely outcome.\n",
        "\n",
        "** top_logprobs ** — represents an array of log probability objects, representing tokens most likely to be used for the completion. For example, if we specify the request parameter top_p = 0.5, then top_logprobs would contain log probabilities for top 50% of generated tokens.\n"
      ],
      "metadata": {}
    },
    {
      "cell_type": "code",
      "source": [
        "deployment_name = \"gpt-4o\"  # Your custom deployment name\n",
        "\n",
        "start_phrase = \"Azure machine learning is \"\n",
        "\n",
        "response = client.chat.completions.create(\n",
        "    model=deployment_name,\n",
        "    messages=[\n",
        "        {\"role\": \"system\", \"content\": \"You are a helpful assistant.\"},\n",
        "        {\"role\": \"user\", \"content\": start_phrase}\n",
        "    ],\n",
        "    temperature=0,\n",
        "    n=1,\n",
        "    logprobs=True,\n",
        "    max_tokens=10  # Correct boolean value\n",
        ")\n",
        "\n",
        "print(response.choices[0].message.content.strip())\n"
      ],
      "outputs": [
        {
          "output_type": "stream",
          "name": "stdout",
          "text": "Azure Machine Learning is a cloud-based platform and service\n"
        }
      ],
      "execution_count": 13,
      "metadata": {
        "jupyter": {
          "source_hidden": false,
          "outputs_hidden": false
        },
        "nteract": {
          "transient": {
            "deleting": false
          }
        },
        "gather": {
          "logged": 1749761099112
        }
      }
    },
    {
      "cell_type": "code",
      "source": [
        "print(response.model_dump_json(indent=2))"
      ],
      "outputs": [
        {
          "output_type": "stream",
          "name": "stdout",
          "text": "{\n  \"id\": \"chatcmpl-Bhj58QVfeDJtqlffPPSJOiL7G8qBv\",\n  \"choices\": [\n    {\n      \"finish_reason\": \"length\",\n      \"index\": 0,\n      \"logprobs\": {\n        \"content\": [\n          {\n            \"token\": \"Azure\",\n            \"bytes\": [\n              65,\n              122,\n              117,\n              114,\n              101\n            ],\n            \"logprob\": -0.063439205,\n            \"top_logprobs\": []\n          },\n          {\n            \"token\": \" Machine\",\n            \"bytes\": [\n              32,\n              77,\n              97,\n              99,\n              104,\n              105,\n              110,\n              101\n            ],\n            \"logprob\": -0.000013306016,\n            \"top_logprobs\": []\n          },\n          {\n            \"token\": \" Learning\",\n            \"bytes\": [\n              32,\n              76,\n              101,\n              97,\n              114,\n              110,\n              105,\n              110,\n              103\n            ],\n            \"logprob\": 0.0,\n            \"top_logprobs\": []\n          },\n          {\n            \"token\": \" is\",\n            \"bytes\": [\n              32,\n              105,\n              115\n            ],\n            \"logprob\": -0.63622296,\n            \"top_logprobs\": []\n          },\n          {\n            \"token\": \" a\",\n            \"bytes\": [\n              32,\n              97\n            ],\n            \"logprob\": -0.01559988,\n            \"top_logprobs\": []\n          },\n          {\n            \"token\": \" cloud\",\n            \"bytes\": [\n              32,\n              99,\n              108,\n              111,\n              117,\n              100\n            ],\n            \"logprob\": -0.09603025,\n            \"top_logprobs\": []\n          },\n          {\n            \"token\": \"-based\",\n            \"bytes\": [\n              45,\n              98,\n              97,\n              115,\n              101,\n              100\n            ],\n            \"logprob\": -0.0009773135,\n            \"top_logprobs\": []\n          },\n          {\n            \"token\": \" platform\",\n            \"bytes\": [\n              32,\n              112,\n              108,\n              97,\n              116,\n              102,\n              111,\n              114,\n              109\n            ],\n            \"logprob\": -0.26198608,\n            \"top_logprobs\": []\n          },\n          {\n            \"token\": \" and\",\n            \"bytes\": [\n              32,\n              97,\n              110,\n              100\n            ],\n            \"logprob\": -0.14797357,\n            \"top_logprobs\": []\n          },\n          {\n            \"token\": \" service\",\n            \"bytes\": [\n              32,\n              115,\n              101,\n              114,\n              118,\n              105,\n              99,\n              101\n            ],\n            \"logprob\": -0.115068436,\n            \"top_logprobs\": []\n          }\n        ],\n        \"refusal\": null\n      },\n      \"message\": {\n        \"content\": \"Azure Machine Learning is a cloud-based platform and service\",\n        \"refusal\": null,\n        \"role\": \"assistant\",\n        \"annotations\": [],\n        \"audio\": null,\n        \"function_call\": null,\n        \"tool_calls\": null\n      },\n      \"content_filter_results\": {\n        \"hate\": {\n          \"filtered\": false,\n          \"severity\": \"safe\"\n        },\n        \"protected_material_code\": {\n          \"filtered\": false,\n          \"detected\": false\n        },\n        \"protected_material_text\": {\n          \"filtered\": false,\n          \"detected\": false\n        },\n        \"self_harm\": {\n          \"filtered\": false,\n          \"severity\": \"safe\"\n        },\n        \"sexual\": {\n          \"filtered\": false,\n          \"severity\": \"safe\"\n        },\n        \"violence\": {\n          \"filtered\": false,\n          \"severity\": \"safe\"\n        }\n      }\n    }\n  ],\n  \"created\": 1749761098,\n  \"model\": \"gpt-4o-2024-11-20\",\n  \"object\": \"chat.completion\",\n  \"service_tier\": null,\n  \"system_fingerprint\": \"fp_ee1d74bde0\",\n  \"usage\": {\n    \"completion_tokens\": 10,\n    \"prompt_tokens\": 22,\n    \"total_tokens\": 32,\n    \"completion_tokens_details\": {\n      \"accepted_prediction_tokens\": 0,\n      \"audio_tokens\": 0,\n      \"reasoning_tokens\": 0,\n      \"rejected_prediction_tokens\": 0\n    },\n    \"prompt_tokens_details\": {\n      \"audio_tokens\": 0,\n      \"cached_tokens\": 0\n    }\n  },\n  \"prompt_filter_results\": [\n    {\n      \"prompt_index\": 0,\n      \"content_filter_results\": {\n        \"hate\": {\n          \"filtered\": false,\n          \"severity\": \"safe\"\n        },\n        \"jailbreak\": {\n          \"filtered\": false,\n          \"detected\": false\n        },\n        \"self_harm\": {\n          \"filtered\": false,\n          \"severity\": \"safe\"\n        },\n        \"sexual\": {\n          \"filtered\": false,\n          \"severity\": \"safe\"\n        },\n        \"violence\": {\n          \"filtered\": false,\n          \"severity\": \"safe\"\n        }\n      }\n    }\n  ]\n}\n"
        }
      ],
      "execution_count": 15,
      "metadata": {
        "jupyter": {
          "source_hidden": false,
          "outputs_hidden": false
        },
        "nteract": {
          "transient": {
            "deleting": false
          }
        },
        "gather": {
          "logged": 1749761116130
        }
      }
    },
    {
      "cell_type": "code",
      "source": [
        "import numpy as np"
      ],
      "outputs": [],
      "execution_count": 16,
      "metadata": {
        "jupyter": {
          "source_hidden": false,
          "outputs_hidden": false
        },
        "nteract": {
          "transient": {
            "deleting": false
          }
        },
        "gather": {
          "logged": 1749761124698
        }
      }
    },
    {
      "cell_type": "code",
      "source": [
        "word_values=response.choices[0].logprobs.content\n",
        "\n",
        "tokens = [item.token for item in word_values]\n",
        "print (tokens)\n",
        "\n",
        "logprobs = [item.logprob for item in word_values]\n",
        "print(\"Probabilities per word:\",logprobs)\n",
        "\n",
        "probs = [np.round(np.exp(item.logprob)*100,2) for item in word_values]\n",
        "print(\"Token Log Probabilities per word:\",probs)\n",
        "\n",
        "print(\"Response:\", response.choices[0].message.content)"
      ],
      "outputs": [
        {
          "output_type": "stream",
          "name": "stdout",
          "text": "['Azure', ' Machine', ' Learning', ' is', ' a', ' cloud', '-based', ' platform', ' and', ' service']\nProbabilities per word: [-0.063439205, -1.3306016e-05, 0.0, -0.63622296, -0.01559988, -0.09603025, -0.0009773135, -0.26198608, -0.14797357, -0.115068436]\nToken Log Probabilities per word: [93.85, 100.0, 100.0, 52.93, 98.45, 90.84, 99.9, 76.95, 86.25, 89.13]\nResponse: Azure Machine Learning is a cloud-based platform and service\n"
        }
      ],
      "execution_count": 24,
      "metadata": {
        "gather": {
          "logged": 1749761482995
        }
      }
    },
    {
      "cell_type": "markdown",
      "source": [
        "# Presence_penalty\n",
        "\n",
        "Defaults to 0, Optional -> 0 means there is really no penalty or reward for the same token appearing multiple times. \n",
        "\n",
        "Number between -2.0 and 2.0. Positive values penalize new tokens based on ** whether they appear in the text so far **, increasing the model's likelihood to talk about new topics.\n",
        "\n",
        "Smaller values (minimum -2) decrease the penalty and increase the chances of a token appearing, while higher values (maximum 2) increase the penalty and decrease the chances of a token appearing."
      ],
      "metadata": {
        "nteract": {
          "transient": {
            "deleting": false
          }
        }
      }
    },
    {
      "cell_type": "code",
      "source": [
        "deployment_name = \"gpt-4o\"  # Your Azure OpenAI deployment name\n",
        "\n",
        "start_phrase = \"Azure machine learning is \"\n",
        "\n",
        "response = client.chat.completions.create(\n",
        "    model=deployment_name,\n",
        "    messages=[\n",
        "        {\"role\": \"system\", \"content\": \"You are a helpful assistant.\"},\n",
        "        {\"role\": \"user\", \"content\": start_phrase}\n",
        "    ],\n",
        "    presence_penalty=2,\n",
        "    max_tokens=50  # Use boolean, but may not return token-level info\n",
        ")\n",
        "\n",
        "# Output the response\n",
        "print(\"Response:\", response.choices[0].message.content.strip())\n"
      ],
      "outputs": [
        {
          "output_type": "stream",
          "name": "stdout",
          "text": "Response: Azure Machine Learning is a cloud-based platform and service provided by Microsoft that enables developers, data scientists, and organizations to build, train, deploy, and manage machine learning models. It provides an end-to-end solution for the entire machine learning lifecycle, from\n"
        }
      ],
      "execution_count": 25,
      "metadata": {
        "jupyter": {
          "source_hidden": false,
          "outputs_hidden": false
        },
        "nteract": {
          "transient": {
            "deleting": false
          }
        },
        "gather": {
          "logged": 1749761536624
        }
      }
    },
    {
      "cell_type": "code",
      "source": [
        "deployment_name = \"gpt-4o\"  # Your Azure OpenAI deployment name\n",
        "\n",
        "start_phrase = \"Azure machine learning is \"\n",
        "\n",
        "response = client.chat.completions.create(\n",
        "    model=deployment_name,\n",
        "    messages=[\n",
        "        {\"role\": \"system\", \"content\": \"You are a helpful assistant.\"},\n",
        "        {\"role\": \"user\", \"content\": start_phrase}\n",
        "    ],\n",
        "    presence_penalty=-2,\n",
        "    max_tokens=50  # Use boolean, but may not return token-level info\n",
        ")\n",
        "\n",
        "# Output the response\n",
        "print(\"Response:\", response.choices[0].message.content.strip())\n"
      ],
      "outputs": [
        {
          "output_type": "stream",
          "name": "stdout",
          "text": "Response: Azure Machine Learning (Azure ML) is a cloud-based service provided by Microsoft as part of its Azure cloud platform. It is designed to facilitate the development, training, deployment, and management of machine learning (ML) models. Azure ML is a comprehensive\n"
        }
      ],
      "execution_count": 26,
      "metadata": {
        "jupyter": {
          "source_hidden": false,
          "outputs_hidden": false
        },
        "nteract": {
          "transient": {
            "deleting": false
          }
        },
        "gather": {
          "logged": 1749761574117
        }
      }
    },
    {
      "cell_type": "code",
      "source": [
        "print(response.model_dump_json(indent=2))"
      ],
      "outputs": [
        {
          "output_type": "stream",
          "name": "stdout",
          "text": "{\n  \"id\": \"chatcmpl-BhjClpHwPwqZAzqED7PTioDOA4P4Q\",\n  \"choices\": [\n    {\n      \"finish_reason\": \"length\",\n      \"index\": 0,\n      \"logprobs\": null,\n      \"message\": {\n        \"content\": \"Azure Machine Learning (Azure ML) is a cloud-based service provided by Microsoft as part of its Azure cloud platform. It is designed to facilitate the development, training, deployment, and management of machine learning (ML) models. Azure ML is a comprehensive\",\n        \"refusal\": null,\n        \"role\": \"assistant\",\n        \"annotations\": [],\n        \"audio\": null,\n        \"function_call\": null,\n        \"tool_calls\": null\n      },\n      \"content_filter_results\": {\n        \"hate\": {\n          \"filtered\": false,\n          \"severity\": \"safe\"\n        },\n        \"self_harm\": {\n          \"filtered\": false,\n          \"severity\": \"safe\"\n        },\n        \"sexual\": {\n          \"filtered\": false,\n          \"severity\": \"safe\"\n        },\n        \"violence\": {\n          \"filtered\": false,\n          \"severity\": \"safe\"\n        }\n      }\n    }\n  ],\n  \"created\": 1749761571,\n  \"model\": \"gpt-4o-2024-11-20\",\n  \"object\": \"chat.completion\",\n  \"service_tier\": null,\n  \"system_fingerprint\": \"fp_ee1d74bde0\",\n  \"usage\": {\n    \"completion_tokens\": 50,\n    \"prompt_tokens\": 22,\n    \"total_tokens\": 72,\n    \"completion_tokens_details\": {\n      \"accepted_prediction_tokens\": 0,\n      \"audio_tokens\": 0,\n      \"reasoning_tokens\": 0,\n      \"rejected_prediction_tokens\": 0\n    },\n    \"prompt_tokens_details\": {\n      \"audio_tokens\": 0,\n      \"cached_tokens\": 0\n    }\n  },\n  \"prompt_filter_results\": [\n    {\n      \"prompt_index\": 0,\n      \"content_filter_results\": {\n        \"hate\": {\n          \"filtered\": false,\n          \"severity\": \"safe\"\n        },\n        \"jailbreak\": {\n          \"filtered\": false,\n          \"detected\": false\n        },\n        \"self_harm\": {\n          \"filtered\": false,\n          \"severity\": \"safe\"\n        },\n        \"sexual\": {\n          \"filtered\": false,\n          \"severity\": \"safe\"\n        },\n        \"violence\": {\n          \"filtered\": false,\n          \"severity\": \"safe\"\n        }\n      }\n    }\n  ]\n}\n"
        }
      ],
      "execution_count": 27,
      "metadata": {
        "jupyter": {
          "source_hidden": false,
          "outputs_hidden": false
        },
        "nteract": {
          "transient": {
            "deleting": false
          }
        },
        "gather": {
          "logged": 1749761577743
        }
      }
    },
    {
      "cell_type": "markdown",
      "source": [
        "\n",
        "# Frequency_penalty\n",
        "\n",
        "Defaults to 0\n",
        "\n",
        "Number between -2.0 and 2.0. Positive values ** penalize new tokens based on their existing frequency in the text so far **, decreasing the model's likelihood to repeat the same line verbatim."
      ],
      "metadata": {
        "nteract": {
          "transient": {
            "deleting": false
          }
        }
      }
    },
    {
      "attachments": {},
      "cell_type": "markdown",
      "source": [
        "\n",
        "# Best_of\n",
        "\n",
        "Defaults to 1,optional\n",
        "\n",
        "This parameter tells the language model to generate multiple completions and return the best one, which is the one with the highest log probability per token.\n",
        "\n",
        "\n",
        "Note: Because this parameter generates many completions, it can quickly consume your token quota. Use carefully and ensure that you have reasonable settings for max_tokens and stop.\n",
        "\n"
      ],
      "metadata": {}
    },
    {
      "cell_type": "code",
      "source": [
        "start_phrase = 'Nationwide Building Society is a '\n",
        "response = client.completions.create(\n",
        "    model=deployment_name, \n",
        "    prompt=start_phrase, \n",
        "    best_of=3,\n",
        "    max_tokens=50)\n",
        "\n",
        "print(response.choices[0].text)"
      ],
      "outputs": [
        {
          "output_type": "stream",
          "name": "stdout",
          "text": "13-time winner of Workplace Employer of the Year. It puts members at the heart of everything it does and has achieved this through building a culture of engagement and involvement.\n\nTo foster this workplace culture, Nationwide provides employees with an extensive range of development opportunities including\n"
        }
      ],
      "execution_count": 39,
      "metadata": {
        "jupyter": {
          "source_hidden": false,
          "outputs_hidden": false
        },
        "nteract": {
          "transient": {
            "deleting": false
          }
        },
        "gather": {
          "logged": 1724220666324
        }
      }
    },
    {
      "cell_type": "markdown",
      "source": [
        "# logit_bias\n",
        "\n",
        "Defaults to null\n",
        "\n",
        "The logit_bias request parameter is used to modify the likelihood of specified tokens appearing in the completion. We can use this parameter to provide hints to the language model about **which tokens we want or don’t want to appear in the completion**. It basically allows us to make the model more biased towards certain keywords or topics."
      ],
      "metadata": {
        "nteract": {
          "transient": {
            "deleting": false
          }
        }
      }
    },
    {
      "cell_type": "code",
      "source": [
        "#-100 bias, which should completely prevent them from appearing.\n",
        "# 100 bias will show only that word\n",
        "\n",
        "deployment_name = \"gpt-4o\"  # Your Azure OpenAI deployment name  \n",
        "  \n",
        "# Define the start phrase  \n",
        "start_phrase = \"Azure OpenAI is \"  \n",
        "  \n",
        "# Correct method call is `client.chat.completions.create`  \n",
        "response = client.chat.completions.create(  \n",
        "    model=deployment_name,   \n",
        "    messages=[  \n",
        "        {\"role\": \"system\", \"content\": \"You are a helpful assistant.\"},  \n",
        "        {\"role\": \"user\", \"content\": start_phrase}  \n",
        "    ],  \n",
        "    max_tokens=50,  \n",
        "    logit_bias={\"30\":10, \"5936\": 0}\n",
        "      \n",
        ")  \n",
        "  \n",
        "# Output the best completion  \n",
        "print(\"Response:\", response.choices[0].message.content.strip())  "
      ],
      "outputs": [
        {
          "output_type": "stream",
          "name": "stdout",
          "text": "Response: Azure OpenAI is a cloud-based service provided by Microsoft through its Azure platform, enabling businesses and developers to access advanced artificial intelligence models developed by OpenAI. This includes generative AI models like **GPT (Generative Pre-trained Transformer)** for natural language\n"
        }
      ],
      "execution_count": 28,
      "metadata": {
        "jupyter": {
          "source_hidden": false,
          "outputs_hidden": false
        },
        "nteract": {
          "transient": {
            "deleting": false
          }
        },
        "gather": {
          "logged": 1749761633679
        }
      }
    },
    {
      "cell_type": "markdown",
      "source": [
        "## Echo and Stop"
      ],
      "metadata": {
        "nteract": {
          "transient": {
            "deleting": false
          }
        }
      }
    },
    {
      "cell_type": "markdown",
      "source": [
        "By setting the echo parameter to true, you’re asking the language model to **return the prompt embedded within the completion.** This is useful for debugging."
      ],
      "metadata": {
        "nteract": {
          "transient": {
            "deleting": false
          }
        }
      }
    },
    {
      "cell_type": "code",
      "source": [
        "start_phrase = 'Nationwide Building Society is a '\n",
        "\n",
        "response = client.completions.create(\n",
        "    model=deployment_name, \n",
        "    prompt=start_phrase,\n",
        "    max_tokens=50,\n",
        "    echo=False)\n",
        "print(response.choices[0].text)"
      ],
      "outputs": [
        {
          "output_type": "stream",
          "name": "stdout",
          "text": "165-year-old, mutually based financial institution in the UK and is the world’s largest building society. With over 16 million members, Nationwide is the UK's second-largest mortgage lender and has one of the highest customer satisfaction scores as compared to other banking\n"
        }
      ],
      "execution_count": 41,
      "metadata": {
        "jupyter": {
          "source_hidden": false,
          "outputs_hidden": false
        },
        "nteract": {
          "transient": {
            "deleting": false
          }
        },
        "gather": {
          "logged": 1724220697335
        }
      }
    },
    {
      "cell_type": "markdown",
      "source": [
        "The ** stop ** parameter allows you to specify up to 4 sequences of text on which the language model will halt and return the result. This is useful for specifying early termination triggers for the language model."
      ],
      "metadata": {
        "nteract": {
          "transient": {
            "deleting": false
          }
        }
      }
    },
    {
      "cell_type": "code",
      "source": [
        "start_phrase = 'Nationwide Building Society is a '\n",
        "\n",
        "response = client.completions.create(\n",
        "    model=deployment_name, \n",
        "    prompt=start_phrase,\n",
        "    max_tokens=50,\n",
        "    temperature=0,\n",
        "    stop=\"company\")\n",
        "print(response.choices[0].text)"
      ],
      "outputs": [
        {
          "output_type": "stream",
          "name": "stdout",
          "text": "168-year-old mutual organisation that has been providing financial services to its members since 1846. Nationwide is the world’s largest building society, with over 15 million members and 700 branches across the UK. Nationwide is committed to providing its members with\n"
        }
      ],
      "execution_count": 42,
      "metadata": {
        "jupyter": {
          "source_hidden": false,
          "outputs_hidden": false
        },
        "nteract": {
          "transient": {
            "deleting": false
          }
        },
        "gather": {
          "logged": 1724220701307
        }
      }
    },
    {
      "cell_type": "code",
      "source": [
        "start_phrase = 'Nationwide Building Society is a '\n",
        "\n",
        "response = client.completions.create(\n",
        "    model=deployment_name, \n",
        "    prompt=start_phrase,\n",
        "    max_tokens=50,\n",
        "    temperature=0,\n",
        "    stop=[\"company\",\"United\"])\n",
        "print(response.choices[0].text)"
      ],
      "outputs": [
        {
          "output_type": "stream",
          "name": "stdout",
          "text": "168-year-old mutual organisation that has been providing financial services to its members since 1846. Nationwide is the world’s largest building society, with over 15 million members and 700 branches across the UK. Nationwide is committed to providing its members with\n"
        }
      ],
      "execution_count": 43,
      "metadata": {
        "jupyter": {
          "source_hidden": false,
          "outputs_hidden": false
        },
        "nteract": {
          "transient": {
            "deleting": false
          }
        },
        "gather": {
          "logged": 1724220703305
        }
      }
    },
    {
      "cell_type": "markdown",
      "source": [
        "https://learn.microsoft.com/en-us/azure/ai-services/openai/reference"
      ],
      "metadata": {
        "nteract": {
          "transient": {
            "deleting": false
          }
        }
      }
    }
  ],
  "metadata": {
    "kernelspec": {
      "name": "python310-sdkv2",
      "language": "python",
      "display_name": "Python 3.10 - SDK v2"
    },
    "language_info": {
      "name": "python",
      "version": "3.10.16",
      "mimetype": "text/x-python",
      "codemirror_mode": {
        "name": "ipython",
        "version": 3
      },
      "pygments_lexer": "ipython3",
      "nbconvert_exporter": "python",
      "file_extension": ".py"
    },
    "orig_nbformat": 4,
    "vscode": {
      "interpreter": {
        "hash": "2139c70ac98f3202d028164a545621647e07f47fd6f5d8ac55cf952bf7c15ed1"
      }
    },
    "microsoft": {
      "ms_spell_check": {
        "ms_spell_check_language": "en"
      },
      "host": {
        "AzureML": {
          "notebookHasBeenCompleted": true
        }
      }
    },
    "kernel_info": {
      "name": "python310-sdkv2"
    },
    "nteract": {
      "version": "nteract-front-end@1.0.0"
    }
  },
  "nbformat": 4,
  "nbformat_minor": 2
}